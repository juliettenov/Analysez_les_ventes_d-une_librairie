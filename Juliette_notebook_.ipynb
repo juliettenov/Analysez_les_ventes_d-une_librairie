{
 "cells": [
  {
   "cell_type": "code",
   "execution_count": 1,
   "id": "3fe7aaae",
   "metadata": {},
   "outputs": [],
   "source": [
    "import pandas as pd\n",
    "import datetime as dt\n",
    "import matplotlib.pyplot as plt\n",
    "import seaborn as sns\n",
    "import numpy as np\n",
    "import scipy.stats as st"
   ]
  },
  {
   "cell_type": "markdown",
   "id": "b0d23af5",
   "metadata": {},
   "source": [
    "## Customers"
   ]
  },
  {
   "cell_type": "code",
   "execution_count": 2,
   "id": "63b73689",
   "metadata": {},
   "outputs": [
    {
     "data": {
      "text/html": [
       "<div>\n",
       "<style scoped>\n",
       "    .dataframe tbody tr th:only-of-type {\n",
       "        vertical-align: middle;\n",
       "    }\n",
       "\n",
       "    .dataframe tbody tr th {\n",
       "        vertical-align: top;\n",
       "    }\n",
       "\n",
       "    .dataframe thead th {\n",
       "        text-align: right;\n",
       "    }\n",
       "</style>\n",
       "<table border=\"1\" class=\"dataframe\">\n",
       "  <thead>\n",
       "    <tr style=\"text-align: right;\">\n",
       "      <th></th>\n",
       "      <th>client_id</th>\n",
       "      <th>sex</th>\n",
       "      <th>birth</th>\n",
       "    </tr>\n",
       "  </thead>\n",
       "  <tbody>\n",
       "    <tr>\n",
       "      <th>0</th>\n",
       "      <td>c_4410</td>\n",
       "      <td>f</td>\n",
       "      <td>1967</td>\n",
       "    </tr>\n",
       "    <tr>\n",
       "      <th>1</th>\n",
       "      <td>c_7839</td>\n",
       "      <td>f</td>\n",
       "      <td>1975</td>\n",
       "    </tr>\n",
       "    <tr>\n",
       "      <th>2</th>\n",
       "      <td>c_1699</td>\n",
       "      <td>f</td>\n",
       "      <td>1984</td>\n",
       "    </tr>\n",
       "    <tr>\n",
       "      <th>3</th>\n",
       "      <td>c_5961</td>\n",
       "      <td>f</td>\n",
       "      <td>1962</td>\n",
       "    </tr>\n",
       "    <tr>\n",
       "      <th>4</th>\n",
       "      <td>c_5320</td>\n",
       "      <td>m</td>\n",
       "      <td>1943</td>\n",
       "    </tr>\n",
       "    <tr>\n",
       "      <th>...</th>\n",
       "      <td>...</td>\n",
       "      <td>...</td>\n",
       "      <td>...</td>\n",
       "    </tr>\n",
       "    <tr>\n",
       "      <th>8618</th>\n",
       "      <td>c_7920</td>\n",
       "      <td>m</td>\n",
       "      <td>1956</td>\n",
       "    </tr>\n",
       "    <tr>\n",
       "      <th>8619</th>\n",
       "      <td>c_7403</td>\n",
       "      <td>f</td>\n",
       "      <td>1970</td>\n",
       "    </tr>\n",
       "    <tr>\n",
       "      <th>8620</th>\n",
       "      <td>c_5119</td>\n",
       "      <td>m</td>\n",
       "      <td>1974</td>\n",
       "    </tr>\n",
       "    <tr>\n",
       "      <th>8621</th>\n",
       "      <td>c_5643</td>\n",
       "      <td>f</td>\n",
       "      <td>1968</td>\n",
       "    </tr>\n",
       "    <tr>\n",
       "      <th>8622</th>\n",
       "      <td>c_84</td>\n",
       "      <td>f</td>\n",
       "      <td>1982</td>\n",
       "    </tr>\n",
       "  </tbody>\n",
       "</table>\n",
       "<p>8623 rows × 3 columns</p>\n",
       "</div>"
      ],
      "text/plain": [
       "     client_id sex  birth\n",
       "0       c_4410   f   1967\n",
       "1       c_7839   f   1975\n",
       "2       c_1699   f   1984\n",
       "3       c_5961   f   1962\n",
       "4       c_5320   m   1943\n",
       "...        ...  ..    ...\n",
       "8618    c_7920   m   1956\n",
       "8619    c_7403   f   1970\n",
       "8620    c_5119   m   1974\n",
       "8621    c_5643   f   1968\n",
       "8622      c_84   f   1982\n",
       "\n",
       "[8623 rows x 3 columns]"
      ]
     },
     "execution_count": 2,
     "metadata": {},
     "output_type": "execute_result"
    }
   ],
   "source": [
    "# Import du fichier customers\n",
    "\n",
    "customers = pd.read_csv(\"customers.csv\")      \n",
    "customers"
   ]
  },
  {
   "cell_type": "code",
   "execution_count": 3,
   "id": "ed0a066a",
   "metadata": {},
   "outputs": [
    {
     "name": "stdout",
     "output_type": "stream",
     "text": [
      "<class 'pandas.core.frame.DataFrame'>\n",
      "RangeIndex: 8623 entries, 0 to 8622\n",
      "Data columns (total 3 columns):\n",
      " #   Column     Non-Null Count  Dtype \n",
      "---  ------     --------------  ----- \n",
      " 0   client_id  8623 non-null   object\n",
      " 1   sex        8623 non-null   object\n",
      " 2   birth      8623 non-null   int64 \n",
      "dtypes: int64(1), object(2)\n",
      "memory usage: 202.2+ KB\n"
     ]
    }
   ],
   "source": [
    "# Voir la composition de customers\n",
    "\n",
    "customers.info()"
   ]
  },
  {
   "cell_type": "markdown",
   "id": "d26d01c8",
   "metadata": {},
   "source": [
    "On voit qu'il n'y a aucunes valeurs manquantes"
   ]
  },
  {
   "cell_type": "code",
   "execution_count": 4,
   "id": "4c296589",
   "metadata": {},
   "outputs": [
    {
     "data": {
      "text/plain": [
       "client_id    8623\n",
       "sex             2\n",
       "birth          76\n",
       "dtype: int64"
      ]
     },
     "execution_count": 4,
     "metadata": {},
     "output_type": "execute_result"
    }
   ],
   "source": [
    "# Voir si les valeurs sont uniques\n",
    "\n",
    "customers.nunique()"
   ]
  },
  {
   "cell_type": "markdown",
   "id": "864d4e0a",
   "metadata": {},
   "source": [
    "On voit que les valeurs sont uniques"
   ]
  },
  {
   "cell_type": "code",
   "execution_count": 5,
   "id": "494578f1",
   "metadata": {},
   "outputs": [
    {
     "data": {
      "text/plain": [
       "client_id    0\n",
       "sex          0\n",
       "birth        0\n",
       "dtype: int64"
      ]
     },
     "execution_count": 5,
     "metadata": {},
     "output_type": "execute_result"
    }
   ],
   "source": [
    "# Voir s'il y a des NaN\n",
    "\n",
    "customers.isna().sum()"
   ]
  },
  {
   "cell_type": "markdown",
   "id": "7413cda2",
   "metadata": {},
   "source": [
    "On voit qu'il n'y a pas de NaN"
   ]
  },
  {
   "cell_type": "code",
   "execution_count": 6,
   "id": "239b38f8",
   "metadata": {
    "scrolled": true
   },
   "outputs": [
    {
     "data": {
      "text/plain": [
       "0"
      ]
     },
     "execution_count": 6,
     "metadata": {},
     "output_type": "execute_result"
    }
   ],
   "source": [
    "# Voir s'il y a des données dupliquées\n",
    "\n",
    "customers.duplicated().sum()"
   ]
  },
  {
   "cell_type": "markdown",
   "id": "9863f0ef",
   "metadata": {},
   "source": [
    "On voit qu'il n'y a aucunes valeurs manquantes"
   ]
  },
  {
   "cell_type": "markdown",
   "id": "a7ac3252",
   "metadata": {},
   "source": [
    "## Products"
   ]
  },
  {
   "cell_type": "code",
   "execution_count": 7,
   "id": "2c1ca97e",
   "metadata": {},
   "outputs": [
    {
     "data": {
      "text/html": [
       "<div>\n",
       "<style scoped>\n",
       "    .dataframe tbody tr th:only-of-type {\n",
       "        vertical-align: middle;\n",
       "    }\n",
       "\n",
       "    .dataframe tbody tr th {\n",
       "        vertical-align: top;\n",
       "    }\n",
       "\n",
       "    .dataframe thead th {\n",
       "        text-align: right;\n",
       "    }\n",
       "</style>\n",
       "<table border=\"1\" class=\"dataframe\">\n",
       "  <thead>\n",
       "    <tr style=\"text-align: right;\">\n",
       "      <th></th>\n",
       "      <th>id_prod</th>\n",
       "      <th>price</th>\n",
       "      <th>categ</th>\n",
       "    </tr>\n",
       "  </thead>\n",
       "  <tbody>\n",
       "    <tr>\n",
       "      <th>0</th>\n",
       "      <td>0_1421</td>\n",
       "      <td>19.99</td>\n",
       "      <td>0</td>\n",
       "    </tr>\n",
       "    <tr>\n",
       "      <th>1</th>\n",
       "      <td>0_1368</td>\n",
       "      <td>5.13</td>\n",
       "      <td>0</td>\n",
       "    </tr>\n",
       "    <tr>\n",
       "      <th>2</th>\n",
       "      <td>0_731</td>\n",
       "      <td>17.99</td>\n",
       "      <td>0</td>\n",
       "    </tr>\n",
       "    <tr>\n",
       "      <th>3</th>\n",
       "      <td>1_587</td>\n",
       "      <td>4.99</td>\n",
       "      <td>1</td>\n",
       "    </tr>\n",
       "    <tr>\n",
       "      <th>4</th>\n",
       "      <td>0_1507</td>\n",
       "      <td>3.99</td>\n",
       "      <td>0</td>\n",
       "    </tr>\n",
       "    <tr>\n",
       "      <th>...</th>\n",
       "      <td>...</td>\n",
       "      <td>...</td>\n",
       "      <td>...</td>\n",
       "    </tr>\n",
       "    <tr>\n",
       "      <th>3282</th>\n",
       "      <td>2_23</td>\n",
       "      <td>115.99</td>\n",
       "      <td>2</td>\n",
       "    </tr>\n",
       "    <tr>\n",
       "      <th>3283</th>\n",
       "      <td>0_146</td>\n",
       "      <td>17.14</td>\n",
       "      <td>0</td>\n",
       "    </tr>\n",
       "    <tr>\n",
       "      <th>3284</th>\n",
       "      <td>0_802</td>\n",
       "      <td>11.22</td>\n",
       "      <td>0</td>\n",
       "    </tr>\n",
       "    <tr>\n",
       "      <th>3285</th>\n",
       "      <td>1_140</td>\n",
       "      <td>38.56</td>\n",
       "      <td>1</td>\n",
       "    </tr>\n",
       "    <tr>\n",
       "      <th>3286</th>\n",
       "      <td>0_1920</td>\n",
       "      <td>25.16</td>\n",
       "      <td>0</td>\n",
       "    </tr>\n",
       "  </tbody>\n",
       "</table>\n",
       "<p>3287 rows × 3 columns</p>\n",
       "</div>"
      ],
      "text/plain": [
       "     id_prod   price  categ\n",
       "0     0_1421   19.99      0\n",
       "1     0_1368    5.13      0\n",
       "2      0_731   17.99      0\n",
       "3      1_587    4.99      1\n",
       "4     0_1507    3.99      0\n",
       "...      ...     ...    ...\n",
       "3282    2_23  115.99      2\n",
       "3283   0_146   17.14      0\n",
       "3284   0_802   11.22      0\n",
       "3285   1_140   38.56      1\n",
       "3286  0_1920   25.16      0\n",
       "\n",
       "[3287 rows x 3 columns]"
      ]
     },
     "execution_count": 7,
     "metadata": {},
     "output_type": "execute_result"
    }
   ],
   "source": [
    "# Import du fichier Products\n",
    "\n",
    "products = pd.read_csv(\"products.csv\")\n",
    "products"
   ]
  },
  {
   "cell_type": "code",
   "execution_count": 8,
   "id": "d1cd5806",
   "metadata": {},
   "outputs": [
    {
     "name": "stdout",
     "output_type": "stream",
     "text": [
      "<class 'pandas.core.frame.DataFrame'>\n",
      "RangeIndex: 3287 entries, 0 to 3286\n",
      "Data columns (total 3 columns):\n",
      " #   Column   Non-Null Count  Dtype  \n",
      "---  ------   --------------  -----  \n",
      " 0   id_prod  3287 non-null   object \n",
      " 1   price    3287 non-null   float64\n",
      " 2   categ    3287 non-null   int64  \n",
      "dtypes: float64(1), int64(1), object(1)\n",
      "memory usage: 77.2+ KB\n"
     ]
    }
   ],
   "source": [
    "# Composition de Products \n",
    "\n",
    "products.info()"
   ]
  },
  {
   "cell_type": "markdown",
   "id": "54764836",
   "metadata": {},
   "source": [
    "On voit qu'il n'y a aucunes valeurs manquantes"
   ]
  },
  {
   "cell_type": "code",
   "execution_count": 9,
   "id": "1f35c4f8",
   "metadata": {},
   "outputs": [
    {
     "data": {
      "text/plain": [
       "id_prod    3287\n",
       "price      1455\n",
       "categ         3\n",
       "dtype: int64"
      ]
     },
     "execution_count": 9,
     "metadata": {},
     "output_type": "execute_result"
    }
   ],
   "source": [
    "# Voir si les valeurs sont uniques\n",
    "\n",
    "products.nunique()"
   ]
  },
  {
   "cell_type": "markdown",
   "id": "d3475d03",
   "metadata": {},
   "source": [
    "On voit que les valeurs sont uniques"
   ]
  },
  {
   "cell_type": "code",
   "execution_count": 10,
   "id": "edfc4a76",
   "metadata": {},
   "outputs": [
    {
     "data": {
      "text/plain": [
       "0"
      ]
     },
     "execution_count": 10,
     "metadata": {},
     "output_type": "execute_result"
    }
   ],
   "source": [
    "# Voir s'il y a des valeurs dupliquées\n",
    "\n",
    "products.duplicated().sum()"
   ]
  },
  {
   "cell_type": "markdown",
   "id": "4323c6e2",
   "metadata": {},
   "source": [
    "On voit qu'il n'y a aucunes valeurs en double"
   ]
  },
  {
   "cell_type": "code",
   "execution_count": 11,
   "id": "4482d7ab",
   "metadata": {
    "scrolled": true
   },
   "outputs": [
    {
     "data": {
      "text/plain": [
       "id_prod    0\n",
       "price      0\n",
       "categ      0\n",
       "dtype: int64"
      ]
     },
     "execution_count": 11,
     "metadata": {},
     "output_type": "execute_result"
    }
   ],
   "source": [
    "#Voir s'il y a des NaN\n",
    "\n",
    "products.isna().sum()"
   ]
  },
  {
   "cell_type": "markdown",
   "id": "88013b05",
   "metadata": {},
   "source": [
    "On voit qu'il n'y a pas de NaN"
   ]
  },
  {
   "cell_type": "markdown",
   "id": "738e992f",
   "metadata": {},
   "source": [
    "## Transactions"
   ]
  },
  {
   "cell_type": "code",
   "execution_count": 12,
   "id": "cfa47802",
   "metadata": {},
   "outputs": [
    {
     "data": {
      "text/html": [
       "<div>\n",
       "<style scoped>\n",
       "    .dataframe tbody tr th:only-of-type {\n",
       "        vertical-align: middle;\n",
       "    }\n",
       "\n",
       "    .dataframe tbody tr th {\n",
       "        vertical-align: top;\n",
       "    }\n",
       "\n",
       "    .dataframe thead th {\n",
       "        text-align: right;\n",
       "    }\n",
       "</style>\n",
       "<table border=\"1\" class=\"dataframe\">\n",
       "  <thead>\n",
       "    <tr style=\"text-align: right;\">\n",
       "      <th></th>\n",
       "      <th>id_prod</th>\n",
       "      <th>date</th>\n",
       "      <th>session_id</th>\n",
       "      <th>client_id</th>\n",
       "    </tr>\n",
       "  </thead>\n",
       "  <tbody>\n",
       "    <tr>\n",
       "      <th>0</th>\n",
       "      <td>0_1518</td>\n",
       "      <td>2022-05-20 13:21:29.043970</td>\n",
       "      <td>s_211425</td>\n",
       "      <td>c_103</td>\n",
       "    </tr>\n",
       "    <tr>\n",
       "      <th>1</th>\n",
       "      <td>1_251</td>\n",
       "      <td>2022-02-02 07:55:19.149409</td>\n",
       "      <td>s_158752</td>\n",
       "      <td>c_8534</td>\n",
       "    </tr>\n",
       "    <tr>\n",
       "      <th>2</th>\n",
       "      <td>0_1277</td>\n",
       "      <td>2022-06-18 15:44:33.155329</td>\n",
       "      <td>s_225667</td>\n",
       "      <td>c_6714</td>\n",
       "    </tr>\n",
       "    <tr>\n",
       "      <th>3</th>\n",
       "      <td>2_209</td>\n",
       "      <td>2021-06-24 04:19:29.835891</td>\n",
       "      <td>s_52962</td>\n",
       "      <td>c_6941</td>\n",
       "    </tr>\n",
       "    <tr>\n",
       "      <th>4</th>\n",
       "      <td>0_1509</td>\n",
       "      <td>2023-01-11 08:22:08.194479</td>\n",
       "      <td>s_325227</td>\n",
       "      <td>c_4232</td>\n",
       "    </tr>\n",
       "    <tr>\n",
       "      <th>...</th>\n",
       "      <td>...</td>\n",
       "      <td>...</td>\n",
       "      <td>...</td>\n",
       "      <td>...</td>\n",
       "    </tr>\n",
       "    <tr>\n",
       "      <th>679527</th>\n",
       "      <td>0_1551</td>\n",
       "      <td>2022-01-15 13:05:06.246925</td>\n",
       "      <td>s_150195</td>\n",
       "      <td>c_8489</td>\n",
       "    </tr>\n",
       "    <tr>\n",
       "      <th>679528</th>\n",
       "      <td>1_639</td>\n",
       "      <td>2022-03-19 16:03:23.429229</td>\n",
       "      <td>s_181434</td>\n",
       "      <td>c_4370</td>\n",
       "    </tr>\n",
       "    <tr>\n",
       "      <th>679529</th>\n",
       "      <td>0_1425</td>\n",
       "      <td>2022-12-20 04:33:37.584749</td>\n",
       "      <td>s_314704</td>\n",
       "      <td>c_304</td>\n",
       "    </tr>\n",
       "    <tr>\n",
       "      <th>679530</th>\n",
       "      <td>0_1994</td>\n",
       "      <td>2021-07-16 20:36:35.350579</td>\n",
       "      <td>s_63204</td>\n",
       "      <td>c_2227</td>\n",
       "    </tr>\n",
       "    <tr>\n",
       "      <th>679531</th>\n",
       "      <td>1_523</td>\n",
       "      <td>2022-09-28 01:12:01.973763</td>\n",
       "      <td>s_274568</td>\n",
       "      <td>c_3873</td>\n",
       "    </tr>\n",
       "  </tbody>\n",
       "</table>\n",
       "<p>679532 rows × 4 columns</p>\n",
       "</div>"
      ],
      "text/plain": [
       "       id_prod                        date session_id client_id\n",
       "0       0_1518  2022-05-20 13:21:29.043970   s_211425     c_103\n",
       "1        1_251  2022-02-02 07:55:19.149409   s_158752    c_8534\n",
       "2       0_1277  2022-06-18 15:44:33.155329   s_225667    c_6714\n",
       "3        2_209  2021-06-24 04:19:29.835891    s_52962    c_6941\n",
       "4       0_1509  2023-01-11 08:22:08.194479   s_325227    c_4232\n",
       "...        ...                         ...        ...       ...\n",
       "679527  0_1551  2022-01-15 13:05:06.246925   s_150195    c_8489\n",
       "679528   1_639  2022-03-19 16:03:23.429229   s_181434    c_4370\n",
       "679529  0_1425  2022-12-20 04:33:37.584749   s_314704     c_304\n",
       "679530  0_1994  2021-07-16 20:36:35.350579    s_63204    c_2227\n",
       "679531   1_523  2022-09-28 01:12:01.973763   s_274568    c_3873\n",
       "\n",
       "[679532 rows x 4 columns]"
      ]
     },
     "execution_count": 12,
     "metadata": {},
     "output_type": "execute_result"
    }
   ],
   "source": [
    "transactions = pd.read_csv(\"transactions.csv\")\n",
    "transactions"
   ]
  },
  {
   "cell_type": "code",
   "execution_count": 13,
   "id": "5f0a4c1e",
   "metadata": {},
   "outputs": [
    {
     "name": "stdout",
     "output_type": "stream",
     "text": [
      "<class 'pandas.core.frame.DataFrame'>\n",
      "RangeIndex: 679532 entries, 0 to 679531\n",
      "Data columns (total 4 columns):\n",
      " #   Column      Non-Null Count   Dtype \n",
      "---  ------      --------------   ----- \n",
      " 0   id_prod     679532 non-null  object\n",
      " 1   date        679532 non-null  object\n",
      " 2   session_id  679532 non-null  object\n",
      " 3   client_id   679532 non-null  object\n",
      "dtypes: object(4)\n",
      "memory usage: 20.7+ MB\n"
     ]
    }
   ],
   "source": [
    "transactions.info()"
   ]
  },
  {
   "cell_type": "markdown",
   "id": "54c6b107",
   "metadata": {},
   "source": [
    "On voit qu'il n'y a aucunes valeurs manquantes"
   ]
  },
  {
   "cell_type": "code",
   "execution_count": 14,
   "id": "c632ba79",
   "metadata": {
    "scrolled": true
   },
   "outputs": [
    {
     "data": {
      "text/plain": [
       "id_prod         3267\n",
       "date          679371\n",
       "session_id    342316\n",
       "client_id       8602\n",
       "dtype: int64"
      ]
     },
     "execution_count": 14,
     "metadata": {},
     "output_type": "execute_result"
    }
   ],
   "source": [
    "transactions.nunique()"
   ]
  },
  {
   "cell_type": "markdown",
   "id": "572645bc",
   "metadata": {},
   "source": [
    "On voit que les valeurs sont uniques mais toutes ne le sont pas"
   ]
  },
  {
   "cell_type": "code",
   "execution_count": 15,
   "id": "29106d40",
   "metadata": {
    "scrolled": true
   },
   "outputs": [
    {
     "data": {
      "text/plain": [
       "id_prod       0\n",
       "date          0\n",
       "session_id    0\n",
       "client_id     0\n",
       "dtype: int64"
      ]
     },
     "execution_count": 15,
     "metadata": {},
     "output_type": "execute_result"
    }
   ],
   "source": [
    "#Confirmation qu'il n'y a pas de valeurs nulles, après l'aperçu dans info\n",
    "transactions.isna().sum()"
   ]
  },
  {
   "cell_type": "markdown",
   "id": "7466b011",
   "metadata": {},
   "source": [
    "On voit qu'il y a aucunes valeurs nulles"
   ]
  },
  {
   "cell_type": "code",
   "execution_count": 16,
   "id": "3b4d25a2",
   "metadata": {},
   "outputs": [
    {
     "data": {
      "text/plain": [
       "126"
      ]
     },
     "execution_count": 16,
     "metadata": {},
     "output_type": "execute_result"
    }
   ],
   "source": [
    "transactions.duplicated().sum()"
   ]
  },
  {
   "cell_type": "markdown",
   "id": "6c9aa82d",
   "metadata": {},
   "source": [
    "On voit qu'il y a 126 valeurs en double"
   ]
  },
  {
   "cell_type": "code",
   "execution_count": 17,
   "id": "323ec77b",
   "metadata": {},
   "outputs": [
    {
     "data": {
      "text/html": [
       "<div>\n",
       "<style scoped>\n",
       "    .dataframe tbody tr th:only-of-type {\n",
       "        vertical-align: middle;\n",
       "    }\n",
       "\n",
       "    .dataframe tbody tr th {\n",
       "        vertical-align: top;\n",
       "    }\n",
       "\n",
       "    .dataframe thead th {\n",
       "        text-align: right;\n",
       "    }\n",
       "</style>\n",
       "<table border=\"1\" class=\"dataframe\">\n",
       "  <thead>\n",
       "    <tr style=\"text-align: right;\">\n",
       "      <th></th>\n",
       "      <th>id_prod</th>\n",
       "      <th>date</th>\n",
       "      <th>session_id</th>\n",
       "      <th>client_id</th>\n",
       "    </tr>\n",
       "  </thead>\n",
       "  <tbody>\n",
       "    <tr>\n",
       "      <th>27778</th>\n",
       "      <td>T_0</td>\n",
       "      <td>test_2021-03-01 02:30:02.237437</td>\n",
       "      <td>s_0</td>\n",
       "      <td>ct_1</td>\n",
       "    </tr>\n",
       "    <tr>\n",
       "      <th>52424</th>\n",
       "      <td>T_0</td>\n",
       "      <td>test_2021-03-01 02:30:02.237419</td>\n",
       "      <td>s_0</td>\n",
       "      <td>ct_0</td>\n",
       "    </tr>\n",
       "    <tr>\n",
       "      <th>96687</th>\n",
       "      <td>T_0</td>\n",
       "      <td>test_2021-03-01 02:30:02.237412</td>\n",
       "      <td>s_0</td>\n",
       "      <td>ct_1</td>\n",
       "    </tr>\n",
       "    <tr>\n",
       "      <th>130188</th>\n",
       "      <td>T_0</td>\n",
       "      <td>test_2021-03-01 02:30:02.237419</td>\n",
       "      <td>s_0</td>\n",
       "      <td>ct_0</td>\n",
       "    </tr>\n",
       "    <tr>\n",
       "      <th>139339</th>\n",
       "      <td>T_0</td>\n",
       "      <td>test_2021-03-01 02:30:02.237443</td>\n",
       "      <td>s_0</td>\n",
       "      <td>ct_1</td>\n",
       "    </tr>\n",
       "    <tr>\n",
       "      <th>...</th>\n",
       "      <td>...</td>\n",
       "      <td>...</td>\n",
       "      <td>...</td>\n",
       "      <td>...</td>\n",
       "    </tr>\n",
       "    <tr>\n",
       "      <th>653098</th>\n",
       "      <td>T_0</td>\n",
       "      <td>test_2021-03-01 02:30:02.237432</td>\n",
       "      <td>s_0</td>\n",
       "      <td>ct_0</td>\n",
       "    </tr>\n",
       "    <tr>\n",
       "      <th>657830</th>\n",
       "      <td>T_0</td>\n",
       "      <td>test_2021-03-01 02:30:02.237417</td>\n",
       "      <td>s_0</td>\n",
       "      <td>ct_0</td>\n",
       "    </tr>\n",
       "    <tr>\n",
       "      <th>662081</th>\n",
       "      <td>T_0</td>\n",
       "      <td>test_2021-03-01 02:30:02.237427</td>\n",
       "      <td>s_0</td>\n",
       "      <td>ct_1</td>\n",
       "    </tr>\n",
       "    <tr>\n",
       "      <th>671647</th>\n",
       "      <td>T_0</td>\n",
       "      <td>test_2021-03-01 02:30:02.237424</td>\n",
       "      <td>s_0</td>\n",
       "      <td>ct_1</td>\n",
       "    </tr>\n",
       "    <tr>\n",
       "      <th>679180</th>\n",
       "      <td>T_0</td>\n",
       "      <td>test_2021-03-01 02:30:02.237425</td>\n",
       "      <td>s_0</td>\n",
       "      <td>ct_1</td>\n",
       "    </tr>\n",
       "  </tbody>\n",
       "</table>\n",
       "<p>126 rows × 4 columns</p>\n",
       "</div>"
      ],
      "text/plain": [
       "       id_prod                             date session_id client_id\n",
       "27778      T_0  test_2021-03-01 02:30:02.237437        s_0      ct_1\n",
       "52424      T_0  test_2021-03-01 02:30:02.237419        s_0      ct_0\n",
       "96687      T_0  test_2021-03-01 02:30:02.237412        s_0      ct_1\n",
       "130188     T_0  test_2021-03-01 02:30:02.237419        s_0      ct_0\n",
       "139339     T_0  test_2021-03-01 02:30:02.237443        s_0      ct_1\n",
       "...        ...                              ...        ...       ...\n",
       "653098     T_0  test_2021-03-01 02:30:02.237432        s_0      ct_0\n",
       "657830     T_0  test_2021-03-01 02:30:02.237417        s_0      ct_0\n",
       "662081     T_0  test_2021-03-01 02:30:02.237427        s_0      ct_1\n",
       "671647     T_0  test_2021-03-01 02:30:02.237424        s_0      ct_1\n",
       "679180     T_0  test_2021-03-01 02:30:02.237425        s_0      ct_1\n",
       "\n",
       "[126 rows x 4 columns]"
      ]
     },
     "execution_count": 17,
     "metadata": {},
     "output_type": "execute_result"
    }
   ],
   "source": [
    "# On regarde qu'elles sont les valeurs en double\n",
    "duplicate = transactions[transactions.duplicated()]\n",
    "duplicate"
   ]
  },
  {
   "cell_type": "markdown",
   "id": "96a8105c",
   "metadata": {},
   "source": [
    "On s'apercoit que toutes entrées ont la même date , la même heure et sont des test , surement faites par les developpeurs de l'équipe"
   ]
  },
  {
   "cell_type": "code",
   "execution_count": 18,
   "id": "7418090d",
   "metadata": {},
   "outputs": [
    {
     "data": {
      "text/html": [
       "<div>\n",
       "<style scoped>\n",
       "    .dataframe tbody tr th:only-of-type {\n",
       "        vertical-align: middle;\n",
       "    }\n",
       "\n",
       "    .dataframe tbody tr th {\n",
       "        vertical-align: top;\n",
       "    }\n",
       "\n",
       "    .dataframe thead th {\n",
       "        text-align: right;\n",
       "    }\n",
       "</style>\n",
       "<table border=\"1\" class=\"dataframe\">\n",
       "  <thead>\n",
       "    <tr style=\"text-align: right;\">\n",
       "      <th></th>\n",
       "      <th>id_prod</th>\n",
       "      <th>date</th>\n",
       "      <th>session_id</th>\n",
       "      <th>client_id</th>\n",
       "    </tr>\n",
       "  </thead>\n",
       "  <tbody>\n",
       "    <tr>\n",
       "      <th>0</th>\n",
       "      <td>0_1518</td>\n",
       "      <td>2022-05-20 13:21:29.043970</td>\n",
       "      <td>s_211425</td>\n",
       "      <td>c_103</td>\n",
       "    </tr>\n",
       "    <tr>\n",
       "      <th>1</th>\n",
       "      <td>1_251</td>\n",
       "      <td>2022-02-02 07:55:19.149409</td>\n",
       "      <td>s_158752</td>\n",
       "      <td>c_8534</td>\n",
       "    </tr>\n",
       "    <tr>\n",
       "      <th>2</th>\n",
       "      <td>0_1277</td>\n",
       "      <td>2022-06-18 15:44:33.155329</td>\n",
       "      <td>s_225667</td>\n",
       "      <td>c_6714</td>\n",
       "    </tr>\n",
       "    <tr>\n",
       "      <th>3</th>\n",
       "      <td>2_209</td>\n",
       "      <td>2021-06-24 04:19:29.835891</td>\n",
       "      <td>s_52962</td>\n",
       "      <td>c_6941</td>\n",
       "    </tr>\n",
       "    <tr>\n",
       "      <th>4</th>\n",
       "      <td>0_1509</td>\n",
       "      <td>2023-01-11 08:22:08.194479</td>\n",
       "      <td>s_325227</td>\n",
       "      <td>c_4232</td>\n",
       "    </tr>\n",
       "    <tr>\n",
       "      <th>...</th>\n",
       "      <td>...</td>\n",
       "      <td>...</td>\n",
       "      <td>...</td>\n",
       "      <td>...</td>\n",
       "    </tr>\n",
       "    <tr>\n",
       "      <th>679527</th>\n",
       "      <td>0_1551</td>\n",
       "      <td>2022-01-15 13:05:06.246925</td>\n",
       "      <td>s_150195</td>\n",
       "      <td>c_8489</td>\n",
       "    </tr>\n",
       "    <tr>\n",
       "      <th>679528</th>\n",
       "      <td>1_639</td>\n",
       "      <td>2022-03-19 16:03:23.429229</td>\n",
       "      <td>s_181434</td>\n",
       "      <td>c_4370</td>\n",
       "    </tr>\n",
       "    <tr>\n",
       "      <th>679529</th>\n",
       "      <td>0_1425</td>\n",
       "      <td>2022-12-20 04:33:37.584749</td>\n",
       "      <td>s_314704</td>\n",
       "      <td>c_304</td>\n",
       "    </tr>\n",
       "    <tr>\n",
       "      <th>679530</th>\n",
       "      <td>0_1994</td>\n",
       "      <td>2021-07-16 20:36:35.350579</td>\n",
       "      <td>s_63204</td>\n",
       "      <td>c_2227</td>\n",
       "    </tr>\n",
       "    <tr>\n",
       "      <th>679531</th>\n",
       "      <td>1_523</td>\n",
       "      <td>2022-09-28 01:12:01.973763</td>\n",
       "      <td>s_274568</td>\n",
       "      <td>c_3873</td>\n",
       "    </tr>\n",
       "  </tbody>\n",
       "</table>\n",
       "<p>679406 rows × 4 columns</p>\n",
       "</div>"
      ],
      "text/plain": [
       "       id_prod                        date session_id client_id\n",
       "0       0_1518  2022-05-20 13:21:29.043970   s_211425     c_103\n",
       "1        1_251  2022-02-02 07:55:19.149409   s_158752    c_8534\n",
       "2       0_1277  2022-06-18 15:44:33.155329   s_225667    c_6714\n",
       "3        2_209  2021-06-24 04:19:29.835891    s_52962    c_6941\n",
       "4       0_1509  2023-01-11 08:22:08.194479   s_325227    c_4232\n",
       "...        ...                         ...        ...       ...\n",
       "679527  0_1551  2022-01-15 13:05:06.246925   s_150195    c_8489\n",
       "679528   1_639  2022-03-19 16:03:23.429229   s_181434    c_4370\n",
       "679529  0_1425  2022-12-20 04:33:37.584749   s_314704     c_304\n",
       "679530  0_1994  2021-07-16 20:36:35.350579    s_63204    c_2227\n",
       "679531   1_523  2022-09-28 01:12:01.973763   s_274568    c_3873\n",
       "\n",
       "[679406 rows x 4 columns]"
      ]
     },
     "execution_count": 18,
     "metadata": {},
     "output_type": "execute_result"
    }
   ],
   "source": [
    "# On supprime les valeurs dupliquées puisqu'elles ne sont pas utiles\n",
    "\n",
    "transactions = transactions.drop_duplicates()\n",
    "transactions"
   ]
  },
  {
   "cell_type": "code",
   "execution_count": 19,
   "id": "2659ca27",
   "metadata": {},
   "outputs": [
    {
     "data": {
      "text/plain": [
       "0"
      ]
     },
     "execution_count": 19,
     "metadata": {},
     "output_type": "execute_result"
    }
   ],
   "source": [
    "#On verifie qu'il n'y a plus de valeurs dupliquées\n",
    "\n",
    "transactions.duplicated().sum()"
   ]
  },
  {
   "cell_type": "code",
   "execution_count": 20,
   "id": "37a9a5c8",
   "metadata": {},
   "outputs": [
    {
     "data": {
      "text/plain": [
       "id_prod  date                             session_id  client_id\n",
       "0_0      2021-03-01 13:45:51.575117       s_282       c_5152       1\n",
       "1_285    2021-07-18 09:48:19.014524       s_63899     c_7793       1\n",
       "         2021-07-18 15:26:52.987797       s_64006     c_929        1\n",
       "         2021-07-18 18:28:11.279593       s_64082     c_8356       1\n",
       "         2021-07-19 22:07:41.376624       s_64567     c_3182       1\n",
       "                                                                  ..\n",
       "0_1486   2021-10-19 10:55:26.309106       s_107043    c_8574       1\n",
       "         2021-10-19 19:40:46.255072       s_107217    c_8081       1\n",
       "         2021-10-20 09:35:53.715307       s_107500    c_6820       1\n",
       "         2021-10-21 16:10:11.944606       s_108097    c_459        1\n",
       "T_0      test_2021-03-01 02:30:02.237450  s_0         ct_0         1\n",
       "Length: 679406, dtype: int64"
      ]
     },
     "execution_count": 20,
     "metadata": {},
     "output_type": "execute_result"
    }
   ],
   "source": [
    "transactions.value_counts()"
   ]
  },
  {
   "cell_type": "code",
   "execution_count": 21,
   "id": "bdc819b7",
   "metadata": {},
   "outputs": [
    {
     "data": {
      "text/html": [
       "<div>\n",
       "<style scoped>\n",
       "    .dataframe tbody tr th:only-of-type {\n",
       "        vertical-align: middle;\n",
       "    }\n",
       "\n",
       "    .dataframe tbody tr th {\n",
       "        vertical-align: top;\n",
       "    }\n",
       "\n",
       "    .dataframe thead th {\n",
       "        text-align: right;\n",
       "    }\n",
       "</style>\n",
       "<table border=\"1\" class=\"dataframe\">\n",
       "  <thead>\n",
       "    <tr style=\"text-align: right;\">\n",
       "      <th></th>\n",
       "      <th>id_prod</th>\n",
       "      <th>date</th>\n",
       "      <th>session_id</th>\n",
       "      <th>client_id</th>\n",
       "    </tr>\n",
       "  </thead>\n",
       "  <tbody>\n",
       "    <tr>\n",
       "      <th>3019</th>\n",
       "      <td>T_0</td>\n",
       "      <td>test_2021-03-01 02:30:02.237419</td>\n",
       "      <td>s_0</td>\n",
       "      <td>ct_0</td>\n",
       "    </tr>\n",
       "    <tr>\n",
       "      <th>5138</th>\n",
       "      <td>T_0</td>\n",
       "      <td>test_2021-03-01 02:30:02.237425</td>\n",
       "      <td>s_0</td>\n",
       "      <td>ct_0</td>\n",
       "    </tr>\n",
       "    <tr>\n",
       "      <th>9668</th>\n",
       "      <td>T_0</td>\n",
       "      <td>test_2021-03-01 02:30:02.237437</td>\n",
       "      <td>s_0</td>\n",
       "      <td>ct_1</td>\n",
       "    </tr>\n",
       "    <tr>\n",
       "      <th>10728</th>\n",
       "      <td>T_0</td>\n",
       "      <td>test_2021-03-01 02:30:02.237436</td>\n",
       "      <td>s_0</td>\n",
       "      <td>ct_0</td>\n",
       "    </tr>\n",
       "    <tr>\n",
       "      <th>15292</th>\n",
       "      <td>T_0</td>\n",
       "      <td>test_2021-03-01 02:30:02.237430</td>\n",
       "      <td>s_0</td>\n",
       "      <td>ct_0</td>\n",
       "    </tr>\n",
       "    <tr>\n",
       "      <th>...</th>\n",
       "      <td>...</td>\n",
       "      <td>...</td>\n",
       "      <td>...</td>\n",
       "      <td>...</td>\n",
       "    </tr>\n",
       "    <tr>\n",
       "      <th>577324</th>\n",
       "      <td>T_0</td>\n",
       "      <td>test_2021-03-01 02:30:02.237424</td>\n",
       "      <td>s_0</td>\n",
       "      <td>ct_0</td>\n",
       "    </tr>\n",
       "    <tr>\n",
       "      <th>593065</th>\n",
       "      <td>T_0</td>\n",
       "      <td>test_2021-03-01 02:30:02.237422</td>\n",
       "      <td>s_0</td>\n",
       "      <td>ct_1</td>\n",
       "    </tr>\n",
       "    <tr>\n",
       "      <th>607892</th>\n",
       "      <td>T_0</td>\n",
       "      <td>test_2021-03-01 02:30:02.237412</td>\n",
       "      <td>s_0</td>\n",
       "      <td>ct_0</td>\n",
       "    </tr>\n",
       "    <tr>\n",
       "      <th>626049</th>\n",
       "      <td>T_0</td>\n",
       "      <td>test_2021-03-01 02:30:02.237422</td>\n",
       "      <td>s_0</td>\n",
       "      <td>ct_0</td>\n",
       "    </tr>\n",
       "    <tr>\n",
       "      <th>670680</th>\n",
       "      <td>T_0</td>\n",
       "      <td>test_2021-03-01 02:30:02.237449</td>\n",
       "      <td>s_0</td>\n",
       "      <td>ct_1</td>\n",
       "    </tr>\n",
       "  </tbody>\n",
       "</table>\n",
       "<p>74 rows × 4 columns</p>\n",
       "</div>"
      ],
      "text/plain": [
       "       id_prod                             date session_id client_id\n",
       "3019       T_0  test_2021-03-01 02:30:02.237419        s_0      ct_0\n",
       "5138       T_0  test_2021-03-01 02:30:02.237425        s_0      ct_0\n",
       "9668       T_0  test_2021-03-01 02:30:02.237437        s_0      ct_1\n",
       "10728      T_0  test_2021-03-01 02:30:02.237436        s_0      ct_0\n",
       "15292      T_0  test_2021-03-01 02:30:02.237430        s_0      ct_0\n",
       "...        ...                              ...        ...       ...\n",
       "577324     T_0  test_2021-03-01 02:30:02.237424        s_0      ct_0\n",
       "593065     T_0  test_2021-03-01 02:30:02.237422        s_0      ct_1\n",
       "607892     T_0  test_2021-03-01 02:30:02.237412        s_0      ct_0\n",
       "626049     T_0  test_2021-03-01 02:30:02.237422        s_0      ct_0\n",
       "670680     T_0  test_2021-03-01 02:30:02.237449        s_0      ct_1\n",
       "\n",
       "[74 rows x 4 columns]"
      ]
     },
     "execution_count": 21,
     "metadata": {},
     "output_type": "execute_result"
    }
   ],
   "source": [
    "# Je regarde s'il reste des valeurs 'test'\n",
    "\n",
    "transactions [transactions['date'].str.startswith('test')]"
   ]
  },
  {
   "cell_type": "markdown",
   "id": "1b276a6c",
   "metadata": {},
   "source": [
    "Il en reste 74, je dois les traiter"
   ]
  },
  {
   "cell_type": "code",
   "execution_count": 22,
   "id": "7a1b5f94",
   "metadata": {
    "scrolled": true
   },
   "outputs": [
    {
     "data": {
      "text/html": [
       "<div>\n",
       "<style scoped>\n",
       "    .dataframe tbody tr th:only-of-type {\n",
       "        vertical-align: middle;\n",
       "    }\n",
       "\n",
       "    .dataframe tbody tr th {\n",
       "        vertical-align: top;\n",
       "    }\n",
       "\n",
       "    .dataframe thead th {\n",
       "        text-align: right;\n",
       "    }\n",
       "</style>\n",
       "<table border=\"1\" class=\"dataframe\">\n",
       "  <thead>\n",
       "    <tr style=\"text-align: right;\">\n",
       "      <th></th>\n",
       "      <th>id_prod</th>\n",
       "      <th>date</th>\n",
       "      <th>session_id</th>\n",
       "      <th>client_id</th>\n",
       "    </tr>\n",
       "  </thead>\n",
       "  <tbody>\n",
       "    <tr>\n",
       "      <th>0</th>\n",
       "      <td>0_1518</td>\n",
       "      <td>2022-05-20 13:21:29.043970</td>\n",
       "      <td>s_211425</td>\n",
       "      <td>c_103</td>\n",
       "    </tr>\n",
       "    <tr>\n",
       "      <th>1</th>\n",
       "      <td>1_251</td>\n",
       "      <td>2022-02-02 07:55:19.149409</td>\n",
       "      <td>s_158752</td>\n",
       "      <td>c_8534</td>\n",
       "    </tr>\n",
       "    <tr>\n",
       "      <th>2</th>\n",
       "      <td>0_1277</td>\n",
       "      <td>2022-06-18 15:44:33.155329</td>\n",
       "      <td>s_225667</td>\n",
       "      <td>c_6714</td>\n",
       "    </tr>\n",
       "    <tr>\n",
       "      <th>3</th>\n",
       "      <td>2_209</td>\n",
       "      <td>2021-06-24 04:19:29.835891</td>\n",
       "      <td>s_52962</td>\n",
       "      <td>c_6941</td>\n",
       "    </tr>\n",
       "    <tr>\n",
       "      <th>4</th>\n",
       "      <td>0_1509</td>\n",
       "      <td>2023-01-11 08:22:08.194479</td>\n",
       "      <td>s_325227</td>\n",
       "      <td>c_4232</td>\n",
       "    </tr>\n",
       "    <tr>\n",
       "      <th>...</th>\n",
       "      <td>...</td>\n",
       "      <td>...</td>\n",
       "      <td>...</td>\n",
       "      <td>...</td>\n",
       "    </tr>\n",
       "    <tr>\n",
       "      <th>679527</th>\n",
       "      <td>0_1551</td>\n",
       "      <td>2022-01-15 13:05:06.246925</td>\n",
       "      <td>s_150195</td>\n",
       "      <td>c_8489</td>\n",
       "    </tr>\n",
       "    <tr>\n",
       "      <th>679528</th>\n",
       "      <td>1_639</td>\n",
       "      <td>2022-03-19 16:03:23.429229</td>\n",
       "      <td>s_181434</td>\n",
       "      <td>c_4370</td>\n",
       "    </tr>\n",
       "    <tr>\n",
       "      <th>679529</th>\n",
       "      <td>0_1425</td>\n",
       "      <td>2022-12-20 04:33:37.584749</td>\n",
       "      <td>s_314704</td>\n",
       "      <td>c_304</td>\n",
       "    </tr>\n",
       "    <tr>\n",
       "      <th>679530</th>\n",
       "      <td>0_1994</td>\n",
       "      <td>2021-07-16 20:36:35.350579</td>\n",
       "      <td>s_63204</td>\n",
       "      <td>c_2227</td>\n",
       "    </tr>\n",
       "    <tr>\n",
       "      <th>679531</th>\n",
       "      <td>1_523</td>\n",
       "      <td>2022-09-28 01:12:01.973763</td>\n",
       "      <td>s_274568</td>\n",
       "      <td>c_3873</td>\n",
       "    </tr>\n",
       "  </tbody>\n",
       "</table>\n",
       "<p>679332 rows × 4 columns</p>\n",
       "</div>"
      ],
      "text/plain": [
       "       id_prod                        date session_id client_id\n",
       "0       0_1518  2022-05-20 13:21:29.043970   s_211425     c_103\n",
       "1        1_251  2022-02-02 07:55:19.149409   s_158752    c_8534\n",
       "2       0_1277  2022-06-18 15:44:33.155329   s_225667    c_6714\n",
       "3        2_209  2021-06-24 04:19:29.835891    s_52962    c_6941\n",
       "4       0_1509  2023-01-11 08:22:08.194479   s_325227    c_4232\n",
       "...        ...                         ...        ...       ...\n",
       "679527  0_1551  2022-01-15 13:05:06.246925   s_150195    c_8489\n",
       "679528   1_639  2022-03-19 16:03:23.429229   s_181434    c_4370\n",
       "679529  0_1425  2022-12-20 04:33:37.584749   s_314704     c_304\n",
       "679530  0_1994  2021-07-16 20:36:35.350579    s_63204    c_2227\n",
       "679531   1_523  2022-09-28 01:12:01.973763   s_274568    c_3873\n",
       "\n",
       "[679332 rows x 4 columns]"
      ]
     },
     "execution_count": 22,
     "metadata": {},
     "output_type": "execute_result"
    }
   ],
   "source": [
    "# traitement des test restant\n",
    "transactions = transactions [~transactions['date'].str.startswith('test')]\n",
    "transactions"
   ]
  },
  {
   "cell_type": "markdown",
   "id": "049880c4",
   "metadata": {},
   "source": [
    "Ce sont des valeurs qui ne sont pas utiles , on les enleve"
   ]
  },
  {
   "cell_type": "code",
   "execution_count": 23,
   "id": "00695102",
   "metadata": {
    "scrolled": true
   },
   "outputs": [
    {
     "data": {
      "text/html": [
       "<div>\n",
       "<style scoped>\n",
       "    .dataframe tbody tr th:only-of-type {\n",
       "        vertical-align: middle;\n",
       "    }\n",
       "\n",
       "    .dataframe tbody tr th {\n",
       "        vertical-align: top;\n",
       "    }\n",
       "\n",
       "    .dataframe thead th {\n",
       "        text-align: right;\n",
       "    }\n",
       "</style>\n",
       "<table border=\"1\" class=\"dataframe\">\n",
       "  <thead>\n",
       "    <tr style=\"text-align: right;\">\n",
       "      <th></th>\n",
       "      <th>id_prod</th>\n",
       "      <th>date</th>\n",
       "      <th>session_id</th>\n",
       "      <th>client_id</th>\n",
       "      <th>sex</th>\n",
       "      <th>birth</th>\n",
       "      <th>_merge</th>\n",
       "    </tr>\n",
       "  </thead>\n",
       "  <tbody>\n",
       "    <tr>\n",
       "      <th>0</th>\n",
       "      <td>0_1518</td>\n",
       "      <td>2022-05-20 13:21:29.043970</td>\n",
       "      <td>s_211425</td>\n",
       "      <td>c_103</td>\n",
       "      <td>f</td>\n",
       "      <td>1986</td>\n",
       "      <td>both</td>\n",
       "    </tr>\n",
       "    <tr>\n",
       "      <th>1</th>\n",
       "      <td>0_1627</td>\n",
       "      <td>2022-06-18 05:55:31.816994</td>\n",
       "      <td>s_225494</td>\n",
       "      <td>c_103</td>\n",
       "      <td>f</td>\n",
       "      <td>1986</td>\n",
       "      <td>both</td>\n",
       "    </tr>\n",
       "    <tr>\n",
       "      <th>2</th>\n",
       "      <td>0_1104</td>\n",
       "      <td>2023-02-08 17:31:06.898425</td>\n",
       "      <td>s_338755</td>\n",
       "      <td>c_103</td>\n",
       "      <td>f</td>\n",
       "      <td>1986</td>\n",
       "      <td>both</td>\n",
       "    </tr>\n",
       "    <tr>\n",
       "      <th>3</th>\n",
       "      <td>0_1390</td>\n",
       "      <td>2021-04-20 06:18:39.939761</td>\n",
       "      <td>s_23078</td>\n",
       "      <td>c_103</td>\n",
       "      <td>f</td>\n",
       "      <td>1986</td>\n",
       "      <td>both</td>\n",
       "    </tr>\n",
       "    <tr>\n",
       "      <th>4</th>\n",
       "      <td>0_1547</td>\n",
       "      <td>2022-03-15 19:54:53.904123</td>\n",
       "      <td>s_179629</td>\n",
       "      <td>c_103</td>\n",
       "      <td>f</td>\n",
       "      <td>1986</td>\n",
       "      <td>both</td>\n",
       "    </tr>\n",
       "    <tr>\n",
       "      <th>...</th>\n",
       "      <td>...</td>\n",
       "      <td>...</td>\n",
       "      <td>...</td>\n",
       "      <td>...</td>\n",
       "      <td>...</td>\n",
       "      <td>...</td>\n",
       "      <td>...</td>\n",
       "    </tr>\n",
       "    <tr>\n",
       "      <th>679350</th>\n",
       "      <td>NaN</td>\n",
       "      <td>NaN</td>\n",
       "      <td>NaN</td>\n",
       "      <td>c_7584</td>\n",
       "      <td>f</td>\n",
       "      <td>1960</td>\n",
       "      <td>right_only</td>\n",
       "    </tr>\n",
       "    <tr>\n",
       "      <th>679351</th>\n",
       "      <td>NaN</td>\n",
       "      <td>NaN</td>\n",
       "      <td>NaN</td>\n",
       "      <td>c_90</td>\n",
       "      <td>m</td>\n",
       "      <td>2001</td>\n",
       "      <td>right_only</td>\n",
       "    </tr>\n",
       "    <tr>\n",
       "      <th>679352</th>\n",
       "      <td>NaN</td>\n",
       "      <td>NaN</td>\n",
       "      <td>NaN</td>\n",
       "      <td>c_587</td>\n",
       "      <td>m</td>\n",
       "      <td>1993</td>\n",
       "      <td>right_only</td>\n",
       "    </tr>\n",
       "    <tr>\n",
       "      <th>679353</th>\n",
       "      <td>NaN</td>\n",
       "      <td>NaN</td>\n",
       "      <td>NaN</td>\n",
       "      <td>ct_1</td>\n",
       "      <td>m</td>\n",
       "      <td>2001</td>\n",
       "      <td>right_only</td>\n",
       "    </tr>\n",
       "    <tr>\n",
       "      <th>679354</th>\n",
       "      <td>NaN</td>\n",
       "      <td>NaN</td>\n",
       "      <td>NaN</td>\n",
       "      <td>c_3526</td>\n",
       "      <td>m</td>\n",
       "      <td>1956</td>\n",
       "      <td>right_only</td>\n",
       "    </tr>\n",
       "  </tbody>\n",
       "</table>\n",
       "<p>679355 rows × 7 columns</p>\n",
       "</div>"
      ],
      "text/plain": [
       "       id_prod                        date session_id client_id sex  birth  \\\n",
       "0       0_1518  2022-05-20 13:21:29.043970   s_211425     c_103   f   1986   \n",
       "1       0_1627  2022-06-18 05:55:31.816994   s_225494     c_103   f   1986   \n",
       "2       0_1104  2023-02-08 17:31:06.898425   s_338755     c_103   f   1986   \n",
       "3       0_1390  2021-04-20 06:18:39.939761    s_23078     c_103   f   1986   \n",
       "4       0_1547  2022-03-15 19:54:53.904123   s_179629     c_103   f   1986   \n",
       "...        ...                         ...        ...       ...  ..    ...   \n",
       "679350     NaN                         NaN        NaN    c_7584   f   1960   \n",
       "679351     NaN                         NaN        NaN      c_90   m   2001   \n",
       "679352     NaN                         NaN        NaN     c_587   m   1993   \n",
       "679353     NaN                         NaN        NaN      ct_1   m   2001   \n",
       "679354     NaN                         NaN        NaN    c_3526   m   1956   \n",
       "\n",
       "            _merge  \n",
       "0             both  \n",
       "1             both  \n",
       "2             both  \n",
       "3             both  \n",
       "4             both  \n",
       "...            ...  \n",
       "679350  right_only  \n",
       "679351  right_only  \n",
       "679352  right_only  \n",
       "679353  right_only  \n",
       "679354  right_only  \n",
       "\n",
       "[679355 rows x 7 columns]"
      ]
     },
     "execution_count": 23,
     "metadata": {},
     "output_type": "execute_result"
    }
   ],
   "source": [
    "# Jointure entre le df transactions et le df customers pour l'apparition de colonne _merge\n",
    "\n",
    "transactions = transactions.merge(customers, on = 'client_id',how = \"outer\", indicator = True) \n",
    "transactions"
   ]
  },
  {
   "cell_type": "code",
   "execution_count": 24,
   "id": "6c3a6a8e",
   "metadata": {},
   "outputs": [
    {
     "data": {
      "text/plain": [
       "id_prod       23\n",
       "date          23\n",
       "session_id    23\n",
       "client_id      0\n",
       "sex            0\n",
       "birth          0\n",
       "_merge         0\n",
       "dtype: int64"
      ]
     },
     "execution_count": 24,
     "metadata": {},
     "output_type": "execute_result"
    }
   ],
   "source": [
    "transactions.isna().sum()"
   ]
  },
  {
   "cell_type": "markdown",
   "id": "0cb58703",
   "metadata": {},
   "source": [
    "Il y a des valeurs nulles mais toutes ne le sont pas"
   ]
  },
  {
   "cell_type": "code",
   "execution_count": 25,
   "id": "5c6d239c",
   "metadata": {},
   "outputs": [
    {
     "data": {
      "text/plain": [
       "both          679332\n",
       "right_only        23\n",
       "left_only          0\n",
       "Name: _merge, dtype: int64"
      ]
     },
     "execution_count": 25,
     "metadata": {},
     "output_type": "execute_result"
    }
   ],
   "source": [
    "transactions[\"_merge\"].value_counts()"
   ]
  },
  {
   "cell_type": "markdown",
   "id": "7185d577",
   "metadata": {},
   "source": [
    "Je ne conserve que la valeur both , puisque left_only est égale à 0 et right_only n'est pas pertinente puisqu'elle concerne des client qui n'ont pas fait d'achat sur le site"
   ]
  },
  {
   "cell_type": "code",
   "execution_count": 26,
   "id": "acb56fb8",
   "metadata": {
    "scrolled": true
   },
   "outputs": [
    {
     "data": {
      "text/html": [
       "<div>\n",
       "<style scoped>\n",
       "    .dataframe tbody tr th:only-of-type {\n",
       "        vertical-align: middle;\n",
       "    }\n",
       "\n",
       "    .dataframe tbody tr th {\n",
       "        vertical-align: top;\n",
       "    }\n",
       "\n",
       "    .dataframe thead th {\n",
       "        text-align: right;\n",
       "    }\n",
       "</style>\n",
       "<table border=\"1\" class=\"dataframe\">\n",
       "  <thead>\n",
       "    <tr style=\"text-align: right;\">\n",
       "      <th></th>\n",
       "      <th>id_prod</th>\n",
       "      <th>date</th>\n",
       "      <th>session_id</th>\n",
       "      <th>client_id</th>\n",
       "      <th>sex</th>\n",
       "      <th>birth</th>\n",
       "      <th>_merge</th>\n",
       "    </tr>\n",
       "  </thead>\n",
       "  <tbody>\n",
       "    <tr>\n",
       "      <th>0</th>\n",
       "      <td>0_1518</td>\n",
       "      <td>2022-05-20 13:21:29.043970</td>\n",
       "      <td>s_211425</td>\n",
       "      <td>c_103</td>\n",
       "      <td>f</td>\n",
       "      <td>1986</td>\n",
       "      <td>both</td>\n",
       "    </tr>\n",
       "    <tr>\n",
       "      <th>1</th>\n",
       "      <td>0_1627</td>\n",
       "      <td>2022-06-18 05:55:31.816994</td>\n",
       "      <td>s_225494</td>\n",
       "      <td>c_103</td>\n",
       "      <td>f</td>\n",
       "      <td>1986</td>\n",
       "      <td>both</td>\n",
       "    </tr>\n",
       "    <tr>\n",
       "      <th>2</th>\n",
       "      <td>0_1104</td>\n",
       "      <td>2023-02-08 17:31:06.898425</td>\n",
       "      <td>s_338755</td>\n",
       "      <td>c_103</td>\n",
       "      <td>f</td>\n",
       "      <td>1986</td>\n",
       "      <td>both</td>\n",
       "    </tr>\n",
       "    <tr>\n",
       "      <th>3</th>\n",
       "      <td>0_1390</td>\n",
       "      <td>2021-04-20 06:18:39.939761</td>\n",
       "      <td>s_23078</td>\n",
       "      <td>c_103</td>\n",
       "      <td>f</td>\n",
       "      <td>1986</td>\n",
       "      <td>both</td>\n",
       "    </tr>\n",
       "    <tr>\n",
       "      <th>4</th>\n",
       "      <td>0_1547</td>\n",
       "      <td>2022-03-15 19:54:53.904123</td>\n",
       "      <td>s_179629</td>\n",
       "      <td>c_103</td>\n",
       "      <td>f</td>\n",
       "      <td>1986</td>\n",
       "      <td>both</td>\n",
       "    </tr>\n",
       "    <tr>\n",
       "      <th>...</th>\n",
       "      <td>...</td>\n",
       "      <td>...</td>\n",
       "      <td>...</td>\n",
       "      <td>...</td>\n",
       "      <td>...</td>\n",
       "      <td>...</td>\n",
       "      <td>...</td>\n",
       "    </tr>\n",
       "    <tr>\n",
       "      <th>679327</th>\n",
       "      <td>0_1509</td>\n",
       "      <td>2021-05-15 08:17:35.835342</td>\n",
       "      <td>s_34762</td>\n",
       "      <td>c_8114</td>\n",
       "      <td>m</td>\n",
       "      <td>1962</td>\n",
       "      <td>both</td>\n",
       "    </tr>\n",
       "    <tr>\n",
       "      <th>679328</th>\n",
       "      <td>1_152</td>\n",
       "      <td>2021-11-08 17:12:27.637349</td>\n",
       "      <td>s_116675</td>\n",
       "      <td>c_240</td>\n",
       "      <td>m</td>\n",
       "      <td>1998</td>\n",
       "      <td>both</td>\n",
       "    </tr>\n",
       "    <tr>\n",
       "      <th>679329</th>\n",
       "      <td>2_207</td>\n",
       "      <td>2021-06-01 04:31:16.088314</td>\n",
       "      <td>s_42418</td>\n",
       "      <td>c_305</td>\n",
       "      <td>f</td>\n",
       "      <td>1996</td>\n",
       "      <td>both</td>\n",
       "    </tr>\n",
       "    <tr>\n",
       "      <th>679330</th>\n",
       "      <td>1_521</td>\n",
       "      <td>2022-10-18 00:38:49.629165</td>\n",
       "      <td>s_284060</td>\n",
       "      <td>c_305</td>\n",
       "      <td>f</td>\n",
       "      <td>1996</td>\n",
       "      <td>both</td>\n",
       "    </tr>\n",
       "    <tr>\n",
       "      <th>679331</th>\n",
       "      <td>1_521</td>\n",
       "      <td>2021-12-18 00:38:49.629165</td>\n",
       "      <td>s_135996</td>\n",
       "      <td>c_305</td>\n",
       "      <td>f</td>\n",
       "      <td>1996</td>\n",
       "      <td>both</td>\n",
       "    </tr>\n",
       "  </tbody>\n",
       "</table>\n",
       "<p>679332 rows × 7 columns</p>\n",
       "</div>"
      ],
      "text/plain": [
       "       id_prod                        date session_id client_id sex  birth  \\\n",
       "0       0_1518  2022-05-20 13:21:29.043970   s_211425     c_103   f   1986   \n",
       "1       0_1627  2022-06-18 05:55:31.816994   s_225494     c_103   f   1986   \n",
       "2       0_1104  2023-02-08 17:31:06.898425   s_338755     c_103   f   1986   \n",
       "3       0_1390  2021-04-20 06:18:39.939761    s_23078     c_103   f   1986   \n",
       "4       0_1547  2022-03-15 19:54:53.904123   s_179629     c_103   f   1986   \n",
       "...        ...                         ...        ...       ...  ..    ...   \n",
       "679327  0_1509  2021-05-15 08:17:35.835342    s_34762    c_8114   m   1962   \n",
       "679328   1_152  2021-11-08 17:12:27.637349   s_116675     c_240   m   1998   \n",
       "679329   2_207  2021-06-01 04:31:16.088314    s_42418     c_305   f   1996   \n",
       "679330   1_521  2022-10-18 00:38:49.629165   s_284060     c_305   f   1996   \n",
       "679331   1_521  2021-12-18 00:38:49.629165   s_135996     c_305   f   1996   \n",
       "\n",
       "       _merge  \n",
       "0        both  \n",
       "1        both  \n",
       "2        both  \n",
       "3        both  \n",
       "4        both  \n",
       "...       ...  \n",
       "679327   both  \n",
       "679328   both  \n",
       "679329   both  \n",
       "679330   both  \n",
       "679331   both  \n",
       "\n",
       "[679332 rows x 7 columns]"
      ]
     },
     "execution_count": 26,
     "metadata": {},
     "output_type": "execute_result"
    }
   ],
   "source": [
    "# Df avec juste les valeurs both\n",
    "\n",
    "transactions = transactions [transactions[\"_merge\"] ==\"both\"] \n",
    "transactions"
   ]
  },
  {
   "cell_type": "code",
   "execution_count": 27,
   "id": "ca6257da",
   "metadata": {},
   "outputs": [
    {
     "data": {
      "text/html": [
       "<div>\n",
       "<style scoped>\n",
       "    .dataframe tbody tr th:only-of-type {\n",
       "        vertical-align: middle;\n",
       "    }\n",
       "\n",
       "    .dataframe tbody tr th {\n",
       "        vertical-align: top;\n",
       "    }\n",
       "\n",
       "    .dataframe thead th {\n",
       "        text-align: right;\n",
       "    }\n",
       "</style>\n",
       "<table border=\"1\" class=\"dataframe\">\n",
       "  <thead>\n",
       "    <tr style=\"text-align: right;\">\n",
       "      <th></th>\n",
       "      <th>id_prod</th>\n",
       "      <th>date</th>\n",
       "      <th>session_id</th>\n",
       "      <th>client_id</th>\n",
       "      <th>sex</th>\n",
       "      <th>birth</th>\n",
       "      <th>_merge</th>\n",
       "    </tr>\n",
       "  </thead>\n",
       "  <tbody>\n",
       "    <tr>\n",
       "      <th>0</th>\n",
       "      <td>0_1518</td>\n",
       "      <td>2022-05-20 13:21:29.043970</td>\n",
       "      <td>s_211425</td>\n",
       "      <td>c_103</td>\n",
       "      <td>f</td>\n",
       "      <td>1986</td>\n",
       "      <td>both</td>\n",
       "    </tr>\n",
       "    <tr>\n",
       "      <th>1</th>\n",
       "      <td>0_1627</td>\n",
       "      <td>2022-06-18 05:55:31.816994</td>\n",
       "      <td>s_225494</td>\n",
       "      <td>c_103</td>\n",
       "      <td>f</td>\n",
       "      <td>1986</td>\n",
       "      <td>both</td>\n",
       "    </tr>\n",
       "    <tr>\n",
       "      <th>2</th>\n",
       "      <td>0_1104</td>\n",
       "      <td>2023-02-08 17:31:06.898425</td>\n",
       "      <td>s_338755</td>\n",
       "      <td>c_103</td>\n",
       "      <td>f</td>\n",
       "      <td>1986</td>\n",
       "      <td>both</td>\n",
       "    </tr>\n",
       "    <tr>\n",
       "      <th>3</th>\n",
       "      <td>0_1390</td>\n",
       "      <td>2021-04-20 06:18:39.939761</td>\n",
       "      <td>s_23078</td>\n",
       "      <td>c_103</td>\n",
       "      <td>f</td>\n",
       "      <td>1986</td>\n",
       "      <td>both</td>\n",
       "    </tr>\n",
       "    <tr>\n",
       "      <th>4</th>\n",
       "      <td>0_1547</td>\n",
       "      <td>2022-03-15 19:54:53.904123</td>\n",
       "      <td>s_179629</td>\n",
       "      <td>c_103</td>\n",
       "      <td>f</td>\n",
       "      <td>1986</td>\n",
       "      <td>both</td>\n",
       "    </tr>\n",
       "    <tr>\n",
       "      <th>...</th>\n",
       "      <td>...</td>\n",
       "      <td>...</td>\n",
       "      <td>...</td>\n",
       "      <td>...</td>\n",
       "      <td>...</td>\n",
       "      <td>...</td>\n",
       "      <td>...</td>\n",
       "    </tr>\n",
       "    <tr>\n",
       "      <th>679327</th>\n",
       "      <td>0_1509</td>\n",
       "      <td>2021-05-15 08:17:35.835342</td>\n",
       "      <td>s_34762</td>\n",
       "      <td>c_8114</td>\n",
       "      <td>m</td>\n",
       "      <td>1962</td>\n",
       "      <td>both</td>\n",
       "    </tr>\n",
       "    <tr>\n",
       "      <th>679328</th>\n",
       "      <td>1_152</td>\n",
       "      <td>2021-11-08 17:12:27.637349</td>\n",
       "      <td>s_116675</td>\n",
       "      <td>c_240</td>\n",
       "      <td>m</td>\n",
       "      <td>1998</td>\n",
       "      <td>both</td>\n",
       "    </tr>\n",
       "    <tr>\n",
       "      <th>679329</th>\n",
       "      <td>2_207</td>\n",
       "      <td>2021-06-01 04:31:16.088314</td>\n",
       "      <td>s_42418</td>\n",
       "      <td>c_305</td>\n",
       "      <td>f</td>\n",
       "      <td>1996</td>\n",
       "      <td>both</td>\n",
       "    </tr>\n",
       "    <tr>\n",
       "      <th>679330</th>\n",
       "      <td>1_521</td>\n",
       "      <td>2022-10-18 00:38:49.629165</td>\n",
       "      <td>s_284060</td>\n",
       "      <td>c_305</td>\n",
       "      <td>f</td>\n",
       "      <td>1996</td>\n",
       "      <td>both</td>\n",
       "    </tr>\n",
       "    <tr>\n",
       "      <th>679331</th>\n",
       "      <td>1_521</td>\n",
       "      <td>2021-12-18 00:38:49.629165</td>\n",
       "      <td>s_135996</td>\n",
       "      <td>c_305</td>\n",
       "      <td>f</td>\n",
       "      <td>1996</td>\n",
       "      <td>both</td>\n",
       "    </tr>\n",
       "  </tbody>\n",
       "</table>\n",
       "<p>679332 rows × 7 columns</p>\n",
       "</div>"
      ],
      "text/plain": [
       "       id_prod                        date session_id client_id sex  birth  \\\n",
       "0       0_1518  2022-05-20 13:21:29.043970   s_211425     c_103   f   1986   \n",
       "1       0_1627  2022-06-18 05:55:31.816994   s_225494     c_103   f   1986   \n",
       "2       0_1104  2023-02-08 17:31:06.898425   s_338755     c_103   f   1986   \n",
       "3       0_1390  2021-04-20 06:18:39.939761    s_23078     c_103   f   1986   \n",
       "4       0_1547  2022-03-15 19:54:53.904123   s_179629     c_103   f   1986   \n",
       "...        ...                         ...        ...       ...  ..    ...   \n",
       "679327  0_1509  2021-05-15 08:17:35.835342    s_34762    c_8114   m   1962   \n",
       "679328   1_152  2021-11-08 17:12:27.637349   s_116675     c_240   m   1998   \n",
       "679329   2_207  2021-06-01 04:31:16.088314    s_42418     c_305   f   1996   \n",
       "679330   1_521  2022-10-18 00:38:49.629165   s_284060     c_305   f   1996   \n",
       "679331   1_521  2021-12-18 00:38:49.629165   s_135996     c_305   f   1996   \n",
       "\n",
       "       _merge  \n",
       "0        both  \n",
       "1        both  \n",
       "2        both  \n",
       "3        both  \n",
       "4        both  \n",
       "...       ...  \n",
       "679327   both  \n",
       "679328   both  \n",
       "679329   both  \n",
       "679330   both  \n",
       "679331   both  \n",
       "\n",
       "[679332 rows x 7 columns]"
      ]
     },
     "execution_count": 27,
     "metadata": {},
     "output_type": "execute_result"
    }
   ],
   "source": [
    "#J'enlève les valeurs left only puisque égale à 0\n",
    "\n",
    "transactions = transactions [~transactions['_merge'].str.startswith('left_only')]\n",
    "transactions"
   ]
  },
  {
   "cell_type": "code",
   "execution_count": 28,
   "id": "ea60eaaf",
   "metadata": {
    "scrolled": true
   },
   "outputs": [
    {
     "data": {
      "text/html": [
       "<div>\n",
       "<style scoped>\n",
       "    .dataframe tbody tr th:only-of-type {\n",
       "        vertical-align: middle;\n",
       "    }\n",
       "\n",
       "    .dataframe tbody tr th {\n",
       "        vertical-align: top;\n",
       "    }\n",
       "\n",
       "    .dataframe thead th {\n",
       "        text-align: right;\n",
       "    }\n",
       "</style>\n",
       "<table border=\"1\" class=\"dataframe\">\n",
       "  <thead>\n",
       "    <tr style=\"text-align: right;\">\n",
       "      <th></th>\n",
       "      <th>id_prod</th>\n",
       "      <th>date</th>\n",
       "      <th>session_id</th>\n",
       "      <th>client_id</th>\n",
       "      <th>sex</th>\n",
       "      <th>birth</th>\n",
       "      <th>_merge</th>\n",
       "    </tr>\n",
       "  </thead>\n",
       "  <tbody>\n",
       "    <tr>\n",
       "      <th>0</th>\n",
       "      <td>0_1518</td>\n",
       "      <td>2022-05-20 13:21:29.043970</td>\n",
       "      <td>s_211425</td>\n",
       "      <td>c_103</td>\n",
       "      <td>f</td>\n",
       "      <td>1986</td>\n",
       "      <td>both</td>\n",
       "    </tr>\n",
       "    <tr>\n",
       "      <th>1</th>\n",
       "      <td>0_1627</td>\n",
       "      <td>2022-06-18 05:55:31.816994</td>\n",
       "      <td>s_225494</td>\n",
       "      <td>c_103</td>\n",
       "      <td>f</td>\n",
       "      <td>1986</td>\n",
       "      <td>both</td>\n",
       "    </tr>\n",
       "    <tr>\n",
       "      <th>2</th>\n",
       "      <td>0_1104</td>\n",
       "      <td>2023-02-08 17:31:06.898425</td>\n",
       "      <td>s_338755</td>\n",
       "      <td>c_103</td>\n",
       "      <td>f</td>\n",
       "      <td>1986</td>\n",
       "      <td>both</td>\n",
       "    </tr>\n",
       "    <tr>\n",
       "      <th>3</th>\n",
       "      <td>0_1390</td>\n",
       "      <td>2021-04-20 06:18:39.939761</td>\n",
       "      <td>s_23078</td>\n",
       "      <td>c_103</td>\n",
       "      <td>f</td>\n",
       "      <td>1986</td>\n",
       "      <td>both</td>\n",
       "    </tr>\n",
       "    <tr>\n",
       "      <th>4</th>\n",
       "      <td>0_1547</td>\n",
       "      <td>2022-03-15 19:54:53.904123</td>\n",
       "      <td>s_179629</td>\n",
       "      <td>c_103</td>\n",
       "      <td>f</td>\n",
       "      <td>1986</td>\n",
       "      <td>both</td>\n",
       "    </tr>\n",
       "    <tr>\n",
       "      <th>...</th>\n",
       "      <td>...</td>\n",
       "      <td>...</td>\n",
       "      <td>...</td>\n",
       "      <td>...</td>\n",
       "      <td>...</td>\n",
       "      <td>...</td>\n",
       "      <td>...</td>\n",
       "    </tr>\n",
       "    <tr>\n",
       "      <th>679327</th>\n",
       "      <td>0_1509</td>\n",
       "      <td>2021-05-15 08:17:35.835342</td>\n",
       "      <td>s_34762</td>\n",
       "      <td>c_8114</td>\n",
       "      <td>m</td>\n",
       "      <td>1962</td>\n",
       "      <td>both</td>\n",
       "    </tr>\n",
       "    <tr>\n",
       "      <th>679328</th>\n",
       "      <td>1_152</td>\n",
       "      <td>2021-11-08 17:12:27.637349</td>\n",
       "      <td>s_116675</td>\n",
       "      <td>c_240</td>\n",
       "      <td>m</td>\n",
       "      <td>1998</td>\n",
       "      <td>both</td>\n",
       "    </tr>\n",
       "    <tr>\n",
       "      <th>679329</th>\n",
       "      <td>2_207</td>\n",
       "      <td>2021-06-01 04:31:16.088314</td>\n",
       "      <td>s_42418</td>\n",
       "      <td>c_305</td>\n",
       "      <td>f</td>\n",
       "      <td>1996</td>\n",
       "      <td>both</td>\n",
       "    </tr>\n",
       "    <tr>\n",
       "      <th>679330</th>\n",
       "      <td>1_521</td>\n",
       "      <td>2022-10-18 00:38:49.629165</td>\n",
       "      <td>s_284060</td>\n",
       "      <td>c_305</td>\n",
       "      <td>f</td>\n",
       "      <td>1996</td>\n",
       "      <td>both</td>\n",
       "    </tr>\n",
       "    <tr>\n",
       "      <th>679331</th>\n",
       "      <td>1_521</td>\n",
       "      <td>2021-12-18 00:38:49.629165</td>\n",
       "      <td>s_135996</td>\n",
       "      <td>c_305</td>\n",
       "      <td>f</td>\n",
       "      <td>1996</td>\n",
       "      <td>both</td>\n",
       "    </tr>\n",
       "  </tbody>\n",
       "</table>\n",
       "<p>679332 rows × 7 columns</p>\n",
       "</div>"
      ],
      "text/plain": [
       "       id_prod                        date session_id client_id sex  birth  \\\n",
       "0       0_1518  2022-05-20 13:21:29.043970   s_211425     c_103   f   1986   \n",
       "1       0_1627  2022-06-18 05:55:31.816994   s_225494     c_103   f   1986   \n",
       "2       0_1104  2023-02-08 17:31:06.898425   s_338755     c_103   f   1986   \n",
       "3       0_1390  2021-04-20 06:18:39.939761    s_23078     c_103   f   1986   \n",
       "4       0_1547  2022-03-15 19:54:53.904123   s_179629     c_103   f   1986   \n",
       "...        ...                         ...        ...       ...  ..    ...   \n",
       "679327  0_1509  2021-05-15 08:17:35.835342    s_34762    c_8114   m   1962   \n",
       "679328   1_152  2021-11-08 17:12:27.637349   s_116675     c_240   m   1998   \n",
       "679329   2_207  2021-06-01 04:31:16.088314    s_42418     c_305   f   1996   \n",
       "679330   1_521  2022-10-18 00:38:49.629165   s_284060     c_305   f   1996   \n",
       "679331   1_521  2021-12-18 00:38:49.629165   s_135996     c_305   f   1996   \n",
       "\n",
       "       _merge  \n",
       "0        both  \n",
       "1        both  \n",
       "2        both  \n",
       "3        both  \n",
       "4        both  \n",
       "...       ...  \n",
       "679327   both  \n",
       "679328   both  \n",
       "679329   both  \n",
       "679330   both  \n",
       "679331   both  \n",
       "\n",
       "[679332 rows x 7 columns]"
      ]
     },
     "execution_count": 28,
     "metadata": {},
     "output_type": "execute_result"
    }
   ],
   "source": [
    "# j'enlève les valeurs right_only\n",
    "\n",
    "transactions = transactions [~transactions['_merge'].str.startswith('right_only')]\n",
    "transactions"
   ]
  },
  {
   "cell_type": "code",
   "execution_count": 29,
   "id": "02cf95af",
   "metadata": {},
   "outputs": [
    {
     "data": {
      "text/plain": [
       "both          679332\n",
       "left_only          0\n",
       "right_only         0\n",
       "Name: _merge, dtype: int64"
      ]
     },
     "execution_count": 29,
     "metadata": {},
     "output_type": "execute_result"
    }
   ],
   "source": [
    "#Verification que les valeurs right_only et left_only sont bien enlevées\n",
    "\n",
    "transactions[\"_merge\"].value_counts()"
   ]
  },
  {
   "cell_type": "code",
   "execution_count": 30,
   "id": "14ac316c",
   "metadata": {},
   "outputs": [
    {
     "data": {
      "text/html": [
       "<div>\n",
       "<style scoped>\n",
       "    .dataframe tbody tr th:only-of-type {\n",
       "        vertical-align: middle;\n",
       "    }\n",
       "\n",
       "    .dataframe tbody tr th {\n",
       "        vertical-align: top;\n",
       "    }\n",
       "\n",
       "    .dataframe thead th {\n",
       "        text-align: right;\n",
       "    }\n",
       "</style>\n",
       "<table border=\"1\" class=\"dataframe\">\n",
       "  <thead>\n",
       "    <tr style=\"text-align: right;\">\n",
       "      <th></th>\n",
       "      <th>id_prod</th>\n",
       "      <th>date</th>\n",
       "      <th>session_id</th>\n",
       "      <th>client_id</th>\n",
       "      <th>sex</th>\n",
       "      <th>birth</th>\n",
       "    </tr>\n",
       "  </thead>\n",
       "  <tbody>\n",
       "    <tr>\n",
       "      <th>0</th>\n",
       "      <td>0_1518</td>\n",
       "      <td>2022-05-20 13:21:29.043970</td>\n",
       "      <td>s_211425</td>\n",
       "      <td>c_103</td>\n",
       "      <td>f</td>\n",
       "      <td>1986</td>\n",
       "    </tr>\n",
       "    <tr>\n",
       "      <th>1</th>\n",
       "      <td>0_1627</td>\n",
       "      <td>2022-06-18 05:55:31.816994</td>\n",
       "      <td>s_225494</td>\n",
       "      <td>c_103</td>\n",
       "      <td>f</td>\n",
       "      <td>1986</td>\n",
       "    </tr>\n",
       "    <tr>\n",
       "      <th>2</th>\n",
       "      <td>0_1104</td>\n",
       "      <td>2023-02-08 17:31:06.898425</td>\n",
       "      <td>s_338755</td>\n",
       "      <td>c_103</td>\n",
       "      <td>f</td>\n",
       "      <td>1986</td>\n",
       "    </tr>\n",
       "    <tr>\n",
       "      <th>3</th>\n",
       "      <td>0_1390</td>\n",
       "      <td>2021-04-20 06:18:39.939761</td>\n",
       "      <td>s_23078</td>\n",
       "      <td>c_103</td>\n",
       "      <td>f</td>\n",
       "      <td>1986</td>\n",
       "    </tr>\n",
       "    <tr>\n",
       "      <th>4</th>\n",
       "      <td>0_1547</td>\n",
       "      <td>2022-03-15 19:54:53.904123</td>\n",
       "      <td>s_179629</td>\n",
       "      <td>c_103</td>\n",
       "      <td>f</td>\n",
       "      <td>1986</td>\n",
       "    </tr>\n",
       "    <tr>\n",
       "      <th>...</th>\n",
       "      <td>...</td>\n",
       "      <td>...</td>\n",
       "      <td>...</td>\n",
       "      <td>...</td>\n",
       "      <td>...</td>\n",
       "      <td>...</td>\n",
       "    </tr>\n",
       "    <tr>\n",
       "      <th>679327</th>\n",
       "      <td>0_1509</td>\n",
       "      <td>2021-05-15 08:17:35.835342</td>\n",
       "      <td>s_34762</td>\n",
       "      <td>c_8114</td>\n",
       "      <td>m</td>\n",
       "      <td>1962</td>\n",
       "    </tr>\n",
       "    <tr>\n",
       "      <th>679328</th>\n",
       "      <td>1_152</td>\n",
       "      <td>2021-11-08 17:12:27.637349</td>\n",
       "      <td>s_116675</td>\n",
       "      <td>c_240</td>\n",
       "      <td>m</td>\n",
       "      <td>1998</td>\n",
       "    </tr>\n",
       "    <tr>\n",
       "      <th>679329</th>\n",
       "      <td>2_207</td>\n",
       "      <td>2021-06-01 04:31:16.088314</td>\n",
       "      <td>s_42418</td>\n",
       "      <td>c_305</td>\n",
       "      <td>f</td>\n",
       "      <td>1996</td>\n",
       "    </tr>\n",
       "    <tr>\n",
       "      <th>679330</th>\n",
       "      <td>1_521</td>\n",
       "      <td>2022-10-18 00:38:49.629165</td>\n",
       "      <td>s_284060</td>\n",
       "      <td>c_305</td>\n",
       "      <td>f</td>\n",
       "      <td>1996</td>\n",
       "    </tr>\n",
       "    <tr>\n",
       "      <th>679331</th>\n",
       "      <td>1_521</td>\n",
       "      <td>2021-12-18 00:38:49.629165</td>\n",
       "      <td>s_135996</td>\n",
       "      <td>c_305</td>\n",
       "      <td>f</td>\n",
       "      <td>1996</td>\n",
       "    </tr>\n",
       "  </tbody>\n",
       "</table>\n",
       "<p>679332 rows × 6 columns</p>\n",
       "</div>"
      ],
      "text/plain": [
       "       id_prod                        date session_id client_id sex  birth\n",
       "0       0_1518  2022-05-20 13:21:29.043970   s_211425     c_103   f   1986\n",
       "1       0_1627  2022-06-18 05:55:31.816994   s_225494     c_103   f   1986\n",
       "2       0_1104  2023-02-08 17:31:06.898425   s_338755     c_103   f   1986\n",
       "3       0_1390  2021-04-20 06:18:39.939761    s_23078     c_103   f   1986\n",
       "4       0_1547  2022-03-15 19:54:53.904123   s_179629     c_103   f   1986\n",
       "...        ...                         ...        ...       ...  ..    ...\n",
       "679327  0_1509  2021-05-15 08:17:35.835342    s_34762    c_8114   m   1962\n",
       "679328   1_152  2021-11-08 17:12:27.637349   s_116675     c_240   m   1998\n",
       "679329   2_207  2021-06-01 04:31:16.088314    s_42418     c_305   f   1996\n",
       "679330   1_521  2022-10-18 00:38:49.629165   s_284060     c_305   f   1996\n",
       "679331   1_521  2021-12-18 00:38:49.629165   s_135996     c_305   f   1996\n",
       "\n",
       "[679332 rows x 6 columns]"
      ]
     },
     "execution_count": 30,
     "metadata": {},
     "output_type": "execute_result"
    }
   ],
   "source": [
    "#J'enlève la colonne _merge, elle n'est plus utile\n",
    "\n",
    "transactions = transactions.drop(columns=\"_merge\")\n",
    "transactions"
   ]
  },
  {
   "cell_type": "code",
   "execution_count": 31,
   "id": "45cb11be",
   "metadata": {},
   "outputs": [
    {
     "data": {
      "text/html": [
       "<div>\n",
       "<style scoped>\n",
       "    .dataframe tbody tr th:only-of-type {\n",
       "        vertical-align: middle;\n",
       "    }\n",
       "\n",
       "    .dataframe tbody tr th {\n",
       "        vertical-align: top;\n",
       "    }\n",
       "\n",
       "    .dataframe thead th {\n",
       "        text-align: right;\n",
       "    }\n",
       "</style>\n",
       "<table border=\"1\" class=\"dataframe\">\n",
       "  <thead>\n",
       "    <tr style=\"text-align: right;\">\n",
       "      <th></th>\n",
       "      <th>id_prod</th>\n",
       "      <th>date</th>\n",
       "      <th>session_id</th>\n",
       "      <th>client_id</th>\n",
       "      <th>sex</th>\n",
       "      <th>birth</th>\n",
       "      <th>price</th>\n",
       "      <th>categ</th>\n",
       "      <th>_merge</th>\n",
       "    </tr>\n",
       "  </thead>\n",
       "  <tbody>\n",
       "    <tr>\n",
       "      <th>0</th>\n",
       "      <td>0_1518</td>\n",
       "      <td>2022-05-20 13:21:29.043970</td>\n",
       "      <td>s_211425</td>\n",
       "      <td>c_103</td>\n",
       "      <td>f</td>\n",
       "      <td>1986.0</td>\n",
       "      <td>4.18</td>\n",
       "      <td>0.0</td>\n",
       "      <td>both</td>\n",
       "    </tr>\n",
       "    <tr>\n",
       "      <th>1</th>\n",
       "      <td>0_1518</td>\n",
       "      <td>2021-07-20 13:21:29.043970</td>\n",
       "      <td>s_64849</td>\n",
       "      <td>c_103</td>\n",
       "      <td>f</td>\n",
       "      <td>1986.0</td>\n",
       "      <td>4.18</td>\n",
       "      <td>0.0</td>\n",
       "      <td>both</td>\n",
       "    </tr>\n",
       "    <tr>\n",
       "      <th>2</th>\n",
       "      <td>0_1518</td>\n",
       "      <td>2022-08-20 13:21:29.043970</td>\n",
       "      <td>s_255965</td>\n",
       "      <td>c_103</td>\n",
       "      <td>f</td>\n",
       "      <td>1986.0</td>\n",
       "      <td>4.18</td>\n",
       "      <td>0.0</td>\n",
       "      <td>both</td>\n",
       "    </tr>\n",
       "    <tr>\n",
       "      <th>3</th>\n",
       "      <td>0_1518</td>\n",
       "      <td>2021-05-09 11:52:55.100386</td>\n",
       "      <td>s_32104</td>\n",
       "      <td>c_6714</td>\n",
       "      <td>f</td>\n",
       "      <td>1968.0</td>\n",
       "      <td>4.18</td>\n",
       "      <td>0.0</td>\n",
       "      <td>both</td>\n",
       "    </tr>\n",
       "    <tr>\n",
       "      <th>4</th>\n",
       "      <td>0_1518</td>\n",
       "      <td>2022-05-30 01:17:07.487046</td>\n",
       "      <td>s_216118</td>\n",
       "      <td>c_6714</td>\n",
       "      <td>f</td>\n",
       "      <td>1968.0</td>\n",
       "      <td>4.18</td>\n",
       "      <td>0.0</td>\n",
       "      <td>both</td>\n",
       "    </tr>\n",
       "    <tr>\n",
       "      <th>...</th>\n",
       "      <td>...</td>\n",
       "      <td>...</td>\n",
       "      <td>...</td>\n",
       "      <td>...</td>\n",
       "      <td>...</td>\n",
       "      <td>...</td>\n",
       "      <td>...</td>\n",
       "      <td>...</td>\n",
       "      <td>...</td>\n",
       "    </tr>\n",
       "    <tr>\n",
       "      <th>679349</th>\n",
       "      <td>0_1624</td>\n",
       "      <td>NaN</td>\n",
       "      <td>NaN</td>\n",
       "      <td>NaN</td>\n",
       "      <td>NaN</td>\n",
       "      <td>NaN</td>\n",
       "      <td>24.50</td>\n",
       "      <td>0.0</td>\n",
       "      <td>right_only</td>\n",
       "    </tr>\n",
       "    <tr>\n",
       "      <th>679350</th>\n",
       "      <td>2_86</td>\n",
       "      <td>NaN</td>\n",
       "      <td>NaN</td>\n",
       "      <td>NaN</td>\n",
       "      <td>NaN</td>\n",
       "      <td>NaN</td>\n",
       "      <td>132.36</td>\n",
       "      <td>2.0</td>\n",
       "      <td>right_only</td>\n",
       "    </tr>\n",
       "    <tr>\n",
       "      <th>679351</th>\n",
       "      <td>0_299</td>\n",
       "      <td>NaN</td>\n",
       "      <td>NaN</td>\n",
       "      <td>NaN</td>\n",
       "      <td>NaN</td>\n",
       "      <td>NaN</td>\n",
       "      <td>22.99</td>\n",
       "      <td>0.0</td>\n",
       "      <td>right_only</td>\n",
       "    </tr>\n",
       "    <tr>\n",
       "      <th>679352</th>\n",
       "      <td>0_510</td>\n",
       "      <td>NaN</td>\n",
       "      <td>NaN</td>\n",
       "      <td>NaN</td>\n",
       "      <td>NaN</td>\n",
       "      <td>NaN</td>\n",
       "      <td>23.66</td>\n",
       "      <td>0.0</td>\n",
       "      <td>right_only</td>\n",
       "    </tr>\n",
       "    <tr>\n",
       "      <th>679353</th>\n",
       "      <td>0_2308</td>\n",
       "      <td>NaN</td>\n",
       "      <td>NaN</td>\n",
       "      <td>NaN</td>\n",
       "      <td>NaN</td>\n",
       "      <td>NaN</td>\n",
       "      <td>20.28</td>\n",
       "      <td>0.0</td>\n",
       "      <td>right_only</td>\n",
       "    </tr>\n",
       "  </tbody>\n",
       "</table>\n",
       "<p>679354 rows × 9 columns</p>\n",
       "</div>"
      ],
      "text/plain": [
       "       id_prod                        date session_id client_id  sex   birth  \\\n",
       "0       0_1518  2022-05-20 13:21:29.043970   s_211425     c_103    f  1986.0   \n",
       "1       0_1518  2021-07-20 13:21:29.043970    s_64849     c_103    f  1986.0   \n",
       "2       0_1518  2022-08-20 13:21:29.043970   s_255965     c_103    f  1986.0   \n",
       "3       0_1518  2021-05-09 11:52:55.100386    s_32104    c_6714    f  1968.0   \n",
       "4       0_1518  2022-05-30 01:17:07.487046   s_216118    c_6714    f  1968.0   \n",
       "...        ...                         ...        ...       ...  ...     ...   \n",
       "679349  0_1624                         NaN        NaN       NaN  NaN     NaN   \n",
       "679350    2_86                         NaN        NaN       NaN  NaN     NaN   \n",
       "679351   0_299                         NaN        NaN       NaN  NaN     NaN   \n",
       "679352   0_510                         NaN        NaN       NaN  NaN     NaN   \n",
       "679353  0_2308                         NaN        NaN       NaN  NaN     NaN   \n",
       "\n",
       "         price  categ      _merge  \n",
       "0         4.18    0.0        both  \n",
       "1         4.18    0.0        both  \n",
       "2         4.18    0.0        both  \n",
       "3         4.18    0.0        both  \n",
       "4         4.18    0.0        both  \n",
       "...        ...    ...         ...  \n",
       "679349   24.50    0.0  right_only  \n",
       "679350  132.36    2.0  right_only  \n",
       "679351   22.99    0.0  right_only  \n",
       "679352   23.66    0.0  right_only  \n",
       "679353   20.28    0.0  right_only  \n",
       "\n",
       "[679354 rows x 9 columns]"
      ]
     },
     "execution_count": 31,
     "metadata": {},
     "output_type": "execute_result"
    }
   ],
   "source": [
    "# Jointure entre le df transactions crée précedemment et le df products pour l'apparition de colonne _merge\n",
    "\n",
    "transactions = transactions.merge(products, on = 'id_prod',how = \"outer\", indicator = True) \n",
    "transactions"
   ]
  },
  {
   "cell_type": "code",
   "execution_count": 32,
   "id": "3c66eb88",
   "metadata": {},
   "outputs": [
    {
     "data": {
      "text/plain": [
       "id_prod         0\n",
       "date           22\n",
       "session_id     22\n",
       "client_id      22\n",
       "sex            22\n",
       "birth          22\n",
       "price         221\n",
       "categ         221\n",
       "_merge          0\n",
       "dtype: int64"
      ]
     },
     "execution_count": 32,
     "metadata": {},
     "output_type": "execute_result"
    }
   ],
   "source": [
    "# recherche des valeurs nulles dans le nouveau df transactions\n",
    "\n",
    "transactions.isna().sum()"
   ]
  },
  {
   "cell_type": "markdown",
   "id": "8a61acf7",
   "metadata": {},
   "source": [
    "Il y a des valeurs nulles mais deux n'ont pas de valeurs nulles"
   ]
  },
  {
   "cell_type": "code",
   "execution_count": 33,
   "id": "adcbbc20",
   "metadata": {},
   "outputs": [
    {
     "data": {
      "text/plain": [
       "both          679111\n",
       "left_only        221\n",
       "right_only        22\n",
       "Name: _merge, dtype: int64"
      ]
     },
     "execution_count": 33,
     "metadata": {},
     "output_type": "execute_result"
    }
   ],
   "source": [
    "# Nombre de valeurs dans la colonne _merge\n",
    "\n",
    "transactions[\"_merge\"].value_counts()"
   ]
  },
  {
   "cell_type": "code",
   "execution_count": 34,
   "id": "9486b9e9",
   "metadata": {},
   "outputs": [
    {
     "data": {
      "text/html": [
       "<div>\n",
       "<style scoped>\n",
       "    .dataframe tbody tr th:only-of-type {\n",
       "        vertical-align: middle;\n",
       "    }\n",
       "\n",
       "    .dataframe tbody tr th {\n",
       "        vertical-align: top;\n",
       "    }\n",
       "\n",
       "    .dataframe thead th {\n",
       "        text-align: right;\n",
       "    }\n",
       "</style>\n",
       "<table border=\"1\" class=\"dataframe\">\n",
       "  <thead>\n",
       "    <tr style=\"text-align: right;\">\n",
       "      <th></th>\n",
       "      <th>id_prod</th>\n",
       "      <th>date</th>\n",
       "      <th>session_id</th>\n",
       "      <th>client_id</th>\n",
       "      <th>sex</th>\n",
       "      <th>birth</th>\n",
       "      <th>price</th>\n",
       "      <th>categ</th>\n",
       "      <th>_merge</th>\n",
       "    </tr>\n",
       "  </thead>\n",
       "  <tbody>\n",
       "    <tr>\n",
       "      <th>0</th>\n",
       "      <td>0_1518</td>\n",
       "      <td>2022-05-20 13:21:29.043970</td>\n",
       "      <td>s_211425</td>\n",
       "      <td>c_103</td>\n",
       "      <td>f</td>\n",
       "      <td>1986.0</td>\n",
       "      <td>4.18</td>\n",
       "      <td>0.0</td>\n",
       "      <td>both</td>\n",
       "    </tr>\n",
       "    <tr>\n",
       "      <th>1</th>\n",
       "      <td>0_1518</td>\n",
       "      <td>2021-07-20 13:21:29.043970</td>\n",
       "      <td>s_64849</td>\n",
       "      <td>c_103</td>\n",
       "      <td>f</td>\n",
       "      <td>1986.0</td>\n",
       "      <td>4.18</td>\n",
       "      <td>0.0</td>\n",
       "      <td>both</td>\n",
       "    </tr>\n",
       "    <tr>\n",
       "      <th>2</th>\n",
       "      <td>0_1518</td>\n",
       "      <td>2022-08-20 13:21:29.043970</td>\n",
       "      <td>s_255965</td>\n",
       "      <td>c_103</td>\n",
       "      <td>f</td>\n",
       "      <td>1986.0</td>\n",
       "      <td>4.18</td>\n",
       "      <td>0.0</td>\n",
       "      <td>both</td>\n",
       "    </tr>\n",
       "    <tr>\n",
       "      <th>3</th>\n",
       "      <td>0_1518</td>\n",
       "      <td>2021-05-09 11:52:55.100386</td>\n",
       "      <td>s_32104</td>\n",
       "      <td>c_6714</td>\n",
       "      <td>f</td>\n",
       "      <td>1968.0</td>\n",
       "      <td>4.18</td>\n",
       "      <td>0.0</td>\n",
       "      <td>both</td>\n",
       "    </tr>\n",
       "    <tr>\n",
       "      <th>4</th>\n",
       "      <td>0_1518</td>\n",
       "      <td>2022-05-30 01:17:07.487046</td>\n",
       "      <td>s_216118</td>\n",
       "      <td>c_6714</td>\n",
       "      <td>f</td>\n",
       "      <td>1968.0</td>\n",
       "      <td>4.18</td>\n",
       "      <td>0.0</td>\n",
       "      <td>both</td>\n",
       "    </tr>\n",
       "    <tr>\n",
       "      <th>...</th>\n",
       "      <td>...</td>\n",
       "      <td>...</td>\n",
       "      <td>...</td>\n",
       "      <td>...</td>\n",
       "      <td>...</td>\n",
       "      <td>...</td>\n",
       "      <td>...</td>\n",
       "      <td>...</td>\n",
       "      <td>...</td>\n",
       "    </tr>\n",
       "    <tr>\n",
       "      <th>679327</th>\n",
       "      <td>1_408</td>\n",
       "      <td>2023-01-26 06:52:02.225335</td>\n",
       "      <td>s_332548</td>\n",
       "      <td>c_7402</td>\n",
       "      <td>m</td>\n",
       "      <td>1945.0</td>\n",
       "      <td>35.24</td>\n",
       "      <td>1.0</td>\n",
       "      <td>both</td>\n",
       "    </tr>\n",
       "    <tr>\n",
       "      <th>679328</th>\n",
       "      <td>1_408</td>\n",
       "      <td>2022-11-26 06:52:02.225335</td>\n",
       "      <td>s_302962</td>\n",
       "      <td>c_7402</td>\n",
       "      <td>m</td>\n",
       "      <td>1945.0</td>\n",
       "      <td>35.24</td>\n",
       "      <td>1.0</td>\n",
       "      <td>both</td>\n",
       "    </tr>\n",
       "    <tr>\n",
       "      <th>679329</th>\n",
       "      <td>1_408</td>\n",
       "      <td>2021-09-26 06:52:02.225335</td>\n",
       "      <td>s_95708</td>\n",
       "      <td>c_7402</td>\n",
       "      <td>m</td>\n",
       "      <td>1945.0</td>\n",
       "      <td>35.24</td>\n",
       "      <td>1.0</td>\n",
       "      <td>both</td>\n",
       "    </tr>\n",
       "    <tr>\n",
       "      <th>679330</th>\n",
       "      <td>2_81</td>\n",
       "      <td>2022-02-19 14:51:58.078656</td>\n",
       "      <td>s_167662</td>\n",
       "      <td>c_7616</td>\n",
       "      <td>m</td>\n",
       "      <td>1993.0</td>\n",
       "      <td>86.99</td>\n",
       "      <td>2.0</td>\n",
       "      <td>both</td>\n",
       "    </tr>\n",
       "    <tr>\n",
       "      <th>679331</th>\n",
       "      <td>2_98</td>\n",
       "      <td>2021-03-08 21:10:32.250919</td>\n",
       "      <td>s_3637</td>\n",
       "      <td>c_5967</td>\n",
       "      <td>f</td>\n",
       "      <td>2003.0</td>\n",
       "      <td>149.74</td>\n",
       "      <td>2.0</td>\n",
       "      <td>both</td>\n",
       "    </tr>\n",
       "  </tbody>\n",
       "</table>\n",
       "<p>679111 rows × 9 columns</p>\n",
       "</div>"
      ],
      "text/plain": [
       "       id_prod                        date session_id client_id sex   birth  \\\n",
       "0       0_1518  2022-05-20 13:21:29.043970   s_211425     c_103   f  1986.0   \n",
       "1       0_1518  2021-07-20 13:21:29.043970    s_64849     c_103   f  1986.0   \n",
       "2       0_1518  2022-08-20 13:21:29.043970   s_255965     c_103   f  1986.0   \n",
       "3       0_1518  2021-05-09 11:52:55.100386    s_32104    c_6714   f  1968.0   \n",
       "4       0_1518  2022-05-30 01:17:07.487046   s_216118    c_6714   f  1968.0   \n",
       "...        ...                         ...        ...       ...  ..     ...   \n",
       "679327   1_408  2023-01-26 06:52:02.225335   s_332548    c_7402   m  1945.0   \n",
       "679328   1_408  2022-11-26 06:52:02.225335   s_302962    c_7402   m  1945.0   \n",
       "679329   1_408  2021-09-26 06:52:02.225335    s_95708    c_7402   m  1945.0   \n",
       "679330    2_81  2022-02-19 14:51:58.078656   s_167662    c_7616   m  1993.0   \n",
       "679331    2_98  2021-03-08 21:10:32.250919     s_3637    c_5967   f  2003.0   \n",
       "\n",
       "         price  categ _merge  \n",
       "0         4.18    0.0   both  \n",
       "1         4.18    0.0   both  \n",
       "2         4.18    0.0   both  \n",
       "3         4.18    0.0   both  \n",
       "4         4.18    0.0   both  \n",
       "...        ...    ...    ...  \n",
       "679327   35.24    1.0   both  \n",
       "679328   35.24    1.0   both  \n",
       "679329   35.24    1.0   both  \n",
       "679330   86.99    2.0   both  \n",
       "679331  149.74    2.0   both  \n",
       "\n",
       "[679111 rows x 9 columns]"
      ]
     },
     "execution_count": 34,
     "metadata": {},
     "output_type": "execute_result"
    }
   ],
   "source": [
    "#Aperçu de la colonne both\n",
    "\n",
    "transactions[transactions[\"_merge\"]== \"both\"]"
   ]
  },
  {
   "cell_type": "code",
   "execution_count": 35,
   "id": "a45ab580",
   "metadata": {},
   "outputs": [
    {
     "data": {
      "text/html": [
       "<div>\n",
       "<style scoped>\n",
       "    .dataframe tbody tr th:only-of-type {\n",
       "        vertical-align: middle;\n",
       "    }\n",
       "\n",
       "    .dataframe tbody tr th {\n",
       "        vertical-align: top;\n",
       "    }\n",
       "\n",
       "    .dataframe thead th {\n",
       "        text-align: right;\n",
       "    }\n",
       "</style>\n",
       "<table border=\"1\" class=\"dataframe\">\n",
       "  <thead>\n",
       "    <tr style=\"text-align: right;\">\n",
       "      <th></th>\n",
       "      <th>id_prod</th>\n",
       "      <th>date</th>\n",
       "      <th>session_id</th>\n",
       "      <th>client_id</th>\n",
       "      <th>sex</th>\n",
       "      <th>birth</th>\n",
       "      <th>price</th>\n",
       "      <th>categ</th>\n",
       "      <th>_merge</th>\n",
       "    </tr>\n",
       "  </thead>\n",
       "  <tbody>\n",
       "    <tr>\n",
       "      <th>311747</th>\n",
       "      <td>0_2245</td>\n",
       "      <td>2021-04-22 04:57:20.090378</td>\n",
       "      <td>s_23987</td>\n",
       "      <td>c_6714</td>\n",
       "      <td>f</td>\n",
       "      <td>1968.0</td>\n",
       "      <td>NaN</td>\n",
       "      <td>NaN</td>\n",
       "      <td>left_only</td>\n",
       "    </tr>\n",
       "    <tr>\n",
       "      <th>311748</th>\n",
       "      <td>0_2245</td>\n",
       "      <td>2021-06-05 17:04:43.982913</td>\n",
       "      <td>s_44481</td>\n",
       "      <td>c_6714</td>\n",
       "      <td>f</td>\n",
       "      <td>1968.0</td>\n",
       "      <td>NaN</td>\n",
       "      <td>NaN</td>\n",
       "      <td>left_only</td>\n",
       "    </tr>\n",
       "    <tr>\n",
       "      <th>311749</th>\n",
       "      <td>0_2245</td>\n",
       "      <td>2022-04-05 17:04:43.982913</td>\n",
       "      <td>s_189669</td>\n",
       "      <td>c_6714</td>\n",
       "      <td>f</td>\n",
       "      <td>1968.0</td>\n",
       "      <td>NaN</td>\n",
       "      <td>NaN</td>\n",
       "      <td>left_only</td>\n",
       "    </tr>\n",
       "    <tr>\n",
       "      <th>311750</th>\n",
       "      <td>0_2245</td>\n",
       "      <td>2022-05-05 17:04:43.982913</td>\n",
       "      <td>s_204093</td>\n",
       "      <td>c_6714</td>\n",
       "      <td>f</td>\n",
       "      <td>1968.0</td>\n",
       "      <td>NaN</td>\n",
       "      <td>NaN</td>\n",
       "      <td>left_only</td>\n",
       "    </tr>\n",
       "    <tr>\n",
       "      <th>311751</th>\n",
       "      <td>0_2245</td>\n",
       "      <td>2022-12-05 17:04:43.982913</td>\n",
       "      <td>s_307520</td>\n",
       "      <td>c_6714</td>\n",
       "      <td>f</td>\n",
       "      <td>1968.0</td>\n",
       "      <td>NaN</td>\n",
       "      <td>NaN</td>\n",
       "      <td>left_only</td>\n",
       "    </tr>\n",
       "    <tr>\n",
       "      <th>...</th>\n",
       "      <td>...</td>\n",
       "      <td>...</td>\n",
       "      <td>...</td>\n",
       "      <td>...</td>\n",
       "      <td>...</td>\n",
       "      <td>...</td>\n",
       "      <td>...</td>\n",
       "      <td>...</td>\n",
       "      <td>...</td>\n",
       "    </tr>\n",
       "    <tr>\n",
       "      <th>311963</th>\n",
       "      <td>0_2245</td>\n",
       "      <td>2021-10-19 09:32:03.667461</td>\n",
       "      <td>s_107022</td>\n",
       "      <td>c_6128</td>\n",
       "      <td>m</td>\n",
       "      <td>1986.0</td>\n",
       "      <td>NaN</td>\n",
       "      <td>NaN</td>\n",
       "      <td>left_only</td>\n",
       "    </tr>\n",
       "    <tr>\n",
       "      <th>311964</th>\n",
       "      <td>0_2245</td>\n",
       "      <td>2021-11-12 09:25:22.905886</td>\n",
       "      <td>s_118458</td>\n",
       "      <td>c_7416</td>\n",
       "      <td>m</td>\n",
       "      <td>1933.0</td>\n",
       "      <td>NaN</td>\n",
       "      <td>NaN</td>\n",
       "      <td>left_only</td>\n",
       "    </tr>\n",
       "    <tr>\n",
       "      <th>311965</th>\n",
       "      <td>0_2245</td>\n",
       "      <td>2021-08-22 08:51:27.564509</td>\n",
       "      <td>s_79102</td>\n",
       "      <td>c_6752</td>\n",
       "      <td>m</td>\n",
       "      <td>1987.0</td>\n",
       "      <td>NaN</td>\n",
       "      <td>NaN</td>\n",
       "      <td>left_only</td>\n",
       "    </tr>\n",
       "    <tr>\n",
       "      <th>311966</th>\n",
       "      <td>0_2245</td>\n",
       "      <td>2022-04-22 08:51:27.564509</td>\n",
       "      <td>s_197669</td>\n",
       "      <td>c_6752</td>\n",
       "      <td>m</td>\n",
       "      <td>1987.0</td>\n",
       "      <td>NaN</td>\n",
       "      <td>NaN</td>\n",
       "      <td>left_only</td>\n",
       "    </tr>\n",
       "    <tr>\n",
       "      <th>311967</th>\n",
       "      <td>0_2245</td>\n",
       "      <td>2021-05-20 07:44:21.415061</td>\n",
       "      <td>s_36985</td>\n",
       "      <td>c_1450</td>\n",
       "      <td>f</td>\n",
       "      <td>1959.0</td>\n",
       "      <td>NaN</td>\n",
       "      <td>NaN</td>\n",
       "      <td>left_only</td>\n",
       "    </tr>\n",
       "  </tbody>\n",
       "</table>\n",
       "<p>221 rows × 9 columns</p>\n",
       "</div>"
      ],
      "text/plain": [
       "       id_prod                        date session_id client_id sex   birth  \\\n",
       "311747  0_2245  2021-04-22 04:57:20.090378    s_23987    c_6714   f  1968.0   \n",
       "311748  0_2245  2021-06-05 17:04:43.982913    s_44481    c_6714   f  1968.0   \n",
       "311749  0_2245  2022-04-05 17:04:43.982913   s_189669    c_6714   f  1968.0   \n",
       "311750  0_2245  2022-05-05 17:04:43.982913   s_204093    c_6714   f  1968.0   \n",
       "311751  0_2245  2022-12-05 17:04:43.982913   s_307520    c_6714   f  1968.0   \n",
       "...        ...                         ...        ...       ...  ..     ...   \n",
       "311963  0_2245  2021-10-19 09:32:03.667461   s_107022    c_6128   m  1986.0   \n",
       "311964  0_2245  2021-11-12 09:25:22.905886   s_118458    c_7416   m  1933.0   \n",
       "311965  0_2245  2021-08-22 08:51:27.564509    s_79102    c_6752   m  1987.0   \n",
       "311966  0_2245  2022-04-22 08:51:27.564509   s_197669    c_6752   m  1987.0   \n",
       "311967  0_2245  2021-05-20 07:44:21.415061    s_36985    c_1450   f  1959.0   \n",
       "\n",
       "        price  categ     _merge  \n",
       "311747    NaN    NaN  left_only  \n",
       "311748    NaN    NaN  left_only  \n",
       "311749    NaN    NaN  left_only  \n",
       "311750    NaN    NaN  left_only  \n",
       "311751    NaN    NaN  left_only  \n",
       "...       ...    ...        ...  \n",
       "311963    NaN    NaN  left_only  \n",
       "311964    NaN    NaN  left_only  \n",
       "311965    NaN    NaN  left_only  \n",
       "311966    NaN    NaN  left_only  \n",
       "311967    NaN    NaN  left_only  \n",
       "\n",
       "[221 rows x 9 columns]"
      ]
     },
     "execution_count": 35,
     "metadata": {},
     "output_type": "execute_result"
    }
   ],
   "source": [
    "#Aperçu de la colonne left_only\n",
    "\n",
    "transactions[transactions[\"_merge\"]== \"left_only\"]"
   ]
  },
  {
   "cell_type": "markdown",
   "id": "7f074849",
   "metadata": {},
   "source": [
    "Je vais enlever le produit id_prod 0_2245, il a été vendu 221 fois mais n'est pas présent dans l'inventaire, il n'a pas de prix ni de catégorie"
   ]
  },
  {
   "cell_type": "code",
   "execution_count": 36,
   "id": "fa09704d",
   "metadata": {
    "scrolled": true
   },
   "outputs": [
    {
     "data": {
      "text/html": [
       "<div>\n",
       "<style scoped>\n",
       "    .dataframe tbody tr th:only-of-type {\n",
       "        vertical-align: middle;\n",
       "    }\n",
       "\n",
       "    .dataframe tbody tr th {\n",
       "        vertical-align: top;\n",
       "    }\n",
       "\n",
       "    .dataframe thead th {\n",
       "        text-align: right;\n",
       "    }\n",
       "</style>\n",
       "<table border=\"1\" class=\"dataframe\">\n",
       "  <thead>\n",
       "    <tr style=\"text-align: right;\">\n",
       "      <th></th>\n",
       "      <th>id_prod</th>\n",
       "      <th>date</th>\n",
       "      <th>session_id</th>\n",
       "      <th>client_id</th>\n",
       "      <th>sex</th>\n",
       "      <th>birth</th>\n",
       "      <th>price</th>\n",
       "      <th>categ</th>\n",
       "      <th>_merge</th>\n",
       "    </tr>\n",
       "  </thead>\n",
       "  <tbody>\n",
       "    <tr>\n",
       "      <th>679332</th>\n",
       "      <td>0_1016</td>\n",
       "      <td>NaN</td>\n",
       "      <td>NaN</td>\n",
       "      <td>NaN</td>\n",
       "      <td>NaN</td>\n",
       "      <td>NaN</td>\n",
       "      <td>35.06</td>\n",
       "      <td>0.0</td>\n",
       "      <td>right_only</td>\n",
       "    </tr>\n",
       "    <tr>\n",
       "      <th>679333</th>\n",
       "      <td>0_1780</td>\n",
       "      <td>NaN</td>\n",
       "      <td>NaN</td>\n",
       "      <td>NaN</td>\n",
       "      <td>NaN</td>\n",
       "      <td>NaN</td>\n",
       "      <td>1.67</td>\n",
       "      <td>0.0</td>\n",
       "      <td>right_only</td>\n",
       "    </tr>\n",
       "    <tr>\n",
       "      <th>679334</th>\n",
       "      <td>T_0</td>\n",
       "      <td>NaN</td>\n",
       "      <td>NaN</td>\n",
       "      <td>NaN</td>\n",
       "      <td>NaN</td>\n",
       "      <td>NaN</td>\n",
       "      <td>-1.00</td>\n",
       "      <td>0.0</td>\n",
       "      <td>right_only</td>\n",
       "    </tr>\n",
       "    <tr>\n",
       "      <th>679335</th>\n",
       "      <td>0_1062</td>\n",
       "      <td>NaN</td>\n",
       "      <td>NaN</td>\n",
       "      <td>NaN</td>\n",
       "      <td>NaN</td>\n",
       "      <td>NaN</td>\n",
       "      <td>20.08</td>\n",
       "      <td>0.0</td>\n",
       "      <td>right_only</td>\n",
       "    </tr>\n",
       "    <tr>\n",
       "      <th>679336</th>\n",
       "      <td>0_1119</td>\n",
       "      <td>NaN</td>\n",
       "      <td>NaN</td>\n",
       "      <td>NaN</td>\n",
       "      <td>NaN</td>\n",
       "      <td>NaN</td>\n",
       "      <td>2.99</td>\n",
       "      <td>0.0</td>\n",
       "      <td>right_only</td>\n",
       "    </tr>\n",
       "    <tr>\n",
       "      <th>679337</th>\n",
       "      <td>0_1014</td>\n",
       "      <td>NaN</td>\n",
       "      <td>NaN</td>\n",
       "      <td>NaN</td>\n",
       "      <td>NaN</td>\n",
       "      <td>NaN</td>\n",
       "      <td>1.15</td>\n",
       "      <td>0.0</td>\n",
       "      <td>right_only</td>\n",
       "    </tr>\n",
       "    <tr>\n",
       "      <th>679338</th>\n",
       "      <td>1_0</td>\n",
       "      <td>NaN</td>\n",
       "      <td>NaN</td>\n",
       "      <td>NaN</td>\n",
       "      <td>NaN</td>\n",
       "      <td>NaN</td>\n",
       "      <td>31.82</td>\n",
       "      <td>1.0</td>\n",
       "      <td>right_only</td>\n",
       "    </tr>\n",
       "    <tr>\n",
       "      <th>679339</th>\n",
       "      <td>0_1318</td>\n",
       "      <td>NaN</td>\n",
       "      <td>NaN</td>\n",
       "      <td>NaN</td>\n",
       "      <td>NaN</td>\n",
       "      <td>NaN</td>\n",
       "      <td>20.92</td>\n",
       "      <td>0.0</td>\n",
       "      <td>right_only</td>\n",
       "    </tr>\n",
       "    <tr>\n",
       "      <th>679340</th>\n",
       "      <td>0_1800</td>\n",
       "      <td>NaN</td>\n",
       "      <td>NaN</td>\n",
       "      <td>NaN</td>\n",
       "      <td>NaN</td>\n",
       "      <td>NaN</td>\n",
       "      <td>22.05</td>\n",
       "      <td>0.0</td>\n",
       "      <td>right_only</td>\n",
       "    </tr>\n",
       "    <tr>\n",
       "      <th>679341</th>\n",
       "      <td>0_1645</td>\n",
       "      <td>NaN</td>\n",
       "      <td>NaN</td>\n",
       "      <td>NaN</td>\n",
       "      <td>NaN</td>\n",
       "      <td>NaN</td>\n",
       "      <td>2.99</td>\n",
       "      <td>0.0</td>\n",
       "      <td>right_only</td>\n",
       "    </tr>\n",
       "    <tr>\n",
       "      <th>679342</th>\n",
       "      <td>0_322</td>\n",
       "      <td>NaN</td>\n",
       "      <td>NaN</td>\n",
       "      <td>NaN</td>\n",
       "      <td>NaN</td>\n",
       "      <td>NaN</td>\n",
       "      <td>2.99</td>\n",
       "      <td>0.0</td>\n",
       "      <td>right_only</td>\n",
       "    </tr>\n",
       "    <tr>\n",
       "      <th>679343</th>\n",
       "      <td>0_1620</td>\n",
       "      <td>NaN</td>\n",
       "      <td>NaN</td>\n",
       "      <td>NaN</td>\n",
       "      <td>NaN</td>\n",
       "      <td>NaN</td>\n",
       "      <td>0.80</td>\n",
       "      <td>0.0</td>\n",
       "      <td>right_only</td>\n",
       "    </tr>\n",
       "    <tr>\n",
       "      <th>679344</th>\n",
       "      <td>0_1025</td>\n",
       "      <td>NaN</td>\n",
       "      <td>NaN</td>\n",
       "      <td>NaN</td>\n",
       "      <td>NaN</td>\n",
       "      <td>NaN</td>\n",
       "      <td>24.99</td>\n",
       "      <td>0.0</td>\n",
       "      <td>right_only</td>\n",
       "    </tr>\n",
       "    <tr>\n",
       "      <th>679345</th>\n",
       "      <td>2_87</td>\n",
       "      <td>NaN</td>\n",
       "      <td>NaN</td>\n",
       "      <td>NaN</td>\n",
       "      <td>NaN</td>\n",
       "      <td>NaN</td>\n",
       "      <td>220.99</td>\n",
       "      <td>2.0</td>\n",
       "      <td>right_only</td>\n",
       "    </tr>\n",
       "    <tr>\n",
       "      <th>679346</th>\n",
       "      <td>1_394</td>\n",
       "      <td>NaN</td>\n",
       "      <td>NaN</td>\n",
       "      <td>NaN</td>\n",
       "      <td>NaN</td>\n",
       "      <td>NaN</td>\n",
       "      <td>39.73</td>\n",
       "      <td>1.0</td>\n",
       "      <td>right_only</td>\n",
       "    </tr>\n",
       "    <tr>\n",
       "      <th>679347</th>\n",
       "      <td>2_72</td>\n",
       "      <td>NaN</td>\n",
       "      <td>NaN</td>\n",
       "      <td>NaN</td>\n",
       "      <td>NaN</td>\n",
       "      <td>NaN</td>\n",
       "      <td>141.32</td>\n",
       "      <td>2.0</td>\n",
       "      <td>right_only</td>\n",
       "    </tr>\n",
       "    <tr>\n",
       "      <th>679348</th>\n",
       "      <td>0_310</td>\n",
       "      <td>NaN</td>\n",
       "      <td>NaN</td>\n",
       "      <td>NaN</td>\n",
       "      <td>NaN</td>\n",
       "      <td>NaN</td>\n",
       "      <td>1.94</td>\n",
       "      <td>0.0</td>\n",
       "      <td>right_only</td>\n",
       "    </tr>\n",
       "    <tr>\n",
       "      <th>679349</th>\n",
       "      <td>0_1624</td>\n",
       "      <td>NaN</td>\n",
       "      <td>NaN</td>\n",
       "      <td>NaN</td>\n",
       "      <td>NaN</td>\n",
       "      <td>NaN</td>\n",
       "      <td>24.50</td>\n",
       "      <td>0.0</td>\n",
       "      <td>right_only</td>\n",
       "    </tr>\n",
       "    <tr>\n",
       "      <th>679350</th>\n",
       "      <td>2_86</td>\n",
       "      <td>NaN</td>\n",
       "      <td>NaN</td>\n",
       "      <td>NaN</td>\n",
       "      <td>NaN</td>\n",
       "      <td>NaN</td>\n",
       "      <td>132.36</td>\n",
       "      <td>2.0</td>\n",
       "      <td>right_only</td>\n",
       "    </tr>\n",
       "    <tr>\n",
       "      <th>679351</th>\n",
       "      <td>0_299</td>\n",
       "      <td>NaN</td>\n",
       "      <td>NaN</td>\n",
       "      <td>NaN</td>\n",
       "      <td>NaN</td>\n",
       "      <td>NaN</td>\n",
       "      <td>22.99</td>\n",
       "      <td>0.0</td>\n",
       "      <td>right_only</td>\n",
       "    </tr>\n",
       "    <tr>\n",
       "      <th>679352</th>\n",
       "      <td>0_510</td>\n",
       "      <td>NaN</td>\n",
       "      <td>NaN</td>\n",
       "      <td>NaN</td>\n",
       "      <td>NaN</td>\n",
       "      <td>NaN</td>\n",
       "      <td>23.66</td>\n",
       "      <td>0.0</td>\n",
       "      <td>right_only</td>\n",
       "    </tr>\n",
       "    <tr>\n",
       "      <th>679353</th>\n",
       "      <td>0_2308</td>\n",
       "      <td>NaN</td>\n",
       "      <td>NaN</td>\n",
       "      <td>NaN</td>\n",
       "      <td>NaN</td>\n",
       "      <td>NaN</td>\n",
       "      <td>20.28</td>\n",
       "      <td>0.0</td>\n",
       "      <td>right_only</td>\n",
       "    </tr>\n",
       "  </tbody>\n",
       "</table>\n",
       "</div>"
      ],
      "text/plain": [
       "       id_prod date session_id client_id  sex  birth   price  categ  \\\n",
       "679332  0_1016  NaN        NaN       NaN  NaN    NaN   35.06    0.0   \n",
       "679333  0_1780  NaN        NaN       NaN  NaN    NaN    1.67    0.0   \n",
       "679334     T_0  NaN        NaN       NaN  NaN    NaN   -1.00    0.0   \n",
       "679335  0_1062  NaN        NaN       NaN  NaN    NaN   20.08    0.0   \n",
       "679336  0_1119  NaN        NaN       NaN  NaN    NaN    2.99    0.0   \n",
       "679337  0_1014  NaN        NaN       NaN  NaN    NaN    1.15    0.0   \n",
       "679338     1_0  NaN        NaN       NaN  NaN    NaN   31.82    1.0   \n",
       "679339  0_1318  NaN        NaN       NaN  NaN    NaN   20.92    0.0   \n",
       "679340  0_1800  NaN        NaN       NaN  NaN    NaN   22.05    0.0   \n",
       "679341  0_1645  NaN        NaN       NaN  NaN    NaN    2.99    0.0   \n",
       "679342   0_322  NaN        NaN       NaN  NaN    NaN    2.99    0.0   \n",
       "679343  0_1620  NaN        NaN       NaN  NaN    NaN    0.80    0.0   \n",
       "679344  0_1025  NaN        NaN       NaN  NaN    NaN   24.99    0.0   \n",
       "679345    2_87  NaN        NaN       NaN  NaN    NaN  220.99    2.0   \n",
       "679346   1_394  NaN        NaN       NaN  NaN    NaN   39.73    1.0   \n",
       "679347    2_72  NaN        NaN       NaN  NaN    NaN  141.32    2.0   \n",
       "679348   0_310  NaN        NaN       NaN  NaN    NaN    1.94    0.0   \n",
       "679349  0_1624  NaN        NaN       NaN  NaN    NaN   24.50    0.0   \n",
       "679350    2_86  NaN        NaN       NaN  NaN    NaN  132.36    2.0   \n",
       "679351   0_299  NaN        NaN       NaN  NaN    NaN   22.99    0.0   \n",
       "679352   0_510  NaN        NaN       NaN  NaN    NaN   23.66    0.0   \n",
       "679353  0_2308  NaN        NaN       NaN  NaN    NaN   20.28    0.0   \n",
       "\n",
       "            _merge  \n",
       "679332  right_only  \n",
       "679333  right_only  \n",
       "679334  right_only  \n",
       "679335  right_only  \n",
       "679336  right_only  \n",
       "679337  right_only  \n",
       "679338  right_only  \n",
       "679339  right_only  \n",
       "679340  right_only  \n",
       "679341  right_only  \n",
       "679342  right_only  \n",
       "679343  right_only  \n",
       "679344  right_only  \n",
       "679345  right_only  \n",
       "679346  right_only  \n",
       "679347  right_only  \n",
       "679348  right_only  \n",
       "679349  right_only  \n",
       "679350  right_only  \n",
       "679351  right_only  \n",
       "679352  right_only  \n",
       "679353  right_only  "
      ]
     },
     "execution_count": 36,
     "metadata": {},
     "output_type": "execute_result"
    }
   ],
   "source": [
    "#Aperçu de la colonne right_only\n",
    "\n",
    "transactions[transactions[\"_merge\"]== \"right_only\"]"
   ]
  },
  {
   "cell_type": "markdown",
   "id": "f822f3bb",
   "metadata": {},
   "source": [
    "On ne va pas garder right_only parce qu'ils n'ont pas de date, ni de session_id, ni de client_id, ni de sex et pas non plus de birth, donc ne correspondent pas à des clients existants et réels"
   ]
  },
  {
   "cell_type": "code",
   "execution_count": 37,
   "id": "ea766b99",
   "metadata": {
    "scrolled": true
   },
   "outputs": [
    {
     "data": {
      "text/html": [
       "<div>\n",
       "<style scoped>\n",
       "    .dataframe tbody tr th:only-of-type {\n",
       "        vertical-align: middle;\n",
       "    }\n",
       "\n",
       "    .dataframe tbody tr th {\n",
       "        vertical-align: top;\n",
       "    }\n",
       "\n",
       "    .dataframe thead th {\n",
       "        text-align: right;\n",
       "    }\n",
       "</style>\n",
       "<table border=\"1\" class=\"dataframe\">\n",
       "  <thead>\n",
       "    <tr style=\"text-align: right;\">\n",
       "      <th></th>\n",
       "      <th>id_prod</th>\n",
       "      <th>date</th>\n",
       "      <th>session_id</th>\n",
       "      <th>client_id</th>\n",
       "      <th>sex</th>\n",
       "      <th>birth</th>\n",
       "      <th>price</th>\n",
       "      <th>categ</th>\n",
       "      <th>_merge</th>\n",
       "    </tr>\n",
       "  </thead>\n",
       "  <tbody>\n",
       "    <tr>\n",
       "      <th>0</th>\n",
       "      <td>0_1518</td>\n",
       "      <td>2022-05-20 13:21:29.043970</td>\n",
       "      <td>s_211425</td>\n",
       "      <td>c_103</td>\n",
       "      <td>f</td>\n",
       "      <td>1986.0</td>\n",
       "      <td>4.18</td>\n",
       "      <td>0.0</td>\n",
       "      <td>both</td>\n",
       "    </tr>\n",
       "    <tr>\n",
       "      <th>1</th>\n",
       "      <td>0_1518</td>\n",
       "      <td>2021-07-20 13:21:29.043970</td>\n",
       "      <td>s_64849</td>\n",
       "      <td>c_103</td>\n",
       "      <td>f</td>\n",
       "      <td>1986.0</td>\n",
       "      <td>4.18</td>\n",
       "      <td>0.0</td>\n",
       "      <td>both</td>\n",
       "    </tr>\n",
       "    <tr>\n",
       "      <th>2</th>\n",
       "      <td>0_1518</td>\n",
       "      <td>2022-08-20 13:21:29.043970</td>\n",
       "      <td>s_255965</td>\n",
       "      <td>c_103</td>\n",
       "      <td>f</td>\n",
       "      <td>1986.0</td>\n",
       "      <td>4.18</td>\n",
       "      <td>0.0</td>\n",
       "      <td>both</td>\n",
       "    </tr>\n",
       "    <tr>\n",
       "      <th>3</th>\n",
       "      <td>0_1518</td>\n",
       "      <td>2021-05-09 11:52:55.100386</td>\n",
       "      <td>s_32104</td>\n",
       "      <td>c_6714</td>\n",
       "      <td>f</td>\n",
       "      <td>1968.0</td>\n",
       "      <td>4.18</td>\n",
       "      <td>0.0</td>\n",
       "      <td>both</td>\n",
       "    </tr>\n",
       "    <tr>\n",
       "      <th>4</th>\n",
       "      <td>0_1518</td>\n",
       "      <td>2022-05-30 01:17:07.487046</td>\n",
       "      <td>s_216118</td>\n",
       "      <td>c_6714</td>\n",
       "      <td>f</td>\n",
       "      <td>1968.0</td>\n",
       "      <td>4.18</td>\n",
       "      <td>0.0</td>\n",
       "      <td>both</td>\n",
       "    </tr>\n",
       "    <tr>\n",
       "      <th>...</th>\n",
       "      <td>...</td>\n",
       "      <td>...</td>\n",
       "      <td>...</td>\n",
       "      <td>...</td>\n",
       "      <td>...</td>\n",
       "      <td>...</td>\n",
       "      <td>...</td>\n",
       "      <td>...</td>\n",
       "      <td>...</td>\n",
       "    </tr>\n",
       "    <tr>\n",
       "      <th>679349</th>\n",
       "      <td>0_1624</td>\n",
       "      <td>NaN</td>\n",
       "      <td>NaN</td>\n",
       "      <td>NaN</td>\n",
       "      <td>NaN</td>\n",
       "      <td>NaN</td>\n",
       "      <td>24.50</td>\n",
       "      <td>0.0</td>\n",
       "      <td>right_only</td>\n",
       "    </tr>\n",
       "    <tr>\n",
       "      <th>679350</th>\n",
       "      <td>2_86</td>\n",
       "      <td>NaN</td>\n",
       "      <td>NaN</td>\n",
       "      <td>NaN</td>\n",
       "      <td>NaN</td>\n",
       "      <td>NaN</td>\n",
       "      <td>132.36</td>\n",
       "      <td>2.0</td>\n",
       "      <td>right_only</td>\n",
       "    </tr>\n",
       "    <tr>\n",
       "      <th>679351</th>\n",
       "      <td>0_299</td>\n",
       "      <td>NaN</td>\n",
       "      <td>NaN</td>\n",
       "      <td>NaN</td>\n",
       "      <td>NaN</td>\n",
       "      <td>NaN</td>\n",
       "      <td>22.99</td>\n",
       "      <td>0.0</td>\n",
       "      <td>right_only</td>\n",
       "    </tr>\n",
       "    <tr>\n",
       "      <th>679352</th>\n",
       "      <td>0_510</td>\n",
       "      <td>NaN</td>\n",
       "      <td>NaN</td>\n",
       "      <td>NaN</td>\n",
       "      <td>NaN</td>\n",
       "      <td>NaN</td>\n",
       "      <td>23.66</td>\n",
       "      <td>0.0</td>\n",
       "      <td>right_only</td>\n",
       "    </tr>\n",
       "    <tr>\n",
       "      <th>679353</th>\n",
       "      <td>0_2308</td>\n",
       "      <td>NaN</td>\n",
       "      <td>NaN</td>\n",
       "      <td>NaN</td>\n",
       "      <td>NaN</td>\n",
       "      <td>NaN</td>\n",
       "      <td>20.28</td>\n",
       "      <td>0.0</td>\n",
       "      <td>right_only</td>\n",
       "    </tr>\n",
       "  </tbody>\n",
       "</table>\n",
       "<p>679133 rows × 9 columns</p>\n",
       "</div>"
      ],
      "text/plain": [
       "       id_prod                        date session_id client_id  sex   birth  \\\n",
       "0       0_1518  2022-05-20 13:21:29.043970   s_211425     c_103    f  1986.0   \n",
       "1       0_1518  2021-07-20 13:21:29.043970    s_64849     c_103    f  1986.0   \n",
       "2       0_1518  2022-08-20 13:21:29.043970   s_255965     c_103    f  1986.0   \n",
       "3       0_1518  2021-05-09 11:52:55.100386    s_32104    c_6714    f  1968.0   \n",
       "4       0_1518  2022-05-30 01:17:07.487046   s_216118    c_6714    f  1968.0   \n",
       "...        ...                         ...        ...       ...  ...     ...   \n",
       "679349  0_1624                         NaN        NaN       NaN  NaN     NaN   \n",
       "679350    2_86                         NaN        NaN       NaN  NaN     NaN   \n",
       "679351   0_299                         NaN        NaN       NaN  NaN     NaN   \n",
       "679352   0_510                         NaN        NaN       NaN  NaN     NaN   \n",
       "679353  0_2308                         NaN        NaN       NaN  NaN     NaN   \n",
       "\n",
       "         price  categ      _merge  \n",
       "0         4.18    0.0        both  \n",
       "1         4.18    0.0        both  \n",
       "2         4.18    0.0        both  \n",
       "3         4.18    0.0        both  \n",
       "4         4.18    0.0        both  \n",
       "...        ...    ...         ...  \n",
       "679349   24.50    0.0  right_only  \n",
       "679350  132.36    2.0  right_only  \n",
       "679351   22.99    0.0  right_only  \n",
       "679352   23.66    0.0  right_only  \n",
       "679353   20.28    0.0  right_only  \n",
       "\n",
       "[679133 rows x 9 columns]"
      ]
     },
     "execution_count": 37,
     "metadata": {},
     "output_type": "execute_result"
    }
   ],
   "source": [
    "#Suppression des valeurs left_only\n",
    "\n",
    "transactions = transactions [~transactions['_merge'].str.startswith('left_only')]\n",
    "transactions"
   ]
  },
  {
   "cell_type": "code",
   "execution_count": 38,
   "id": "2e78130e",
   "metadata": {},
   "outputs": [
    {
     "data": {
      "text/html": [
       "<div>\n",
       "<style scoped>\n",
       "    .dataframe tbody tr th:only-of-type {\n",
       "        vertical-align: middle;\n",
       "    }\n",
       "\n",
       "    .dataframe tbody tr th {\n",
       "        vertical-align: top;\n",
       "    }\n",
       "\n",
       "    .dataframe thead th {\n",
       "        text-align: right;\n",
       "    }\n",
       "</style>\n",
       "<table border=\"1\" class=\"dataframe\">\n",
       "  <thead>\n",
       "    <tr style=\"text-align: right;\">\n",
       "      <th></th>\n",
       "      <th>id_prod</th>\n",
       "      <th>date</th>\n",
       "      <th>session_id</th>\n",
       "      <th>client_id</th>\n",
       "      <th>sex</th>\n",
       "      <th>birth</th>\n",
       "      <th>price</th>\n",
       "      <th>categ</th>\n",
       "      <th>_merge</th>\n",
       "    </tr>\n",
       "  </thead>\n",
       "  <tbody>\n",
       "    <tr>\n",
       "      <th>0</th>\n",
       "      <td>0_1518</td>\n",
       "      <td>2022-05-20 13:21:29.043970</td>\n",
       "      <td>s_211425</td>\n",
       "      <td>c_103</td>\n",
       "      <td>f</td>\n",
       "      <td>1986.0</td>\n",
       "      <td>4.18</td>\n",
       "      <td>0.0</td>\n",
       "      <td>both</td>\n",
       "    </tr>\n",
       "    <tr>\n",
       "      <th>1</th>\n",
       "      <td>0_1518</td>\n",
       "      <td>2021-07-20 13:21:29.043970</td>\n",
       "      <td>s_64849</td>\n",
       "      <td>c_103</td>\n",
       "      <td>f</td>\n",
       "      <td>1986.0</td>\n",
       "      <td>4.18</td>\n",
       "      <td>0.0</td>\n",
       "      <td>both</td>\n",
       "    </tr>\n",
       "    <tr>\n",
       "      <th>2</th>\n",
       "      <td>0_1518</td>\n",
       "      <td>2022-08-20 13:21:29.043970</td>\n",
       "      <td>s_255965</td>\n",
       "      <td>c_103</td>\n",
       "      <td>f</td>\n",
       "      <td>1986.0</td>\n",
       "      <td>4.18</td>\n",
       "      <td>0.0</td>\n",
       "      <td>both</td>\n",
       "    </tr>\n",
       "    <tr>\n",
       "      <th>3</th>\n",
       "      <td>0_1518</td>\n",
       "      <td>2021-05-09 11:52:55.100386</td>\n",
       "      <td>s_32104</td>\n",
       "      <td>c_6714</td>\n",
       "      <td>f</td>\n",
       "      <td>1968.0</td>\n",
       "      <td>4.18</td>\n",
       "      <td>0.0</td>\n",
       "      <td>both</td>\n",
       "    </tr>\n",
       "    <tr>\n",
       "      <th>4</th>\n",
       "      <td>0_1518</td>\n",
       "      <td>2022-05-30 01:17:07.487046</td>\n",
       "      <td>s_216118</td>\n",
       "      <td>c_6714</td>\n",
       "      <td>f</td>\n",
       "      <td>1968.0</td>\n",
       "      <td>4.18</td>\n",
       "      <td>0.0</td>\n",
       "      <td>both</td>\n",
       "    </tr>\n",
       "    <tr>\n",
       "      <th>...</th>\n",
       "      <td>...</td>\n",
       "      <td>...</td>\n",
       "      <td>...</td>\n",
       "      <td>...</td>\n",
       "      <td>...</td>\n",
       "      <td>...</td>\n",
       "      <td>...</td>\n",
       "      <td>...</td>\n",
       "      <td>...</td>\n",
       "    </tr>\n",
       "    <tr>\n",
       "      <th>679327</th>\n",
       "      <td>1_408</td>\n",
       "      <td>2023-01-26 06:52:02.225335</td>\n",
       "      <td>s_332548</td>\n",
       "      <td>c_7402</td>\n",
       "      <td>m</td>\n",
       "      <td>1945.0</td>\n",
       "      <td>35.24</td>\n",
       "      <td>1.0</td>\n",
       "      <td>both</td>\n",
       "    </tr>\n",
       "    <tr>\n",
       "      <th>679328</th>\n",
       "      <td>1_408</td>\n",
       "      <td>2022-11-26 06:52:02.225335</td>\n",
       "      <td>s_302962</td>\n",
       "      <td>c_7402</td>\n",
       "      <td>m</td>\n",
       "      <td>1945.0</td>\n",
       "      <td>35.24</td>\n",
       "      <td>1.0</td>\n",
       "      <td>both</td>\n",
       "    </tr>\n",
       "    <tr>\n",
       "      <th>679329</th>\n",
       "      <td>1_408</td>\n",
       "      <td>2021-09-26 06:52:02.225335</td>\n",
       "      <td>s_95708</td>\n",
       "      <td>c_7402</td>\n",
       "      <td>m</td>\n",
       "      <td>1945.0</td>\n",
       "      <td>35.24</td>\n",
       "      <td>1.0</td>\n",
       "      <td>both</td>\n",
       "    </tr>\n",
       "    <tr>\n",
       "      <th>679330</th>\n",
       "      <td>2_81</td>\n",
       "      <td>2022-02-19 14:51:58.078656</td>\n",
       "      <td>s_167662</td>\n",
       "      <td>c_7616</td>\n",
       "      <td>m</td>\n",
       "      <td>1993.0</td>\n",
       "      <td>86.99</td>\n",
       "      <td>2.0</td>\n",
       "      <td>both</td>\n",
       "    </tr>\n",
       "    <tr>\n",
       "      <th>679331</th>\n",
       "      <td>2_98</td>\n",
       "      <td>2021-03-08 21:10:32.250919</td>\n",
       "      <td>s_3637</td>\n",
       "      <td>c_5967</td>\n",
       "      <td>f</td>\n",
       "      <td>2003.0</td>\n",
       "      <td>149.74</td>\n",
       "      <td>2.0</td>\n",
       "      <td>both</td>\n",
       "    </tr>\n",
       "  </tbody>\n",
       "</table>\n",
       "<p>679111 rows × 9 columns</p>\n",
       "</div>"
      ],
      "text/plain": [
       "       id_prod                        date session_id client_id sex   birth  \\\n",
       "0       0_1518  2022-05-20 13:21:29.043970   s_211425     c_103   f  1986.0   \n",
       "1       0_1518  2021-07-20 13:21:29.043970    s_64849     c_103   f  1986.0   \n",
       "2       0_1518  2022-08-20 13:21:29.043970   s_255965     c_103   f  1986.0   \n",
       "3       0_1518  2021-05-09 11:52:55.100386    s_32104    c_6714   f  1968.0   \n",
       "4       0_1518  2022-05-30 01:17:07.487046   s_216118    c_6714   f  1968.0   \n",
       "...        ...                         ...        ...       ...  ..     ...   \n",
       "679327   1_408  2023-01-26 06:52:02.225335   s_332548    c_7402   m  1945.0   \n",
       "679328   1_408  2022-11-26 06:52:02.225335   s_302962    c_7402   m  1945.0   \n",
       "679329   1_408  2021-09-26 06:52:02.225335    s_95708    c_7402   m  1945.0   \n",
       "679330    2_81  2022-02-19 14:51:58.078656   s_167662    c_7616   m  1993.0   \n",
       "679331    2_98  2021-03-08 21:10:32.250919     s_3637    c_5967   f  2003.0   \n",
       "\n",
       "         price  categ _merge  \n",
       "0         4.18    0.0   both  \n",
       "1         4.18    0.0   both  \n",
       "2         4.18    0.0   both  \n",
       "3         4.18    0.0   both  \n",
       "4         4.18    0.0   both  \n",
       "...        ...    ...    ...  \n",
       "679327   35.24    1.0   both  \n",
       "679328   35.24    1.0   both  \n",
       "679329   35.24    1.0   both  \n",
       "679330   86.99    2.0   both  \n",
       "679331  149.74    2.0   both  \n",
       "\n",
       "[679111 rows x 9 columns]"
      ]
     },
     "execution_count": 38,
     "metadata": {},
     "output_type": "execute_result"
    }
   ],
   "source": [
    "#Suppression des valeurs right_only\n",
    "\n",
    "transactions = transactions [~transactions['_merge'].str.startswith('right_only')]\n",
    "transactions"
   ]
  },
  {
   "cell_type": "code",
   "execution_count": 39,
   "id": "0ba891ab",
   "metadata": {},
   "outputs": [
    {
     "data": {
      "text/plain": [
       "both          679111\n",
       "left_only          0\n",
       "right_only         0\n",
       "Name: _merge, dtype: int64"
      ]
     },
     "execution_count": 39,
     "metadata": {},
     "output_type": "execute_result"
    }
   ],
   "source": [
    "#On verifie que les données ont bien était supprimées \n",
    "\n",
    "transactions['_merge'].value_counts()"
   ]
  },
  {
   "cell_type": "code",
   "execution_count": 40,
   "id": "06c49a10",
   "metadata": {
    "scrolled": true
   },
   "outputs": [
    {
     "data": {
      "text/html": [
       "<div>\n",
       "<style scoped>\n",
       "    .dataframe tbody tr th:only-of-type {\n",
       "        vertical-align: middle;\n",
       "    }\n",
       "\n",
       "    .dataframe tbody tr th {\n",
       "        vertical-align: top;\n",
       "    }\n",
       "\n",
       "    .dataframe thead th {\n",
       "        text-align: right;\n",
       "    }\n",
       "</style>\n",
       "<table border=\"1\" class=\"dataframe\">\n",
       "  <thead>\n",
       "    <tr style=\"text-align: right;\">\n",
       "      <th></th>\n",
       "      <th>id_prod</th>\n",
       "      <th>date</th>\n",
       "      <th>session_id</th>\n",
       "      <th>client_id</th>\n",
       "      <th>sex</th>\n",
       "      <th>birth</th>\n",
       "      <th>price</th>\n",
       "      <th>categ</th>\n",
       "    </tr>\n",
       "  </thead>\n",
       "  <tbody>\n",
       "    <tr>\n",
       "      <th>0</th>\n",
       "      <td>0_1518</td>\n",
       "      <td>2022-05-20 13:21:29.043970</td>\n",
       "      <td>s_211425</td>\n",
       "      <td>c_103</td>\n",
       "      <td>f</td>\n",
       "      <td>1986.0</td>\n",
       "      <td>4.18</td>\n",
       "      <td>0.0</td>\n",
       "    </tr>\n",
       "    <tr>\n",
       "      <th>1</th>\n",
       "      <td>0_1518</td>\n",
       "      <td>2021-07-20 13:21:29.043970</td>\n",
       "      <td>s_64849</td>\n",
       "      <td>c_103</td>\n",
       "      <td>f</td>\n",
       "      <td>1986.0</td>\n",
       "      <td>4.18</td>\n",
       "      <td>0.0</td>\n",
       "    </tr>\n",
       "    <tr>\n",
       "      <th>2</th>\n",
       "      <td>0_1518</td>\n",
       "      <td>2022-08-20 13:21:29.043970</td>\n",
       "      <td>s_255965</td>\n",
       "      <td>c_103</td>\n",
       "      <td>f</td>\n",
       "      <td>1986.0</td>\n",
       "      <td>4.18</td>\n",
       "      <td>0.0</td>\n",
       "    </tr>\n",
       "    <tr>\n",
       "      <th>3</th>\n",
       "      <td>0_1518</td>\n",
       "      <td>2021-05-09 11:52:55.100386</td>\n",
       "      <td>s_32104</td>\n",
       "      <td>c_6714</td>\n",
       "      <td>f</td>\n",
       "      <td>1968.0</td>\n",
       "      <td>4.18</td>\n",
       "      <td>0.0</td>\n",
       "    </tr>\n",
       "    <tr>\n",
       "      <th>4</th>\n",
       "      <td>0_1518</td>\n",
       "      <td>2022-05-30 01:17:07.487046</td>\n",
       "      <td>s_216118</td>\n",
       "      <td>c_6714</td>\n",
       "      <td>f</td>\n",
       "      <td>1968.0</td>\n",
       "      <td>4.18</td>\n",
       "      <td>0.0</td>\n",
       "    </tr>\n",
       "    <tr>\n",
       "      <th>...</th>\n",
       "      <td>...</td>\n",
       "      <td>...</td>\n",
       "      <td>...</td>\n",
       "      <td>...</td>\n",
       "      <td>...</td>\n",
       "      <td>...</td>\n",
       "      <td>...</td>\n",
       "      <td>...</td>\n",
       "    </tr>\n",
       "    <tr>\n",
       "      <th>679327</th>\n",
       "      <td>1_408</td>\n",
       "      <td>2023-01-26 06:52:02.225335</td>\n",
       "      <td>s_332548</td>\n",
       "      <td>c_7402</td>\n",
       "      <td>m</td>\n",
       "      <td>1945.0</td>\n",
       "      <td>35.24</td>\n",
       "      <td>1.0</td>\n",
       "    </tr>\n",
       "    <tr>\n",
       "      <th>679328</th>\n",
       "      <td>1_408</td>\n",
       "      <td>2022-11-26 06:52:02.225335</td>\n",
       "      <td>s_302962</td>\n",
       "      <td>c_7402</td>\n",
       "      <td>m</td>\n",
       "      <td>1945.0</td>\n",
       "      <td>35.24</td>\n",
       "      <td>1.0</td>\n",
       "    </tr>\n",
       "    <tr>\n",
       "      <th>679329</th>\n",
       "      <td>1_408</td>\n",
       "      <td>2021-09-26 06:52:02.225335</td>\n",
       "      <td>s_95708</td>\n",
       "      <td>c_7402</td>\n",
       "      <td>m</td>\n",
       "      <td>1945.0</td>\n",
       "      <td>35.24</td>\n",
       "      <td>1.0</td>\n",
       "    </tr>\n",
       "    <tr>\n",
       "      <th>679330</th>\n",
       "      <td>2_81</td>\n",
       "      <td>2022-02-19 14:51:58.078656</td>\n",
       "      <td>s_167662</td>\n",
       "      <td>c_7616</td>\n",
       "      <td>m</td>\n",
       "      <td>1993.0</td>\n",
       "      <td>86.99</td>\n",
       "      <td>2.0</td>\n",
       "    </tr>\n",
       "    <tr>\n",
       "      <th>679331</th>\n",
       "      <td>2_98</td>\n",
       "      <td>2021-03-08 21:10:32.250919</td>\n",
       "      <td>s_3637</td>\n",
       "      <td>c_5967</td>\n",
       "      <td>f</td>\n",
       "      <td>2003.0</td>\n",
       "      <td>149.74</td>\n",
       "      <td>2.0</td>\n",
       "    </tr>\n",
       "  </tbody>\n",
       "</table>\n",
       "<p>679111 rows × 8 columns</p>\n",
       "</div>"
      ],
      "text/plain": [
       "       id_prod                        date session_id client_id sex   birth  \\\n",
       "0       0_1518  2022-05-20 13:21:29.043970   s_211425     c_103   f  1986.0   \n",
       "1       0_1518  2021-07-20 13:21:29.043970    s_64849     c_103   f  1986.0   \n",
       "2       0_1518  2022-08-20 13:21:29.043970   s_255965     c_103   f  1986.0   \n",
       "3       0_1518  2021-05-09 11:52:55.100386    s_32104    c_6714   f  1968.0   \n",
       "4       0_1518  2022-05-30 01:17:07.487046   s_216118    c_6714   f  1968.0   \n",
       "...        ...                         ...        ...       ...  ..     ...   \n",
       "679327   1_408  2023-01-26 06:52:02.225335   s_332548    c_7402   m  1945.0   \n",
       "679328   1_408  2022-11-26 06:52:02.225335   s_302962    c_7402   m  1945.0   \n",
       "679329   1_408  2021-09-26 06:52:02.225335    s_95708    c_7402   m  1945.0   \n",
       "679330    2_81  2022-02-19 14:51:58.078656   s_167662    c_7616   m  1993.0   \n",
       "679331    2_98  2021-03-08 21:10:32.250919     s_3637    c_5967   f  2003.0   \n",
       "\n",
       "         price  categ  \n",
       "0         4.18    0.0  \n",
       "1         4.18    0.0  \n",
       "2         4.18    0.0  \n",
       "3         4.18    0.0  \n",
       "4         4.18    0.0  \n",
       "...        ...    ...  \n",
       "679327   35.24    1.0  \n",
       "679328   35.24    1.0  \n",
       "679329   35.24    1.0  \n",
       "679330   86.99    2.0  \n",
       "679331  149.74    2.0  \n",
       "\n",
       "[679111 rows x 8 columns]"
      ]
     },
     "execution_count": 40,
     "metadata": {},
     "output_type": "execute_result"
    }
   ],
   "source": [
    "#On supprime la colonne _merge, elle n'est plus utile\n",
    "\n",
    "transactions = transactions.drop(columns=\"_merge\")\n",
    "transactions"
   ]
  },
  {
   "cell_type": "markdown",
   "id": "7d88f85e",
   "metadata": {},
   "source": [
    "## Analyse chiffre d'affaire"
   ]
  },
  {
   "cell_type": "code",
   "execution_count": 41,
   "id": "df8a2c63",
   "metadata": {},
   "outputs": [],
   "source": [
    "#Conversion des dates"
   ]
  },
  {
   "cell_type": "code",
   "execution_count": 42,
   "id": "760e1c53",
   "metadata": {},
   "outputs": [],
   "source": [
    "transactions['date'] = pd.to_datetime(transactions['date'])"
   ]
  },
  {
   "cell_type": "code",
   "execution_count": 43,
   "id": "6806de3b",
   "metadata": {},
   "outputs": [],
   "source": [
    "transactions['dateymd'] = transactions[\"date\"].dt.strftime(\"%y-%m-%d\")"
   ]
  },
  {
   "cell_type": "code",
   "execution_count": 44,
   "id": "ce074971",
   "metadata": {},
   "outputs": [],
   "source": [
    "transactions['dateym'] = transactions[\"date\"].dt.strftime(\"%y-%m\")"
   ]
  },
  {
   "cell_type": "code",
   "execution_count": 45,
   "id": "fa5ef018",
   "metadata": {},
   "outputs": [
    {
     "data": {
      "text/plain": [
       "dateym\n",
       "21-03    482440.61\n",
       "21-04    476109.30\n",
       "21-05    492943.47\n",
       "21-06    484088.56\n",
       "21-07    482835.40\n",
       "21-08    482284.79\n",
       "21-09    507240.68\n",
       "21-10    320798.74\n",
       "21-11    516167.73\n",
       "21-12    525917.28\n",
       "22-01    525338.99\n",
       "22-02    535571.50\n",
       "22-03    515456.53\n",
       "22-04    492998.94\n",
       "22-05    517132.60\n",
       "22-06    496016.12\n",
       "22-07    510783.12\n",
       "22-08    506467.27\n",
       "22-09    494114.53\n",
       "22-10    507917.77\n",
       "22-11    496664.94\n",
       "22-12    510219.50\n",
       "23-01    517540.55\n",
       "23-02    456679.76\n",
       "Name: price, dtype: float64"
      ]
     },
     "execution_count": 45,
     "metadata": {},
     "output_type": "execute_result"
    }
   ],
   "source": [
    "transactions.groupby('dateym')['price'].sum()"
   ]
  },
  {
   "cell_type": "code",
   "execution_count": 46,
   "id": "3a7f1545",
   "metadata": {},
   "outputs": [
    {
     "data": {
      "text/plain": [
       "dateymd\n",
       "21-03-01    16565.22\n",
       "21-03-02    15486.45\n",
       "21-03-03    15198.69\n",
       "21-03-04    15196.07\n",
       "21-03-05    17471.37\n",
       "              ...   \n",
       "23-02-24    15207.89\n",
       "23-02-25    15761.25\n",
       "23-02-26    16304.72\n",
       "23-02-27    19170.81\n",
       "23-02-28    18105.15\n",
       "Name: price, Length: 730, dtype: float64"
      ]
     },
     "execution_count": 46,
     "metadata": {},
     "output_type": "execute_result"
    }
   ],
   "source": [
    "ca_jour = transactions.groupby('dateymd')['price'].sum()\n",
    "ca_jour"
   ]
  },
  {
   "cell_type": "code",
   "execution_count": 47,
   "id": "aa67c8a9",
   "metadata": {},
   "outputs": [
    {
     "data": {
      "text/plain": [
       "count      730.000000\n",
       "mean     16237.984493\n",
       "std       1847.906447\n",
       "min       8076.040000\n",
       "25%      15476.225000\n",
       "50%      16223.305000\n",
       "75%      17185.785000\n",
       "max      20487.680000\n",
       "Name: price, dtype: float64"
      ]
     },
     "execution_count": 47,
     "metadata": {},
     "output_type": "execute_result"
    }
   ],
   "source": [
    "transactions.groupby('dateymd')['price'].sum().describe()"
   ]
  },
  {
   "cell_type": "markdown",
   "id": "ce6ea73a",
   "metadata": {},
   "source": [
    "La méthode .describe nous donne un résumé statistique basique de la colonne price de notre dataframe.\n",
    "\n",
    "Il y a 730 données\n",
    "\n",
    "La moyenne est à  16237.98€. On note qu'elle est différente de la médiane.\n",
    "\n",
    "Nous avons aussi les premier et troisème percentiles ainsi que la médiane (second percentil, 50%) à 16223.30€.\n",
    "\n",
    "L'ecart type est de 1847.90€\n",
    "\n",
    "Le chiffre d'affaire minimum est à 8076.04 € et le CA maximum est à 20487.68€ , on s'aperçoit qu'il y a une large répartition du CA"
   ]
  },
  {
   "cell_type": "code",
   "execution_count": 48,
   "id": "708379fa",
   "metadata": {},
   "outputs": [
    {
     "data": {
      "image/png": "[encoded data removed]",
      "text/plain": [
       "<Figure size 1440x720 with 1 Axes>"
      ]
     },
     "metadata": {
      "needs_background": "light"
     },
     "output_type": "display_data"
    }
   ],
   "source": [
    "#Graphique du chiffre affaire en fonction du jour, mois et année\n",
    "\n",
    "plt.figure(figsize=(20,10))\n",
    "ca_jour.plot()\n",
    "plt.title('Chiffre affaire en fonction du jour, mois et année')\n",
    "plt.xticks(rotation = 90)\n",
    "plt.show()"
   ]
  },
  {
   "cell_type": "markdown",
   "id": "6265f78a",
   "metadata": {},
   "source": [
    "Il semble y avoir une baisse significative au mois d'octobre, mais il faut une analyse plus approfondie pour confirmer le mois et la baisse. "
   ]
  },
  {
   "cell_type": "code",
   "execution_count": 49,
   "id": "26d13434",
   "metadata": {},
   "outputs": [
    {
     "data": {
      "text/plain": [
       "dateym\n",
       "21-03    482440.61\n",
       "21-04    476109.30\n",
       "21-05    492943.47\n",
       "21-06    484088.56\n",
       "21-07    482835.40\n",
       "21-08    482284.79\n",
       "21-09    507240.68\n",
       "21-10    320798.74\n",
       "21-11    516167.73\n",
       "21-12    525917.28\n",
       "22-01    525338.99\n",
       "22-02    535571.50\n",
       "22-03    515456.53\n",
       "22-04    492998.94\n",
       "22-05    517132.60\n",
       "22-06    496016.12\n",
       "22-07    510783.12\n",
       "22-08    506467.27\n",
       "22-09    494114.53\n",
       "22-10    507917.77\n",
       "22-11    496664.94\n",
       "22-12    510219.50\n",
       "23-01    517540.55\n",
       "23-02    456679.76\n",
       "Name: price, dtype: float64"
      ]
     },
     "execution_count": 49,
     "metadata": {},
     "output_type": "execute_result"
    }
   ],
   "source": [
    "ca_mois = transactions.groupby('dateym')['price'].sum()\n",
    "ca_mois"
   ]
  },
  {
   "cell_type": "markdown",
   "id": "a70a491b",
   "metadata": {},
   "source": [
    "On voit une baisse importante du chiffre d'affaires au mois d'octobre"
   ]
  },
  {
   "cell_type": "code",
   "execution_count": 50,
   "id": "fa6aebf0",
   "metadata": {},
   "outputs": [
    {
     "name": "stdout",
     "output_type": "stream",
     "text": [
      "dateym\n",
      "21-03              NaN\n",
      "21-04              NaN\n",
      "21-05    483831.126667\n",
      "21-06    484380.443333\n",
      "21-07    486622.476667\n",
      "21-08    483069.583333\n",
      "21-09    490786.956667\n",
      "21-10    436774.736667\n",
      "21-11    448069.050000\n",
      "21-12    454294.583333\n",
      "22-01    522474.666667\n",
      "22-02    528942.590000\n",
      "22-03    525455.673333\n",
      "22-04    514675.656667\n",
      "22-05    508529.356667\n",
      "22-06    502049.220000\n",
      "22-07    507977.280000\n",
      "22-08    504422.170000\n",
      "22-09    503788.306667\n",
      "22-10    502833.190000\n",
      "22-11    499565.746667\n",
      "22-12    504934.070000\n",
      "23-01    508141.663333\n",
      "23-02    494813.270000\n",
      "Name: price, dtype: float64\n"
     ]
    },
    {
     "data": {
      "text/plain": [
       "Text(0.5, 1.0, \"Moyenne mobile du chiffre d'affaire\")"
      ]
     },
     "execution_count": 50,
     "metadata": {},
     "output_type": "execute_result"
    },
    {
     "data": {
      "image/png": "[encoded data removed]",
      "text/plain": [
       "<Figure size 432x288 with 1 Axes>"
      ]
     },
     "metadata": {
      "needs_background": "light"
     },
     "output_type": "display_data"
    }
   ],
   "source": [
    "# Decomposition en moyenne mobile:\n",
    "MovingAverage = ca_mois.rolling(3).mean()\n",
    "print(MovingAverage)\n",
    "\n",
    "# Graphique:\n",
    "MovingAverage.plot()\n",
    "plt.xlabel(\"Période\")\n",
    "plt.ylabel(\"Chiffre d'affaires (€)\")\n",
    "plt.title(\"Moyenne mobile du chiffre d'affaire\")"
   ]
  },
  {
   "cell_type": "code",
   "execution_count": 51,
   "id": "adaffb9a",
   "metadata": {},
   "outputs": [
    {
     "data": {
      "text/plain": [
       "count        24.000000\n",
       "mean     493905.361667\n",
       "std       41208.740111\n",
       "min      320798.740000\n",
       "25%      483775.270000\n",
       "50%      501566.105000\n",
       "75%      515634.330000\n",
       "max      535571.500000\n",
       "Name: price, dtype: float64"
      ]
     },
     "execution_count": 51,
     "metadata": {},
     "output_type": "execute_result"
    }
   ],
   "source": [
    "transactions.groupby('dateym')['price'].sum().describe()"
   ]
  },
  {
   "cell_type": "markdown",
   "id": "307f5ca5",
   "metadata": {},
   "source": [
    "L'ensemble des données est sur 24 mois , c'est a dire 2 ans \n",
    "\n",
    "La moyenne est de 493905.36€ de chiffre d'affaire. On note qu'elle est différente de la médiane.\n",
    "\n",
    "Nous avons aussi les premier et troisème percentiles ainsi que la médiane (second percentil, 50%) à 501566.10€.\n",
    "\n",
    "l'ecart type est de  41208.74€ \n",
    "\n",
    "Le chiffre d'affaire minimum est de 320798.74€ , ce qui correspond à notre mois d'octobre , le maximum est de 535571.50€. "
   ]
  },
  {
   "cell_type": "code",
   "execution_count": 52,
   "id": "4d3ce666",
   "metadata": {},
   "outputs": [
    {
     "data": {
      "image/png": "[encoded data removed]",
      "text/plain": [
       "<Figure size 1440x720 with 1 Axes>"
      ]
     },
     "metadata": {
      "needs_background": "light"
     },
     "output_type": "display_data"
    }
   ],
   "source": [
    "plt.figure(figsize=(20,10))\n",
    "ca_mois.plot()\n",
    "plt.title('Chiffre affaire en fonction du mois et année')\n",
    "plt.xticks(rotation = 90)\n",
    "plt.show()"
   ]
  },
  {
   "cell_type": "code",
   "execution_count": null,
   "id": "cccb510b",
   "metadata": {},
   "outputs": [],
   "source": []
  },
  {
   "cell_type": "code",
   "execution_count": 53,
   "id": "8152bd2d",
   "metadata": {},
   "outputs": [
    {
     "data": {
      "text/plain": [
       "34136"
      ]
     },
     "execution_count": 53,
     "metadata": {},
     "output_type": "execute_result"
    }
   ],
   "source": [
    "#Restriction selon les dates du mois de septembre\n",
    "transaction_september = len(transactions[(transactions.date > '2021-08-31') & \\\n",
    "                                                     (transactions.date < '2021-10-01')])\n",
    "transaction_september"
   ]
  },
  {
   "cell_type": "code",
   "execution_count": 54,
   "id": "974b44d9",
   "metadata": {},
   "outputs": [
    {
     "data": {
      "text/plain": [
       "22910"
      ]
     },
     "execution_count": 54,
     "metadata": {},
     "output_type": "execute_result"
    }
   ],
   "source": [
    "#Restriction selon les dates du mois d'octobre\n",
    "transaction_october = len(transactions[(transactions.date > '2021-09-30') & \\\n",
    "                                                   (transactions.date < '2021-11-01')])\n",
    "transaction_october"
   ]
  },
  {
   "cell_type": "code",
   "execution_count": 55,
   "id": "5845d1f9",
   "metadata": {},
   "outputs": [
    {
     "data": {
      "text/plain": [
       "29249"
      ]
     },
     "execution_count": 55,
     "metadata": {},
     "output_type": "execute_result"
    }
   ],
   "source": [
    "#Restriction selon les dates du mois de novembre\n",
    "transaction_november = len(transactions[(transactions.date > '2021-10-31') & \\\n",
    "                                                     (transactions.date < '2021-12-01')])\n",
    "transaction_november"
   ]
  },
  {
   "cell_type": "code",
   "execution_count": 56,
   "id": "37e07821",
   "metadata": {},
   "outputs": [
    {
     "data": {
      "text/plain": [
       "31692.5"
      ]
     },
     "execution_count": 56,
     "metadata": {},
     "output_type": "execute_result"
    }
   ],
   "source": [
    "#Moyenne pour connaitre le ca théorique du mois octobre\n",
    "\n",
    "prev_october = (transaction_september + transaction_november)/2\n",
    "prev_october"
   ]
  },
  {
   "cell_type": "markdown",
   "id": "45d2eb0d",
   "metadata": {},
   "source": [
    "Il semble manque des valeurs sur le mois d'octobre, d'ou cela peut il provenir ? On verifie avec une restriction sur les catégories"
   ]
  },
  {
   "cell_type": "code",
   "execution_count": 57,
   "id": "6d3b94e0",
   "metadata": {},
   "outputs": [
    {
     "data": {
      "text/html": [
       "<div>\n",
       "<style scoped>\n",
       "    .dataframe tbody tr th:only-of-type {\n",
       "        vertical-align: middle;\n",
       "    }\n",
       "\n",
       "    .dataframe tbody tr th {\n",
       "        vertical-align: top;\n",
       "    }\n",
       "\n",
       "    .dataframe thead th {\n",
       "        text-align: right;\n",
       "    }\n",
       "</style>\n",
       "<table border=\"1\" class=\"dataframe\">\n",
       "  <thead>\n",
       "    <tr style=\"text-align: right;\">\n",
       "      <th></th>\n",
       "      <th>id_prod</th>\n",
       "      <th>date</th>\n",
       "      <th>session_id</th>\n",
       "      <th>client_id</th>\n",
       "      <th>sex</th>\n",
       "      <th>birth</th>\n",
       "      <th>price</th>\n",
       "      <th>categ</th>\n",
       "      <th>dateymd</th>\n",
       "      <th>dateym</th>\n",
       "    </tr>\n",
       "  </thead>\n",
       "  <tbody>\n",
       "    <tr>\n",
       "      <th>6</th>\n",
       "      <td>0_1518</td>\n",
       "      <td>2021-10-23 21:58:50.700370</td>\n",
       "      <td>s_109153</td>\n",
       "      <td>c_6714</td>\n",
       "      <td>f</td>\n",
       "      <td>1968.0</td>\n",
       "      <td>4.18</td>\n",
       "      <td>0.0</td>\n",
       "      <td>21-10-23</td>\n",
       "      <td>21-10</td>\n",
       "    </tr>\n",
       "    <tr>\n",
       "      <th>27</th>\n",
       "      <td>0_1518</td>\n",
       "      <td>2021-10-13 18:00:08.691379</td>\n",
       "      <td>s_104281</td>\n",
       "      <td>c_1609</td>\n",
       "      <td>m</td>\n",
       "      <td>1980.0</td>\n",
       "      <td>4.18</td>\n",
       "      <td>0.0</td>\n",
       "      <td>21-10-13</td>\n",
       "      <td>21-10</td>\n",
       "    </tr>\n",
       "    <tr>\n",
       "      <th>31</th>\n",
       "      <td>0_1518</td>\n",
       "      <td>2021-10-18 05:08:38.451377</td>\n",
       "      <td>s_106465</td>\n",
       "      <td>c_1609</td>\n",
       "      <td>m</td>\n",
       "      <td>1980.0</td>\n",
       "      <td>4.18</td>\n",
       "      <td>0.0</td>\n",
       "      <td>21-10-18</td>\n",
       "      <td>21-10</td>\n",
       "    </tr>\n",
       "    <tr>\n",
       "      <th>75</th>\n",
       "      <td>0_1518</td>\n",
       "      <td>2021-10-06 02:28:00.146255</td>\n",
       "      <td>s_100641</td>\n",
       "      <td>c_6726</td>\n",
       "      <td>f</td>\n",
       "      <td>1974.0</td>\n",
       "      <td>4.18</td>\n",
       "      <td>0.0</td>\n",
       "      <td>21-10-06</td>\n",
       "      <td>21-10</td>\n",
       "    </tr>\n",
       "    <tr>\n",
       "      <th>98</th>\n",
       "      <td>0_1518</td>\n",
       "      <td>2021-10-12 07:31:49.081831</td>\n",
       "      <td>s_103594</td>\n",
       "      <td>c_846</td>\n",
       "      <td>f</td>\n",
       "      <td>1981.0</td>\n",
       "      <td>4.18</td>\n",
       "      <td>0.0</td>\n",
       "      <td>21-10-12</td>\n",
       "      <td>21-10</td>\n",
       "    </tr>\n",
       "    <tr>\n",
       "      <th>...</th>\n",
       "      <td>...</td>\n",
       "      <td>...</td>\n",
       "      <td>...</td>\n",
       "      <td>...</td>\n",
       "      <td>...</td>\n",
       "      <td>...</td>\n",
       "      <td>...</td>\n",
       "      <td>...</td>\n",
       "      <td>...</td>\n",
       "      <td>...</td>\n",
       "    </tr>\n",
       "    <tr>\n",
       "      <th>679176</th>\n",
       "      <td>0_1776</td>\n",
       "      <td>2021-10-04 21:13:09.706161</td>\n",
       "      <td>s_100046</td>\n",
       "      <td>c_2496</td>\n",
       "      <td>m</td>\n",
       "      <td>1958.0</td>\n",
       "      <td>21.16</td>\n",
       "      <td>0.0</td>\n",
       "      <td>21-10-04</td>\n",
       "      <td>21-10</td>\n",
       "    </tr>\n",
       "    <tr>\n",
       "      <th>679186</th>\n",
       "      <td>0_643</td>\n",
       "      <td>2021-10-17 00:47:44.028933</td>\n",
       "      <td>s_105868</td>\n",
       "      <td>c_7779</td>\n",
       "      <td>m</td>\n",
       "      <td>1983.0</td>\n",
       "      <td>0.99</td>\n",
       "      <td>0.0</td>\n",
       "      <td>21-10-17</td>\n",
       "      <td>21-10</td>\n",
       "    </tr>\n",
       "    <tr>\n",
       "      <th>679213</th>\n",
       "      <td>0_410</td>\n",
       "      <td>2021-10-23 19:04:21.253947</td>\n",
       "      <td>s_109088</td>\n",
       "      <td>c_1080</td>\n",
       "      <td>f</td>\n",
       "      <td>1969.0</td>\n",
       "      <td>25.23</td>\n",
       "      <td>0.0</td>\n",
       "      <td>21-10-23</td>\n",
       "      <td>21-10</td>\n",
       "    </tr>\n",
       "    <tr>\n",
       "      <th>679312</th>\n",
       "      <td>0_1735</td>\n",
       "      <td>2021-10-27 04:06:23.489895</td>\n",
       "      <td>s_110697</td>\n",
       "      <td>c_5216</td>\n",
       "      <td>m</td>\n",
       "      <td>1971.0</td>\n",
       "      <td>26.99</td>\n",
       "      <td>0.0</td>\n",
       "      <td>21-10-27</td>\n",
       "      <td>21-10</td>\n",
       "    </tr>\n",
       "    <tr>\n",
       "      <th>679319</th>\n",
       "      <td>0_808</td>\n",
       "      <td>2021-10-20 06:25:35.254820</td>\n",
       "      <td>s_107432</td>\n",
       "      <td>c_3797</td>\n",
       "      <td>m</td>\n",
       "      <td>1965.0</td>\n",
       "      <td>27.85</td>\n",
       "      <td>0.0</td>\n",
       "      <td>21-10-20</td>\n",
       "      <td>21-10</td>\n",
       "    </tr>\n",
       "  </tbody>\n",
       "</table>\n",
       "<p>15859 rows × 10 columns</p>\n",
       "</div>"
      ],
      "text/plain": [
       "       id_prod                       date session_id client_id sex   birth  \\\n",
       "6       0_1518 2021-10-23 21:58:50.700370   s_109153    c_6714   f  1968.0   \n",
       "27      0_1518 2021-10-13 18:00:08.691379   s_104281    c_1609   m  1980.0   \n",
       "31      0_1518 2021-10-18 05:08:38.451377   s_106465    c_1609   m  1980.0   \n",
       "75      0_1518 2021-10-06 02:28:00.146255   s_100641    c_6726   f  1974.0   \n",
       "98      0_1518 2021-10-12 07:31:49.081831   s_103594     c_846   f  1981.0   \n",
       "...        ...                        ...        ...       ...  ..     ...   \n",
       "679176  0_1776 2021-10-04 21:13:09.706161   s_100046    c_2496   m  1958.0   \n",
       "679186   0_643 2021-10-17 00:47:44.028933   s_105868    c_7779   m  1983.0   \n",
       "679213   0_410 2021-10-23 19:04:21.253947   s_109088    c_1080   f  1969.0   \n",
       "679312  0_1735 2021-10-27 04:06:23.489895   s_110697    c_5216   m  1971.0   \n",
       "679319   0_808 2021-10-20 06:25:35.254820   s_107432    c_3797   m  1965.0   \n",
       "\n",
       "        price  categ   dateymd dateym  \n",
       "6        4.18    0.0  21-10-23  21-10  \n",
       "27       4.18    0.0  21-10-13  21-10  \n",
       "31       4.18    0.0  21-10-18  21-10  \n",
       "75       4.18    0.0  21-10-06  21-10  \n",
       "98       4.18    0.0  21-10-12  21-10  \n",
       "...       ...    ...       ...    ...  \n",
       "679176  21.16    0.0  21-10-04  21-10  \n",
       "679186   0.99    0.0  21-10-17  21-10  \n",
       "679213  25.23    0.0  21-10-23  21-10  \n",
       "679312  26.99    0.0  21-10-27  21-10  \n",
       "679319  27.85    0.0  21-10-20  21-10  \n",
       "\n",
       "[15859 rows x 10 columns]"
      ]
     },
     "execution_count": 57,
     "metadata": {},
     "output_type": "execute_result"
    }
   ],
   "source": [
    "#Restriction par catégorie pour identifier les valeurs manquantes sur le mois d'octobre\n",
    "transactions[(transactions.categ == 0) & (transactions.date > '2021-10-02') & \\\n",
    "                                                   (transactions.date < '2021-10-28')]"
   ]
  },
  {
   "cell_type": "code",
   "execution_count": 58,
   "id": "521701b1",
   "metadata": {},
   "outputs": [
    {
     "data": {
      "text/html": [
       "<div>\n",
       "<style scoped>\n",
       "    .dataframe tbody tr th:only-of-type {\n",
       "        vertical-align: middle;\n",
       "    }\n",
       "\n",
       "    .dataframe tbody tr th {\n",
       "        vertical-align: top;\n",
       "    }\n",
       "\n",
       "    .dataframe thead th {\n",
       "        text-align: right;\n",
       "    }\n",
       "</style>\n",
       "<table border=\"1\" class=\"dataframe\">\n",
       "  <thead>\n",
       "    <tr style=\"text-align: right;\">\n",
       "      <th></th>\n",
       "      <th>id_prod</th>\n",
       "      <th>date</th>\n",
       "      <th>session_id</th>\n",
       "      <th>client_id</th>\n",
       "      <th>sex</th>\n",
       "      <th>birth</th>\n",
       "      <th>price</th>\n",
       "      <th>categ</th>\n",
       "      <th>dateymd</th>\n",
       "      <th>dateym</th>\n",
       "    </tr>\n",
       "  </thead>\n",
       "  <tbody>\n",
       "  </tbody>\n",
       "</table>\n",
       "</div>"
      ],
      "text/plain": [
       "Empty DataFrame\n",
       "Columns: [id_prod, date, session_id, client_id, sex, birth, price, categ, dateymd, dateym]\n",
       "Index: []"
      ]
     },
     "execution_count": 58,
     "metadata": {},
     "output_type": "execute_result"
    }
   ],
   "source": [
    "transactions[(transactions.categ == 1) & (transactions.date > '2021-10-02') & \\\n",
    "                                                   (transactions.date < '2021-10-28')]"
   ]
  },
  {
   "cell_type": "markdown",
   "id": "6659090a",
   "metadata": {},
   "source": [
    "Aucune transaction sur les produits de cat 1 pendant le mois d'octobre"
   ]
  },
  {
   "cell_type": "code",
   "execution_count": 59,
   "id": "509e1d88",
   "metadata": {},
   "outputs": [
    {
     "data": {
      "text/html": [
       "<div>\n",
       "<style scoped>\n",
       "    .dataframe tbody tr th:only-of-type {\n",
       "        vertical-align: middle;\n",
       "    }\n",
       "\n",
       "    .dataframe tbody tr th {\n",
       "        vertical-align: top;\n",
       "    }\n",
       "\n",
       "    .dataframe thead th {\n",
       "        text-align: right;\n",
       "    }\n",
       "</style>\n",
       "<table border=\"1\" class=\"dataframe\">\n",
       "  <thead>\n",
       "    <tr style=\"text-align: right;\">\n",
       "      <th></th>\n",
       "      <th>id_prod</th>\n",
       "      <th>date</th>\n",
       "      <th>session_id</th>\n",
       "      <th>client_id</th>\n",
       "      <th>sex</th>\n",
       "      <th>birth</th>\n",
       "      <th>price</th>\n",
       "      <th>categ</th>\n",
       "      <th>dateymd</th>\n",
       "      <th>dateym</th>\n",
       "    </tr>\n",
       "  </thead>\n",
       "  <tbody>\n",
       "    <tr>\n",
       "      <th>105636</th>\n",
       "      <td>2_101</td>\n",
       "      <td>2021-10-08 22:14:56.120386</td>\n",
       "      <td>s_101993</td>\n",
       "      <td>c_4958</td>\n",
       "      <td>m</td>\n",
       "      <td>1999.0</td>\n",
       "      <td>63.99</td>\n",
       "      <td>2.0</td>\n",
       "      <td>21-10-08</td>\n",
       "      <td>21-10</td>\n",
       "    </tr>\n",
       "    <tr>\n",
       "      <th>105646</th>\n",
       "      <td>2_101</td>\n",
       "      <td>2021-10-11 15:31:30.568377</td>\n",
       "      <td>s_103293</td>\n",
       "      <td>c_4958</td>\n",
       "      <td>m</td>\n",
       "      <td>1999.0</td>\n",
       "      <td>63.99</td>\n",
       "      <td>2.0</td>\n",
       "      <td>21-10-11</td>\n",
       "      <td>21-10</td>\n",
       "    </tr>\n",
       "    <tr>\n",
       "      <th>105741</th>\n",
       "      <td>2_101</td>\n",
       "      <td>2021-10-13 17:13:05.368356</td>\n",
       "      <td>s_104270</td>\n",
       "      <td>c_2009</td>\n",
       "      <td>m</td>\n",
       "      <td>1994.0</td>\n",
       "      <td>63.99</td>\n",
       "      <td>2.0</td>\n",
       "      <td>21-10-13</td>\n",
       "      <td>21-10</td>\n",
       "    </tr>\n",
       "    <tr>\n",
       "      <th>105791</th>\n",
       "      <td>2_101</td>\n",
       "      <td>2021-10-18 08:55:18.763313</td>\n",
       "      <td>s_106540</td>\n",
       "      <td>c_3198</td>\n",
       "      <td>f</td>\n",
       "      <td>2004.0</td>\n",
       "      <td>63.99</td>\n",
       "      <td>2.0</td>\n",
       "      <td>21-10-18</td>\n",
       "      <td>21-10</td>\n",
       "    </tr>\n",
       "    <tr>\n",
       "      <th>105796</th>\n",
       "      <td>2_101</td>\n",
       "      <td>2021-10-27 23:01:13.185216</td>\n",
       "      <td>s_111055</td>\n",
       "      <td>c_6515</td>\n",
       "      <td>m</td>\n",
       "      <td>2004.0</td>\n",
       "      <td>63.99</td>\n",
       "      <td>2.0</td>\n",
       "      <td>21-10-27</td>\n",
       "      <td>21-10</td>\n",
       "    </tr>\n",
       "    <tr>\n",
       "      <th>...</th>\n",
       "      <td>...</td>\n",
       "      <td>...</td>\n",
       "      <td>...</td>\n",
       "      <td>...</td>\n",
       "      <td>...</td>\n",
       "      <td>...</td>\n",
       "      <td>...</td>\n",
       "      <td>...</td>\n",
       "      <td>...</td>\n",
       "      <td>...</td>\n",
       "    </tr>\n",
       "    <tr>\n",
       "      <th>677790</th>\n",
       "      <td>2_67</td>\n",
       "      <td>2021-10-15 00:57:49.639425</td>\n",
       "      <td>s_104872</td>\n",
       "      <td>c_815</td>\n",
       "      <td>m</td>\n",
       "      <td>1946.0</td>\n",
       "      <td>32.99</td>\n",
       "      <td>2.0</td>\n",
       "      <td>21-10-15</td>\n",
       "      <td>21-10</td>\n",
       "    </tr>\n",
       "    <tr>\n",
       "      <th>677991</th>\n",
       "      <td>2_198</td>\n",
       "      <td>2021-10-24 10:46:09.647533</td>\n",
       "      <td>s_109408</td>\n",
       "      <td>c_6</td>\n",
       "      <td>f</td>\n",
       "      <td>2004.0</td>\n",
       "      <td>138.32</td>\n",
       "      <td>2.0</td>\n",
       "      <td>21-10-24</td>\n",
       "      <td>21-10</td>\n",
       "    </tr>\n",
       "    <tr>\n",
       "      <th>677993</th>\n",
       "      <td>2_198</td>\n",
       "      <td>2021-10-08 02:10:34.212812</td>\n",
       "      <td>s_101580</td>\n",
       "      <td>c_1946</td>\n",
       "      <td>m</td>\n",
       "      <td>1964.0</td>\n",
       "      <td>138.32</td>\n",
       "      <td>2.0</td>\n",
       "      <td>21-10-08</td>\n",
       "      <td>21-10</td>\n",
       "    </tr>\n",
       "    <tr>\n",
       "      <th>678118</th>\n",
       "      <td>2_50</td>\n",
       "      <td>2021-10-16 09:52:12.553406</td>\n",
       "      <td>s_105561</td>\n",
       "      <td>c_1907</td>\n",
       "      <td>m</td>\n",
       "      <td>1995.0</td>\n",
       "      <td>150.69</td>\n",
       "      <td>2.0</td>\n",
       "      <td>21-10-16</td>\n",
       "      <td>21-10</td>\n",
       "    </tr>\n",
       "    <tr>\n",
       "      <th>678973</th>\n",
       "      <td>2_78</td>\n",
       "      <td>2021-10-20 17:48:22.180513</td>\n",
       "      <td>s_107652</td>\n",
       "      <td>c_6396</td>\n",
       "      <td>m</td>\n",
       "      <td>2003.0</td>\n",
       "      <td>167.49</td>\n",
       "      <td>2.0</td>\n",
       "      <td>21-10-20</td>\n",
       "      <td>21-10</td>\n",
       "    </tr>\n",
       "  </tbody>\n",
       "</table>\n",
       "<p>972 rows × 10 columns</p>\n",
       "</div>"
      ],
      "text/plain": [
       "       id_prod                       date session_id client_id sex   birth  \\\n",
       "105636   2_101 2021-10-08 22:14:56.120386   s_101993    c_4958   m  1999.0   \n",
       "105646   2_101 2021-10-11 15:31:30.568377   s_103293    c_4958   m  1999.0   \n",
       "105741   2_101 2021-10-13 17:13:05.368356   s_104270    c_2009   m  1994.0   \n",
       "105791   2_101 2021-10-18 08:55:18.763313   s_106540    c_3198   f  2004.0   \n",
       "105796   2_101 2021-10-27 23:01:13.185216   s_111055    c_6515   m  2004.0   \n",
       "...        ...                        ...        ...       ...  ..     ...   \n",
       "677790    2_67 2021-10-15 00:57:49.639425   s_104872     c_815   m  1946.0   \n",
       "677991   2_198 2021-10-24 10:46:09.647533   s_109408       c_6   f  2004.0   \n",
       "677993   2_198 2021-10-08 02:10:34.212812   s_101580    c_1946   m  1964.0   \n",
       "678118    2_50 2021-10-16 09:52:12.553406   s_105561    c_1907   m  1995.0   \n",
       "678973    2_78 2021-10-20 17:48:22.180513   s_107652    c_6396   m  2003.0   \n",
       "\n",
       "         price  categ   dateymd dateym  \n",
       "105636   63.99    2.0  21-10-08  21-10  \n",
       "105646   63.99    2.0  21-10-11  21-10  \n",
       "105741   63.99    2.0  21-10-13  21-10  \n",
       "105791   63.99    2.0  21-10-18  21-10  \n",
       "105796   63.99    2.0  21-10-27  21-10  \n",
       "...        ...    ...       ...    ...  \n",
       "677790   32.99    2.0  21-10-15  21-10  \n",
       "677991  138.32    2.0  21-10-24  21-10  \n",
       "677993  138.32    2.0  21-10-08  21-10  \n",
       "678118  150.69    2.0  21-10-16  21-10  \n",
       "678973  167.49    2.0  21-10-20  21-10  \n",
       "\n",
       "[972 rows x 10 columns]"
      ]
     },
     "execution_count": 59,
     "metadata": {},
     "output_type": "execute_result"
    }
   ],
   "source": [
    "transactions[(transactions.categ == 2) & (transactions.date > '2021-10-02') & \\\n",
    "                                                   (transactions.date < '2021-10-28')]"
   ]
  },
  {
   "cell_type": "code",
   "execution_count": 60,
   "id": "0a6cf24d",
   "metadata": {},
   "outputs": [],
   "source": [
    "# dataframe excluant le mois d'octobre \n",
    "transactions =  transactions[(transactions.date <= '2021-09-30') | (transactions.date >= '2021-11-01')]"
   ]
  },
  {
   "cell_type": "markdown",
   "id": "0fcbc580",
   "metadata": {},
   "source": [
    "## Analyse des references"
   ]
  },
  {
   "cell_type": "code",
   "execution_count": 61,
   "id": "260b7785",
   "metadata": {},
   "outputs": [
    {
     "data": {
      "text/plain": [
       "id_prod\n",
       "0_0        4470.00\n",
       "0_1        5154.31\n",
       "0_10        323.10\n",
       "0_100        61.80\n",
       "0_1000     2783.88\n",
       "            ...   \n",
       "2_95        395.96\n",
       "2_96      27787.80\n",
       "2_97       2092.87\n",
       "2_98        149.74\n",
       "2_99        594.93\n",
       "Name: price, Length: 3263, dtype: float64"
      ]
     },
     "execution_count": 61,
     "metadata": {},
     "output_type": "execute_result"
    }
   ],
   "source": [
    "transactions.groupby('id_prod')['price'].sum()"
   ]
  },
  {
   "cell_type": "code",
   "execution_count": 62,
   "id": "78b2bdcd",
   "metadata": {},
   "outputs": [
    {
     "data": {
      "text/plain": [
       "id_prod\n",
       "2_159    92265.68\n",
       "2_135    67403.23\n",
       "2_112    62772.53\n",
       "2_102    58962.58\n",
       "2_209    55292.10\n",
       "1_395    53863.42\n",
       "1_369    53593.66\n",
       "2_110    51854.25\n",
       "1_414    51496.63\n",
       "2_39     51089.19\n",
       "Name: price, dtype: float64"
      ]
     },
     "execution_count": 62,
     "metadata": {},
     "output_type": "execute_result"
    }
   ],
   "source": [
    "transactions.groupby('id_prod')['price'].sum().nlargest(10)"
   ]
  },
  {
   "cell_type": "code",
   "execution_count": 63,
   "id": "2eed127c",
   "metadata": {},
   "outputs": [
    {
     "data": {
      "text/plain": [
       "id_prod\n",
       "0_1539    0.99\n",
       "0_898     1.27\n",
       "0_1284    1.38\n",
       "0_1653    1.98\n",
       "0_643     1.98\n",
       "0_1601    1.99\n",
       "0_541     1.99\n",
       "0_807     1.99\n",
       "0_1728    2.27\n",
       "0_324     2.36\n",
       "Name: price, dtype: float64"
      ]
     },
     "execution_count": 63,
     "metadata": {},
     "output_type": "execute_result"
    }
   ],
   "source": [
    "transactions.groupby('id_prod')['price'].sum().nsmallest(10)"
   ]
  },
  {
   "cell_type": "markdown",
   "id": "177a218b",
   "metadata": {},
   "source": [
    "## Analyse des clients"
   ]
  },
  {
   "cell_type": "code",
   "execution_count": 64,
   "id": "fdc5605f",
   "metadata": {},
   "outputs": [
    {
     "data": {
      "text/plain": [
       "client_id\n",
       "c_1609    312247.61\n",
       "c_4958    282289.70\n",
       "c_6714    149484.49\n",
       "c_3454    111638.84\n",
       "c_2899      5214.05\n",
       "c_1570      5136.14\n",
       "c_3263      5129.89\n",
       "c_7319      5078.48\n",
       "c_8026      4969.41\n",
       "c_5263      4964.87\n",
       "c_7421      4944.39\n",
       "c_2140      4937.70\n",
       "c_1422      4878.25\n",
       "c_1876      4780.08\n",
       "c_2595      4778.69\n",
       "Name: price, dtype: float64"
      ]
     },
     "execution_count": 64,
     "metadata": {},
     "output_type": "execute_result"
    }
   ],
   "source": [
    "transactions.groupby('client_id')['price'].sum().nlargest(15)"
   ]
  },
  {
   "cell_type": "code",
   "execution_count": 65,
   "id": "56e23ef0",
   "metadata": {},
   "outputs": [
    {
     "data": {
      "text/plain": [
       "client_id\n",
       "c_8140     8.30\n",
       "c_8114     9.98\n",
       "c_240     11.06\n",
       "c_4648    11.20\n",
       "c_2793    12.99\n",
       "c_4478    13.36\n",
       "c_5962    13.99\n",
       "c_6040    15.72\n",
       "c_5919    15.98\n",
       "c_5829    16.07\n",
       "c_8032    17.64\n",
       "c_4976    17.89\n",
       "c_2776    21.46\n",
       "c_6022    21.98\n",
       "c_6256    23.26\n",
       "Name: price, dtype: float64"
      ]
     },
     "execution_count": 65,
     "metadata": {},
     "output_type": "execute_result"
    }
   ],
   "source": [
    "transactions.groupby('client_id')['price'].sum().nsmallest(15)"
   ]
  },
  {
   "cell_type": "code",
   "execution_count": 66,
   "id": "01a21094",
   "metadata": {},
   "outputs": [
    {
     "data": {
      "image/png": "[encoded data removed]",
      "text/plain": [
       "<Figure size 432x288 with 1 Axes>"
      ]
     },
     "metadata": {
      "needs_background": "light"
     },
     "output_type": "display_data"
    }
   ],
   "source": [
    "#Visualisation (Histogramme)de la distribution des prix produits\n",
    "transactions ['price'].hist(color='#0504aa', alpha=0.5, density=True, bins=20)\n",
    "\n",
    "plt.title('Distribution de la variable \"price\"')\n",
    "plt.xlabel('Prix produits(€)')\n",
    "plt.ylabel('Fréquence d\\'apparition')\n",
    "plt.show()"
   ]
  },
  {
   "cell_type": "code",
   "execution_count": 67,
   "id": "fcf72006",
   "metadata": {},
   "outputs": [
    {
     "data": {
      "text/plain": [
       "client_id\n",
       "c_1        550.19\n",
       "c_10      1353.60\n",
       "c_100      254.85\n",
       "c_1000    2209.92\n",
       "c_1001    1711.95\n",
       "           ...   \n",
       "c_995      189.41\n",
       "c_996     1611.59\n",
       "c_997     1432.02\n",
       "c_998     2779.88\n",
       "c_999      681.43\n",
       "Name: price, Length: 8598, dtype: float64"
      ]
     },
     "execution_count": 67,
     "metadata": {},
     "output_type": "execute_result"
    }
   ],
   "source": [
    "transactions.groupby('client_id')['price'].sum()"
   ]
  },
  {
   "cell_type": "code",
   "execution_count": 68,
   "id": "f0b6925e",
   "metadata": {},
   "outputs": [
    {
     "data": {
      "image/png": "[encoded data removed]",
      "text/plain": [
       "<Figure size 432x288 with 1 Axes>"
      ]
     },
     "metadata": {
      "needs_background": "light"
     },
     "output_type": "display_data"
    }
   ],
   "source": [
    "#La courbe de Lorenz permet de représenter la répartition d'une variable au sein d'une population, notamment si elle est égalitaire ou non.\n",
    "lorenzprixclient = transactions.groupby('client_id')['price'].sum().values\n",
    "n = len(lorenzprixclient)\n",
    "lorenz = np.cumsum(np.sort(lorenzprixclient)) / lorenzprixclient.sum() #cumsum somme cumulée # /.sum , on divise pour que la courbe soit à 1\n",
    "lorenz = np.append([0],lorenz) # La courbe de Lorenz commence à 0\n",
    "\n",
    "xaxis = np.linspace(0-1/n,1+1/n,n+1) # pour que les abscisses celles-ci s'étendent de 0 à 1\n",
    "plt.plot(xaxis,lorenz,drawstyle='steps-post')\n",
    "plt.plot([0,1],[0,1])\n",
    "plt.xlabel('distribution des ventes en %')\n",
    "plt.ylabel('Cumul du prix des ventes en %')\n",
    "plt.title ('Courbe de Lorenz des prix de vente')\n",
    "plt.show()"
   ]
  },
  {
   "cell_type": "markdown",
   "id": "069d8262",
   "metadata": {},
   "source": [
    "On remarque que 50% du montant des ventes represente 80% des ventes , l'inflechissement en fin de droite à 1% represente les articles au prix très elevés vu plus haut."
   ]
  },
  {
   "cell_type": "code",
   "execution_count": 69,
   "id": "0e3ab206",
   "metadata": {},
   "outputs": [
    {
     "name": "stdout",
     "output_type": "stream",
     "text": [
      "L'indice de gini est de 0.4473865338869849\n"
     ]
    }
   ],
   "source": [
    "# On calcule l'indice de Gini qui resume la courbe de Lorenz mais de facon chiffrée ce qui est plus parlant \n",
    "\n",
    "AUC = (lorenz.sum() -lorenz[-1]/2 -lorenz[0]/2)/n # Surface sous la courbe de Lorenz. Le premier segment (lorenz[0]) est à moitié en dessous de 0, on le coupe donc en 2, on fait de même pour le dernier segment lorenz[-1] qui est à moitié au dessus de 1.\n",
    "S = 0.5 - AUC # s = surface entre la première bissectrice et le courbe de Lorenz\n",
    "gini = 2*S\n",
    "gini\n",
    "print(\"L'indice de gini est de\", gini)"
   ]
  },
  {
   "cell_type": "markdown",
   "id": "d46b00d8",
   "metadata": {},
   "source": [
    "## Analyse sectorielle de l'activité de la variable catégorie"
   ]
  },
  {
   "cell_type": "code",
   "execution_count": 70,
   "id": "27ca9103",
   "metadata": {},
   "outputs": [
    {
     "data": {
      "image/png": "[encoded data removed]",
      "text/plain": [
       "<Figure size 432x288 with 1 Axes>"
      ]
     },
     "metadata": {},
     "output_type": "display_data"
    }
   ],
   "source": [
    "#Représentation des effectifs par catégories de vente\n",
    "effectif = transactions.groupby('categ')['id_prod'].nunique()\n",
    "\n",
    "plt.title('Répartition des catégories')\n",
    "plt.pie(effectif,labels = ['cat 0','cat 1','cat 2'],autopct='%.2f%%')\n",
    "plt.legend()\n",
    "plt.show()"
   ]
  },
  {
   "cell_type": "markdown",
   "id": "f5a4acf4",
   "metadata": {},
   "source": [
    "## Etude variable age"
   ]
  },
  {
   "cell_type": "code",
   "execution_count": 71,
   "id": "467a05d8",
   "metadata": {},
   "outputs": [
    {
     "name": "stderr",
     "output_type": "stream",
     "text": [
      "<ipython-input-71-d363d0458914>:2: SettingWithCopyWarning: \n",
      "A value is trying to be set on a copy of a slice from a DataFrame.\n",
      "Try using .loc[row_indexer,col_indexer] = value instead\n",
      "\n",
      "See the caveats in the documentation: https://pandas.pydata.org/pandas-docs/stable/user_guide/indexing.html#returning-a-view-versus-a-copy\n",
      "  transactions['age'] = 2022 - transactions.birth\n"
     ]
    }
   ],
   "source": [
    "#Ajout d'une colonne'age' pour faciliter l'analyse\n",
    "transactions['age'] = 2022 - transactions.birth"
   ]
  },
  {
   "cell_type": "code",
   "execution_count": 72,
   "id": "da6dedf6",
   "metadata": {},
   "outputs": [
    {
     "data": {
      "image/png": "[encoded data removed]",
      "text/plain": [
       "<Figure size 432x288 with 1 Axes>"
      ]
     },
     "metadata": {
      "needs_background": "light"
     },
     "output_type": "display_data"
    }
   ],
   "source": [
    "#Visualisation (Histogramme)de la distribution de l'âge clients\n",
    "transactions.drop_duplicates(subset = 'client_id')['age'].hist(density=True, alpha=0.5, bins=20)\n",
    "\n",
    "plt.xlabel('Âges')\n",
    "plt.title('Distribution des âges clients')\n",
    "plt.show()"
   ]
  },
  {
   "cell_type": "markdown",
   "id": "03bb0278",
   "metadata": {},
   "source": [
    "On voit ici que l'age miminimum est 18ans et maximum 95ans.\n",
    "\n",
    "Il y a autant de personnes de 18ans peut etre parce que l'âge minimum pour s'incrire est de 18ans."
   ]
  },
  {
   "cell_type": "markdown",
   "id": "3dc06f41",
   "metadata": {},
   "source": [
    "## Etude variable Sexe"
   ]
  },
  {
   "cell_type": "code",
   "execution_count": 73,
   "id": "546f1e25",
   "metadata": {},
   "outputs": [
    {
     "data": {
      "text/plain": [
       "m    329031\n",
       "f    327170\n",
       "Name: sex, dtype: int64"
      ]
     },
     "execution_count": 73,
     "metadata": {},
     "output_type": "execute_result"
    }
   ],
   "source": [
    "transactions[\"sex\"].value_counts()"
   ]
  },
  {
   "cell_type": "markdown",
   "id": "6c3242ef",
   "metadata": {},
   "source": [
    "Tous les clients identifiés comme M ou F, mais il y a dedans les clients comptés plusieurs fois puisque c'est tous les achats"
   ]
  },
  {
   "cell_type": "code",
   "execution_count": 74,
   "id": "97df3fd4",
   "metadata": {},
   "outputs": [
    {
     "data": {
      "text/plain": [
       "f    4477\n",
       "m    4121\n",
       "Name: sex, dtype: int64"
      ]
     },
     "execution_count": 74,
     "metadata": {},
     "output_type": "execute_result"
    }
   ],
   "source": [
    "transactions.drop_duplicates(subset = 'client_id')[\"sex\"].value_counts()"
   ]
  },
  {
   "cell_type": "code",
   "execution_count": 75,
   "id": "b3805453",
   "metadata": {},
   "outputs": [
    {
     "data": {
      "image/png": "[encoded data removed]",
      "text/plain": [
       "<Figure size 432x288 with 1 Axes>"
      ]
     },
     "metadata": {},
     "output_type": "display_data"
    }
   ],
   "source": [
    "plt.title('Répartition des sexes')\n",
    "plt.pie(transactions.drop_duplicates(subset = 'client_id')[\"sex\"].value_counts(),labels = ['F','M'], autopct='%.2f%%')\n",
    "plt.legend()\n",
    "plt.show()"
   ]
  },
  {
   "cell_type": "code",
   "execution_count": 76,
   "id": "a2c18caf",
   "metadata": {},
   "outputs": [
    {
     "name": "stderr",
     "output_type": "stream",
     "text": [
      "<ipython-input-76-ead69402390b>:2: SettingWithCopyWarning: \n",
      "A value is trying to be set on a copy of a slice from a DataFrame.\n",
      "Try using .loc[row_indexer,col_indexer] = value instead\n",
      "\n",
      "See the caveats in the documentation: https://pandas.pydata.org/pandas-docs/stable/user_guide/indexing.html#returning-a-view-versus-a-copy\n",
      "  transactions['agebins']= pd.cut(transactions['age'], bins = bins).astype(str)\n"
     ]
    },
    {
     "data": {
      "text/html": [
       "<div>\n",
       "<style scoped>\n",
       "    .dataframe tbody tr th:only-of-type {\n",
       "        vertical-align: middle;\n",
       "    }\n",
       "\n",
       "    .dataframe tbody tr th {\n",
       "        vertical-align: top;\n",
       "    }\n",
       "\n",
       "    .dataframe thead th {\n",
       "        text-align: right;\n",
       "    }\n",
       "</style>\n",
       "<table border=\"1\" class=\"dataframe\">\n",
       "  <thead>\n",
       "    <tr style=\"text-align: right;\">\n",
       "      <th></th>\n",
       "      <th>id_prod</th>\n",
       "      <th>date</th>\n",
       "      <th>session_id</th>\n",
       "      <th>client_id</th>\n",
       "      <th>sex</th>\n",
       "      <th>birth</th>\n",
       "      <th>price</th>\n",
       "      <th>categ</th>\n",
       "      <th>dateymd</th>\n",
       "      <th>dateym</th>\n",
       "      <th>age</th>\n",
       "      <th>agebins</th>\n",
       "    </tr>\n",
       "  </thead>\n",
       "  <tbody>\n",
       "    <tr>\n",
       "      <th>0</th>\n",
       "      <td>0_1518</td>\n",
       "      <td>2022-05-20 13:21:29.043970</td>\n",
       "      <td>s_211425</td>\n",
       "      <td>c_103</td>\n",
       "      <td>f</td>\n",
       "      <td>1986.0</td>\n",
       "      <td>4.18</td>\n",
       "      <td>0.0</td>\n",
       "      <td>22-05-20</td>\n",
       "      <td>22-05</td>\n",
       "      <td>36.0</td>\n",
       "      <td>(35, 45]</td>\n",
       "    </tr>\n",
       "    <tr>\n",
       "      <th>1</th>\n",
       "      <td>0_1518</td>\n",
       "      <td>2021-07-20 13:21:29.043970</td>\n",
       "      <td>s_64849</td>\n",
       "      <td>c_103</td>\n",
       "      <td>f</td>\n",
       "      <td>1986.0</td>\n",
       "      <td>4.18</td>\n",
       "      <td>0.0</td>\n",
       "      <td>21-07-20</td>\n",
       "      <td>21-07</td>\n",
       "      <td>36.0</td>\n",
       "      <td>(35, 45]</td>\n",
       "    </tr>\n",
       "    <tr>\n",
       "      <th>2</th>\n",
       "      <td>0_1518</td>\n",
       "      <td>2022-08-20 13:21:29.043970</td>\n",
       "      <td>s_255965</td>\n",
       "      <td>c_103</td>\n",
       "      <td>f</td>\n",
       "      <td>1986.0</td>\n",
       "      <td>4.18</td>\n",
       "      <td>0.0</td>\n",
       "      <td>22-08-20</td>\n",
       "      <td>22-08</td>\n",
       "      <td>36.0</td>\n",
       "      <td>(35, 45]</td>\n",
       "    </tr>\n",
       "    <tr>\n",
       "      <th>3</th>\n",
       "      <td>0_1518</td>\n",
       "      <td>2021-05-09 11:52:55.100386</td>\n",
       "      <td>s_32104</td>\n",
       "      <td>c_6714</td>\n",
       "      <td>f</td>\n",
       "      <td>1968.0</td>\n",
       "      <td>4.18</td>\n",
       "      <td>0.0</td>\n",
       "      <td>21-05-09</td>\n",
       "      <td>21-05</td>\n",
       "      <td>54.0</td>\n",
       "      <td>(45, 55]</td>\n",
       "    </tr>\n",
       "    <tr>\n",
       "      <th>4</th>\n",
       "      <td>0_1518</td>\n",
       "      <td>2022-05-30 01:17:07.487046</td>\n",
       "      <td>s_216118</td>\n",
       "      <td>c_6714</td>\n",
       "      <td>f</td>\n",
       "      <td>1968.0</td>\n",
       "      <td>4.18</td>\n",
       "      <td>0.0</td>\n",
       "      <td>22-05-30</td>\n",
       "      <td>22-05</td>\n",
       "      <td>54.0</td>\n",
       "      <td>(45, 55]</td>\n",
       "    </tr>\n",
       "    <tr>\n",
       "      <th>...</th>\n",
       "      <td>...</td>\n",
       "      <td>...</td>\n",
       "      <td>...</td>\n",
       "      <td>...</td>\n",
       "      <td>...</td>\n",
       "      <td>...</td>\n",
       "      <td>...</td>\n",
       "      <td>...</td>\n",
       "      <td>...</td>\n",
       "      <td>...</td>\n",
       "      <td>...</td>\n",
       "      <td>...</td>\n",
       "    </tr>\n",
       "    <tr>\n",
       "      <th>679327</th>\n",
       "      <td>1_408</td>\n",
       "      <td>2023-01-26 06:52:02.225335</td>\n",
       "      <td>s_332548</td>\n",
       "      <td>c_7402</td>\n",
       "      <td>m</td>\n",
       "      <td>1945.0</td>\n",
       "      <td>35.24</td>\n",
       "      <td>1.0</td>\n",
       "      <td>23-01-26</td>\n",
       "      <td>23-01</td>\n",
       "      <td>77.0</td>\n",
       "      <td>(75, 85]</td>\n",
       "    </tr>\n",
       "    <tr>\n",
       "      <th>679328</th>\n",
       "      <td>1_408</td>\n",
       "      <td>2022-11-26 06:52:02.225335</td>\n",
       "      <td>s_302962</td>\n",
       "      <td>c_7402</td>\n",
       "      <td>m</td>\n",
       "      <td>1945.0</td>\n",
       "      <td>35.24</td>\n",
       "      <td>1.0</td>\n",
       "      <td>22-11-26</td>\n",
       "      <td>22-11</td>\n",
       "      <td>77.0</td>\n",
       "      <td>(75, 85]</td>\n",
       "    </tr>\n",
       "    <tr>\n",
       "      <th>679329</th>\n",
       "      <td>1_408</td>\n",
       "      <td>2021-09-26 06:52:02.225335</td>\n",
       "      <td>s_95708</td>\n",
       "      <td>c_7402</td>\n",
       "      <td>m</td>\n",
       "      <td>1945.0</td>\n",
       "      <td>35.24</td>\n",
       "      <td>1.0</td>\n",
       "      <td>21-09-26</td>\n",
       "      <td>21-09</td>\n",
       "      <td>77.0</td>\n",
       "      <td>(75, 85]</td>\n",
       "    </tr>\n",
       "    <tr>\n",
       "      <th>679330</th>\n",
       "      <td>2_81</td>\n",
       "      <td>2022-02-19 14:51:58.078656</td>\n",
       "      <td>s_167662</td>\n",
       "      <td>c_7616</td>\n",
       "      <td>m</td>\n",
       "      <td>1993.0</td>\n",
       "      <td>86.99</td>\n",
       "      <td>2.0</td>\n",
       "      <td>22-02-19</td>\n",
       "      <td>22-02</td>\n",
       "      <td>29.0</td>\n",
       "      <td>(25, 35]</td>\n",
       "    </tr>\n",
       "    <tr>\n",
       "      <th>679331</th>\n",
       "      <td>2_98</td>\n",
       "      <td>2021-03-08 21:10:32.250919</td>\n",
       "      <td>s_3637</td>\n",
       "      <td>c_5967</td>\n",
       "      <td>f</td>\n",
       "      <td>2003.0</td>\n",
       "      <td>149.74</td>\n",
       "      <td>2.0</td>\n",
       "      <td>21-03-08</td>\n",
       "      <td>21-03</td>\n",
       "      <td>19.0</td>\n",
       "      <td>(18, 25]</td>\n",
       "    </tr>\n",
       "  </tbody>\n",
       "</table>\n",
       "<p>656201 rows × 12 columns</p>\n",
       "</div>"
      ],
      "text/plain": [
       "       id_prod                       date session_id client_id sex   birth  \\\n",
       "0       0_1518 2022-05-20 13:21:29.043970   s_211425     c_103   f  1986.0   \n",
       "1       0_1518 2021-07-20 13:21:29.043970    s_64849     c_103   f  1986.0   \n",
       "2       0_1518 2022-08-20 13:21:29.043970   s_255965     c_103   f  1986.0   \n",
       "3       0_1518 2021-05-09 11:52:55.100386    s_32104    c_6714   f  1968.0   \n",
       "4       0_1518 2022-05-30 01:17:07.487046   s_216118    c_6714   f  1968.0   \n",
       "...        ...                        ...        ...       ...  ..     ...   \n",
       "679327   1_408 2023-01-26 06:52:02.225335   s_332548    c_7402   m  1945.0   \n",
       "679328   1_408 2022-11-26 06:52:02.225335   s_302962    c_7402   m  1945.0   \n",
       "679329   1_408 2021-09-26 06:52:02.225335    s_95708    c_7402   m  1945.0   \n",
       "679330    2_81 2022-02-19 14:51:58.078656   s_167662    c_7616   m  1993.0   \n",
       "679331    2_98 2021-03-08 21:10:32.250919     s_3637    c_5967   f  2003.0   \n",
       "\n",
       "         price  categ   dateymd dateym   age   agebins  \n",
       "0         4.18    0.0  22-05-20  22-05  36.0  (35, 45]  \n",
       "1         4.18    0.0  21-07-20  21-07  36.0  (35, 45]  \n",
       "2         4.18    0.0  22-08-20  22-08  36.0  (35, 45]  \n",
       "3         4.18    0.0  21-05-09  21-05  54.0  (45, 55]  \n",
       "4         4.18    0.0  22-05-30  22-05  54.0  (45, 55]  \n",
       "...        ...    ...       ...    ...   ...       ...  \n",
       "679327   35.24    1.0  23-01-26  23-01  77.0  (75, 85]  \n",
       "679328   35.24    1.0  22-11-26  22-11  77.0  (75, 85]  \n",
       "679329   35.24    1.0  21-09-26  21-09  77.0  (75, 85]  \n",
       "679330   86.99    2.0  22-02-19  22-02  29.0  (25, 35]  \n",
       "679331  149.74    2.0  21-03-08  21-03  19.0  (18, 25]  \n",
       "\n",
       "[656201 rows x 12 columns]"
      ]
     },
     "execution_count": 76,
     "metadata": {},
     "output_type": "execute_result"
    }
   ],
   "source": [
    "bins = pd.IntervalIndex.from_tuples([(18, 25), (25, 35), (35, 45),(45, 55), (55, 65), (65,75), (75, 85), (85, 95) ])\n",
    "transactions['agebins']= pd.cut(transactions['age'], bins = bins).astype(str)\n",
    "transactions"
   ]
  },
  {
   "cell_type": "markdown",
   "id": "ca858dae",
   "metadata": {},
   "source": [
    "## Y a-t-il une corrélation entre le sexe des clients et les catégories de produits achetés ? "
   ]
  },
  {
   "cell_type": "markdown",
   "id": "4ce7bdb7",
   "metadata": {},
   "source": [
    "#### Variables qualitatives :\n",
    "\n",
    "Les id (client_id, id_prod, session_id), \n",
    "Les dates de transactions,\n",
    "Le sexe des clients (f ou m),\n",
    "Les catégories produits (0, 1 ou 2)\n",
    "\n",
    "#### Variable quantitatives : \n",
    "\n",
    "\n",
    "Le montant total des achats,\n",
    "La frequence d'achat,\n",
    "La taille du panier moyen, \n",
    "L'âge"
   ]
  },
  {
   "cell_type": "code",
   "execution_count": 77,
   "id": "bdd830f8",
   "metadata": {},
   "outputs": [
    {
     "data": {
      "text/plain": [
       "client_id\n",
       "c_1609    312247.61\n",
       "c_4958    282289.70\n",
       "c_6714    149484.49\n",
       "c_3454    111638.84\n",
       "c_2899      5214.05\n",
       "c_1570      5136.14\n",
       "c_3263      5129.89\n",
       "c_7319      5078.48\n",
       "c_8026      4969.41\n",
       "c_5263      4964.87\n",
       "c_7421      4944.39\n",
       "c_2140      4937.70\n",
       "c_1422      4878.25\n",
       "c_1876      4780.08\n",
       "c_2595      4778.69\n",
       "Name: price, dtype: float64"
      ]
     },
     "execution_count": 77,
     "metadata": {},
     "output_type": "execute_result"
    }
   ],
   "source": [
    "transactions.groupby('client_id')['price'].sum().nlargest(15)"
   ]
  },
  {
   "cell_type": "code",
   "execution_count": 78,
   "id": "a44335b9",
   "metadata": {},
   "outputs": [],
   "source": [
    "transactions= transactions[~transactions['client_id'].isin(['c_1609','c_4958','c_6714','c_3454'])]"
   ]
  },
  {
   "cell_type": "markdown",
   "id": "b48d2e58",
   "metadata": {},
   "source": [
    "On met de côté les 4 gros montants pour ne pas fausser les resultats des analyses suivantes."
   ]
  },
  {
   "cell_type": "markdown",
   "id": "b11504ac",
   "metadata": {},
   "source": [
    "## Y a-t-il une corrélation entre le sexe des clients et les catégories de produits achetés ?"
   ]
  },
  {
   "cell_type": "markdown",
   "id": "0eea946e",
   "metadata": {},
   "source": [
    "sexe et categorie = quali quali\n",
    "\n",
    "\n",
    "On pose les hypothèses : \n",
    "\n",
    "H0 : Il n'y a pas corrélation entre les variables\n",
    "\n",
    "H1 : Il y a une relation entre les variables"
   ]
  },
  {
   "cell_type": "code",
   "execution_count": 79,
   "id": "7d4c65bc",
   "metadata": {},
   "outputs": [
    {
     "name": "stdout",
     "output_type": "stream",
     "text": [
      "<class 'pandas.core.frame.DataFrame'>\n",
      "Int64Index: 611191 entries, 0 to 679331\n",
      "Data columns (total 12 columns):\n",
      " #   Column      Non-Null Count   Dtype         \n",
      "---  ------      --------------   -----         \n",
      " 0   id_prod     611191 non-null  object        \n",
      " 1   date        611191 non-null  datetime64[ns]\n",
      " 2   session_id  611191 non-null  object        \n",
      " 3   client_id   611191 non-null  object        \n",
      " 4   sex         611191 non-null  object        \n",
      " 5   birth       611191 non-null  float64       \n",
      " 6   price       611191 non-null  float64       \n",
      " 7   categ       611191 non-null  float64       \n",
      " 8   dateymd     611191 non-null  object        \n",
      " 9   dateym      611191 non-null  object        \n",
      " 10  age         611191 non-null  float64       \n",
      " 11  agebins     596441 non-null  object        \n",
      "dtypes: datetime64[ns](1), float64(4), object(7)\n",
      "memory usage: 60.6+ MB\n"
     ]
    }
   ],
   "source": [
    "transactions.info()"
   ]
  },
  {
   "cell_type": "code",
   "execution_count": 80,
   "id": "af8ea235",
   "metadata": {},
   "outputs": [
    {
     "data": {
      "text/html": [
       "<div>\n",
       "<style scoped>\n",
       "    .dataframe tbody tr th:only-of-type {\n",
       "        vertical-align: middle;\n",
       "    }\n",
       "\n",
       "    .dataframe tbody tr th {\n",
       "        vertical-align: top;\n",
       "    }\n",
       "\n",
       "    .dataframe thead th {\n",
       "        text-align: right;\n",
       "    }\n",
       "</style>\n",
       "<table border=\"1\" class=\"dataframe\">\n",
       "  <thead>\n",
       "    <tr style=\"text-align: right;\">\n",
       "      <th>categ</th>\n",
       "      <th>0.0</th>\n",
       "      <th>1.0</th>\n",
       "      <th>2.0</th>\n",
       "      <th>Total</th>\n",
       "    </tr>\n",
       "    <tr>\n",
       "      <th>sex</th>\n",
       "      <th></th>\n",
       "      <th></th>\n",
       "      <th></th>\n",
       "      <th></th>\n",
       "    </tr>\n",
       "  </thead>\n",
       "  <tbody>\n",
       "    <tr>\n",
       "      <th>f</th>\n",
       "      <td>191478</td>\n",
       "      <td>110398</td>\n",
       "      <td>16419</td>\n",
       "      <td>318295</td>\n",
       "    </tr>\n",
       "    <tr>\n",
       "      <th>m</th>\n",
       "      <td>177495</td>\n",
       "      <td>100056</td>\n",
       "      <td>15345</td>\n",
       "      <td>292896</td>\n",
       "    </tr>\n",
       "    <tr>\n",
       "      <th>Total</th>\n",
       "      <td>368973</td>\n",
       "      <td>210454</td>\n",
       "      <td>31764</td>\n",
       "      <td>611191</td>\n",
       "    </tr>\n",
       "  </tbody>\n",
       "</table>\n",
       "</div>"
      ],
      "text/plain": [
       "categ     0.0     1.0    2.0   Total\n",
       "sex                                 \n",
       "f      191478  110398  16419  318295\n",
       "m      177495  100056  15345  292896\n",
       "Total  368973  210454  31764  611191"
      ]
     },
     "execution_count": 80,
     "metadata": {},
     "output_type": "execute_result"
    }
   ],
   "source": [
    "#Creation tableau contigence\n",
    "X = \"sex\"\n",
    "Y = \"categ\"\n",
    "\n",
    "cont = transactions[[X,Y]].pivot_table(index=X,columns=Y,aggfunc=len,margins=True,margins_name=\"Total\")\n",
    "cont"
   ]
  },
  {
   "cell_type": "markdown",
   "id": "ca23e736",
   "metadata": {},
   "source": [
    "On voit ici que la catégorie la plus achetée par les hommes et les femmes est la catégorie 0 "
   ]
  },
  {
   "cell_type": "markdown",
   "id": "300131d9",
   "metadata": {},
   "source": [
    "### frequence marginale"
   ]
  },
  {
   "cell_type": "code",
   "execution_count": 81,
   "id": "43cd53a1",
   "metadata": {},
   "outputs": [
    {
     "data": {
      "text/plain": [
       "categ\n",
       "0.0      368973\n",
       "1.0      210454\n",
       "2.0       31764\n",
       "Total    611191\n",
       "Name: Total, dtype: int64"
      ]
     },
     "execution_count": 81,
     "metadata": {},
     "output_type": "execute_result"
    }
   ],
   "source": [
    "cont.loc['Total',:]"
   ]
  },
  {
   "cell_type": "code",
   "execution_count": 82,
   "id": "63dce289",
   "metadata": {},
   "outputs": [
    {
     "data": {
      "text/html": [
       "<div>\n",
       "<style scoped>\n",
       "    .dataframe tbody tr th:only-of-type {\n",
       "        vertical-align: middle;\n",
       "    }\n",
       "\n",
       "    .dataframe tbody tr th {\n",
       "        vertical-align: top;\n",
       "    }\n",
       "\n",
       "    .dataframe thead th {\n",
       "        text-align: right;\n",
       "    }\n",
       "</style>\n",
       "<table border=\"1\" class=\"dataframe\">\n",
       "  <thead>\n",
       "    <tr style=\"text-align: right;\">\n",
       "      <th>categ</th>\n",
       "      <th>0.0</th>\n",
       "      <th>1.0</th>\n",
       "      <th>2.0</th>\n",
       "      <th>Total</th>\n",
       "    </tr>\n",
       "    <tr>\n",
       "      <th>sex</th>\n",
       "      <th></th>\n",
       "      <th></th>\n",
       "      <th></th>\n",
       "      <th></th>\n",
       "    </tr>\n",
       "  </thead>\n",
       "  <tbody>\n",
       "    <tr>\n",
       "      <th>f</th>\n",
       "      <td>0.518949</td>\n",
       "      <td>0.524571</td>\n",
       "      <td>0.516906</td>\n",
       "      <td>0.520778</td>\n",
       "    </tr>\n",
       "    <tr>\n",
       "      <th>m</th>\n",
       "      <td>0.481051</td>\n",
       "      <td>0.475429</td>\n",
       "      <td>0.483094</td>\n",
       "      <td>0.479222</td>\n",
       "    </tr>\n",
       "    <tr>\n",
       "      <th>Total</th>\n",
       "      <td>1.000000</td>\n",
       "      <td>1.000000</td>\n",
       "      <td>1.000000</td>\n",
       "      <td>1.000000</td>\n",
       "    </tr>\n",
       "  </tbody>\n",
       "</table>\n",
       "</div>"
      ],
      "text/plain": [
       "categ       0.0       1.0       2.0     Total\n",
       "sex                                          \n",
       "f      0.518949  0.524571  0.516906  0.520778\n",
       "m      0.481051  0.475429  0.483094  0.479222\n",
       "Total  1.000000  1.000000  1.000000  1.000000"
      ]
     },
     "execution_count": 82,
     "metadata": {},
     "output_type": "execute_result"
    }
   ],
   "source": [
    "cont/cont.loc['Total',:]"
   ]
  },
  {
   "cell_type": "markdown",
   "id": "d7c9e0e8",
   "metadata": {},
   "source": [
    "La frequence marginale des catégories en fonction du sexe, on voit que les femmes achetent plus dans la catégorie 0 et les hommes dans la catégorie 2."
   ]
  },
  {
   "cell_type": "code",
   "execution_count": 83,
   "id": "9e55ae0d",
   "metadata": {},
   "outputs": [
    {
     "data": {
      "text/plain": [
       "sex\n",
       "f        318295\n",
       "m        292896\n",
       "Total    611191\n",
       "Name: Total, dtype: int64"
      ]
     },
     "execution_count": 83,
     "metadata": {},
     "output_type": "execute_result"
    }
   ],
   "source": [
    "cont.loc[:,'Total']"
   ]
  },
  {
   "cell_type": "code",
   "execution_count": 84,
   "id": "fb1cb97b",
   "metadata": {},
   "outputs": [
    {
     "data": {
      "text/html": [
       "<div>\n",
       "<style scoped>\n",
       "    .dataframe tbody tr th:only-of-type {\n",
       "        vertical-align: middle;\n",
       "    }\n",
       "\n",
       "    .dataframe tbody tr th {\n",
       "        vertical-align: top;\n",
       "    }\n",
       "\n",
       "    .dataframe thead th {\n",
       "        text-align: right;\n",
       "    }\n",
       "</style>\n",
       "<table border=\"1\" class=\"dataframe\">\n",
       "  <thead>\n",
       "    <tr style=\"text-align: right;\">\n",
       "      <th>sex</th>\n",
       "      <th>f</th>\n",
       "      <th>m</th>\n",
       "      <th>Total</th>\n",
       "    </tr>\n",
       "    <tr>\n",
       "      <th>categ</th>\n",
       "      <th></th>\n",
       "      <th></th>\n",
       "      <th></th>\n",
       "    </tr>\n",
       "  </thead>\n",
       "  <tbody>\n",
       "    <tr>\n",
       "      <th>0.0</th>\n",
       "      <td>0.601574</td>\n",
       "      <td>0.606000</td>\n",
       "      <td>0.603695</td>\n",
       "    </tr>\n",
       "    <tr>\n",
       "      <th>1.0</th>\n",
       "      <td>0.346842</td>\n",
       "      <td>0.341609</td>\n",
       "      <td>0.344334</td>\n",
       "    </tr>\n",
       "    <tr>\n",
       "      <th>2.0</th>\n",
       "      <td>0.051584</td>\n",
       "      <td>0.052391</td>\n",
       "      <td>0.051971</td>\n",
       "    </tr>\n",
       "    <tr>\n",
       "      <th>Total</th>\n",
       "      <td>1.000000</td>\n",
       "      <td>1.000000</td>\n",
       "      <td>1.000000</td>\n",
       "    </tr>\n",
       "  </tbody>\n",
       "</table>\n",
       "</div>"
      ],
      "text/plain": [
       "sex           f         m     Total\n",
       "categ                              \n",
       "0.0    0.601574  0.606000  0.603695\n",
       "1.0    0.346842  0.341609  0.344334\n",
       "2.0    0.051584  0.052391  0.051971\n",
       "Total  1.000000  1.000000  1.000000"
      ]
     },
     "execution_count": 84,
     "metadata": {},
     "output_type": "execute_result"
    }
   ],
   "source": [
    "cont.T/cont.loc[:,'Total']"
   ]
  },
  {
   "cell_type": "markdown",
   "id": "06389619",
   "metadata": {},
   "source": [
    "La fréquence marginale du sexe en fonction des catégories, nous montre que les hommes et les femmes achetent le plus dans la catégorie 0, ce qui reprends le resultat vu dans le tableau de contingence."
   ]
  },
  {
   "cell_type": "code",
   "execution_count": 85,
   "id": "162fb038",
   "metadata": {},
   "outputs": [
    {
     "data": {
      "image/png": "[encoded data removed]",
      "text/plain": [
       "<Figure size 432x288 with 2 Axes>"
      ]
     },
     "metadata": {
      "needs_background": "light"
     },
     "output_type": "display_data"
    }
   ],
   "source": [
    "#afficher une heatmap pour faire une difference entre les deux variables\n",
    "tx = cont.loc[:,[\"Total\"]]\n",
    "ty = cont.loc[[\"Total\"],:]\n",
    "n = len(transactions)\n",
    "indep = tx.dot(ty) / n\n",
    "\n",
    "c = cont.fillna(0) # On remplace les valeurs nulles par 0\n",
    "measure = (c-indep)**2/indep\n",
    "xi_n = measure.sum().sum()\n",
    "table = measure/xi_n\n",
    "sns.heatmap(table.iloc[:-1,:-1],annot=c.iloc[:-1,:-1])\n",
    "plt.title('HeatMap Sexe clients vs Catégorie produits')\n",
    "plt.show()\n",
    "#foncé quand la mesure est grande, clair quand elle est proche de 0"
   ]
  },
  {
   "cell_type": "markdown",
   "id": "f4846a1f",
   "metadata": {},
   "source": [
    "heatmap , test du Chi2 pour voir l'independance des deux variables, c'est une quantification d'écart à l'indépendance.\n",
    "Ce test confirme les resultats vus plus haut.\n",
    "\n",
    "le chi2 ne suffit pas à confirmer les hypothèses, il faut calculer la p-value pour cela"
   ]
  },
  {
   "cell_type": "code",
   "execution_count": 86,
   "id": "03177c4b",
   "metadata": {},
   "outputs": [
    {
     "data": {
      "text/plain": [
       "(18.986521901965496, 6, 0.004186456103190957)"
      ]
     },
     "execution_count": 86,
     "metadata": {},
     "output_type": "execute_result"
    }
   ],
   "source": [
    "#Calcul de la p-value \n",
    "chi2, pvalue, degrees, expected = st.chi2_contingency(cont)\n",
    "chi2, degrees, pvalue"
   ]
  },
  {
   "cell_type": "markdown",
   "id": "199423cf",
   "metadata": {},
   "source": [
    "pvalue est égale à environ 4,18 %, on admet généralement un seuil de significativité de 5% , notre resultat est bien en dessous , on peut donc dire qu'il y a une correlation entre le sexe et la catégorie des produits, ce qui confirme notre H1."
   ]
  },
  {
   "cell_type": "markdown",
   "id": "9c2d199b",
   "metadata": {},
   "source": [
    "## Y a-t-il une corrélation entre l'âge des clients et le montant total des achats?"
   ]
  },
  {
   "cell_type": "markdown",
   "id": "be92abf0",
   "metadata": {},
   "source": [
    "age et montant = quanti quanti sauf si l'age on le met par categorie (tranche d'age)\n",
    "\n",
    "On pose les hypothèses : \n",
    "\n",
    "H0 : Il n'y a pas corrélation entre les variables\n",
    "\n",
    "H1 : Il y a une relation entre les variables"
   ]
  },
  {
   "cell_type": "code",
   "execution_count": 87,
   "id": "cffa49b1",
   "metadata": {},
   "outputs": [
    {
     "data": {
      "text/html": [
       "<div>\n",
       "<style scoped>\n",
       "    .dataframe tbody tr th:only-of-type {\n",
       "        vertical-align: middle;\n",
       "    }\n",
       "\n",
       "    .dataframe tbody tr th {\n",
       "        vertical-align: top;\n",
       "    }\n",
       "\n",
       "    .dataframe thead th {\n",
       "        text-align: right;\n",
       "    }\n",
       "</style>\n",
       "<table border=\"1\" class=\"dataframe\">\n",
       "  <thead>\n",
       "    <tr style=\"text-align: right;\">\n",
       "      <th></th>\n",
       "      <th>client_id</th>\n",
       "      <th>age</th>\n",
       "      <th>price</th>\n",
       "    </tr>\n",
       "  </thead>\n",
       "  <tbody>\n",
       "    <tr>\n",
       "      <th>0</th>\n",
       "      <td>c_1</td>\n",
       "      <td>67.0</td>\n",
       "      <td>550.19</td>\n",
       "    </tr>\n",
       "    <tr>\n",
       "      <th>1</th>\n",
       "      <td>c_10</td>\n",
       "      <td>66.0</td>\n",
       "      <td>1353.60</td>\n",
       "    </tr>\n",
       "    <tr>\n",
       "      <th>2</th>\n",
       "      <td>c_100</td>\n",
       "      <td>30.0</td>\n",
       "      <td>254.85</td>\n",
       "    </tr>\n",
       "    <tr>\n",
       "      <th>3</th>\n",
       "      <td>c_1000</td>\n",
       "      <td>56.0</td>\n",
       "      <td>2209.92</td>\n",
       "    </tr>\n",
       "    <tr>\n",
       "      <th>4</th>\n",
       "      <td>c_1001</td>\n",
       "      <td>40.0</td>\n",
       "      <td>1711.95</td>\n",
       "    </tr>\n",
       "  </tbody>\n",
       "</table>\n",
       "</div>"
      ],
      "text/plain": [
       "  client_id   age    price\n",
       "0       c_1  67.0   550.19\n",
       "1      c_10  66.0  1353.60\n",
       "2     c_100  30.0   254.85\n",
       "3    c_1000  56.0  2209.92\n",
       "4    c_1001  40.0  1711.95"
      ]
     },
     "execution_count": 87,
     "metadata": {},
     "output_type": "execute_result"
    }
   ],
   "source": [
    "#Agrégation pour somme les ventes 'price' (produits achetés) en fonction de l'âge des clients et des clients\n",
    "#Création d'une variable 'age_price'\n",
    "age_price = transactions.groupby(['client_id','age'])['price'].sum().reset_index()\n",
    "age_price.head()"
   ]
  },
  {
   "cell_type": "code",
   "execution_count": 88,
   "id": "6536d589",
   "metadata": {},
   "outputs": [
    {
     "data": {
      "image/png": "[encoded data removed]",
      "text/plain": [
       "<Figure size 432x288 with 1 Axes>"
      ]
     },
     "metadata": {
      "needs_background": "light"
     },
     "output_type": "display_data"
    }
   ],
   "source": [
    "plt.plot(age_price[\"age\"],age_price[\"price\"],'o')\n",
    "plt.xlabel(\"âge des clients\")\n",
    "plt.ylabel(\"montant total des achats\")\n",
    "plt.title('Montant Total des achats selon l\\'âge du client')\n",
    "plt.show()"
   ]
  },
  {
   "cell_type": "markdown",
   "id": "080f8bdf",
   "metadata": {},
   "source": [
    "Le montant total des achats varie en fonction de l'age des clients mais l'on peut pas dire que plus l'age est avancé moins le montant des achats est important"
   ]
  },
  {
   "cell_type": "code",
   "execution_count": 89,
   "id": "9c209898",
   "metadata": {},
   "outputs": [
    {
     "name": "stderr",
     "output_type": "stream",
     "text": [
      "C:\\Users\\Juliette\\anaconda3\\lib\\site-packages\\scipy\\stats\\morestats.py:1681: UserWarning: p-value may not be accurate for N > 5000.\n",
      "  warnings.warn(\"p-value may not be accurate for N > 5000.\")\n"
     ]
    },
    {
     "data": {
      "text/plain": [
       "ShapiroResult(statistic=0.9697239398956299, pvalue=4.617258821771772e-39)"
      ]
     },
     "execution_count": 89,
     "metadata": {},
     "output_type": "execute_result"
    }
   ],
   "source": [
    "#Test normalité\n",
    "st.shapiro(age_price.age)"
   ]
  },
  {
   "cell_type": "markdown",
   "id": "c4ce0c77",
   "metadata": {},
   "source": [
    "Pvalue en dessous de 5%, rejet de h0\n",
    "\n",
    "Etant donné l'avertissement j'ai voulu essayé une autre méthode avec anderson"
   ]
  },
  {
   "cell_type": "code",
   "execution_count": 90,
   "id": "3e8dcee7",
   "metadata": {},
   "outputs": [
    {
     "data": {
      "text/plain": [
       "AndersonResult(statistic=53.76121903897183, critical_values=array([0.576, 0.656, 0.787, 0.918, 1.091]), significance_level=array([15. , 10. ,  5. ,  2.5,  1. ]))"
      ]
     },
     "execution_count": 90,
     "metadata": {},
     "output_type": "execute_result"
    }
   ],
   "source": [
    "st.anderson(age_price.age, dist = 'norm')"
   ]
  },
  {
   "cell_type": "markdown",
   "id": "e2e66f3f",
   "metadata": {},
   "source": [
    "le resultat est au dessus de la valeur critique de 5%, rejet de h0\n",
    "La variable ne suit pas une distribution normale "
   ]
  },
  {
   "cell_type": "code",
   "execution_count": 91,
   "id": "3d164f1d",
   "metadata": {},
   "outputs": [
    {
     "name": "stdout",
     "output_type": "stream",
     "text": [
      "-0.1840898673778207\n",
      "-2892.4655441469195\n"
     ]
    }
   ],
   "source": [
    "#Pour calculer le test de Pearson et la covariance pour voir la corrélation entre les deux variables\n",
    "print(st.pearsonr(age_price[\"age\"],age_price[\"price\"])[0])\n",
    "print(np.cov(age_price[\"age\"],age_price[\"price\"],ddof=0)[1,0])"
   ]
  },
  {
   "cell_type": "markdown",
   "id": "b58b5cd7",
   "metadata": {},
   "source": [
    "Pearson doit se situer en 1 et-1, ici il est négatif , il nous permet de confirmer avec la covariance que le montant total des achats varie en fonction de l'âge, il y a donc correlation des variables mais l'on ne peut pas dire que l'age joue sur l'importance du montant depensé. Cela confirme notre H1.\n"
   ]
  },
  {
   "cell_type": "code",
   "execution_count": 92,
   "id": "85b503f6",
   "metadata": {},
   "outputs": [
    {
     "name": "stdout",
     "output_type": "stream",
     "text": [
      "0.03388907927118362\n"
     ]
    }
   ],
   "source": [
    "# coefficient de Pearson au carré\n",
    "print(st.pearsonr(age_price[\"age\"],age_price[\"price\"])[0]**2)"
   ]
  },
  {
   "cell_type": "markdown",
   "id": "e9b71b09",
   "metadata": {},
   "source": [
    "Le coefficient au carré est egal à 3%,  cela confirme bien notre observation précédente."
   ]
  },
  {
   "cell_type": "markdown",
   "id": "ff5fe411",
   "metadata": {},
   "source": [
    "## Y a-t-il une corrélation entre l'âge des clients et La fréquence d’achat  ?"
   ]
  },
  {
   "cell_type": "markdown",
   "id": "4b214e2c",
   "metadata": {},
   "source": [
    "age et freq = quanti quanti\n",
    "\n",
    "On pose les hypothèses : \n",
    "\n",
    "H0 : Il n'y a pas corrélation entre les variables\n",
    "\n",
    "H1 : Il y a une relation entre les variables"
   ]
  },
  {
   "cell_type": "code",
   "execution_count": 93,
   "id": "edb7ff6a",
   "metadata": {},
   "outputs": [
    {
     "data": {
      "text/html": [
       "<div>\n",
       "<style scoped>\n",
       "    .dataframe tbody tr th:only-of-type {\n",
       "        vertical-align: middle;\n",
       "    }\n",
       "\n",
       "    .dataframe tbody tr th {\n",
       "        vertical-align: top;\n",
       "    }\n",
       "\n",
       "    .dataframe thead th {\n",
       "        text-align: right;\n",
       "    }\n",
       "</style>\n",
       "<table border=\"1\" class=\"dataframe\">\n",
       "  <thead>\n",
       "    <tr style=\"text-align: right;\">\n",
       "      <th></th>\n",
       "      <th>id_prod</th>\n",
       "      <th>date</th>\n",
       "      <th>session_id</th>\n",
       "      <th>client_id</th>\n",
       "      <th>sex</th>\n",
       "      <th>birth</th>\n",
       "      <th>price</th>\n",
       "      <th>categ</th>\n",
       "      <th>dateymd</th>\n",
       "      <th>dateym</th>\n",
       "      <th>age</th>\n",
       "      <th>agebins</th>\n",
       "    </tr>\n",
       "  </thead>\n",
       "  <tbody>\n",
       "    <tr>\n",
       "      <th>0</th>\n",
       "      <td>0_1518</td>\n",
       "      <td>2022-05-20 13:21:29.043970</td>\n",
       "      <td>s_211425</td>\n",
       "      <td>c_103</td>\n",
       "      <td>f</td>\n",
       "      <td>1986.0</td>\n",
       "      <td>4.18</td>\n",
       "      <td>0.0</td>\n",
       "      <td>22-05-20</td>\n",
       "      <td>22-05</td>\n",
       "      <td>36.0</td>\n",
       "      <td>(35, 45]</td>\n",
       "    </tr>\n",
       "    <tr>\n",
       "      <th>1</th>\n",
       "      <td>0_1518</td>\n",
       "      <td>2021-07-20 13:21:29.043970</td>\n",
       "      <td>s_64849</td>\n",
       "      <td>c_103</td>\n",
       "      <td>f</td>\n",
       "      <td>1986.0</td>\n",
       "      <td>4.18</td>\n",
       "      <td>0.0</td>\n",
       "      <td>21-07-20</td>\n",
       "      <td>21-07</td>\n",
       "      <td>36.0</td>\n",
       "      <td>(35, 45]</td>\n",
       "    </tr>\n",
       "    <tr>\n",
       "      <th>2</th>\n",
       "      <td>0_1518</td>\n",
       "      <td>2022-08-20 13:21:29.043970</td>\n",
       "      <td>s_255965</td>\n",
       "      <td>c_103</td>\n",
       "      <td>f</td>\n",
       "      <td>1986.0</td>\n",
       "      <td>4.18</td>\n",
       "      <td>0.0</td>\n",
       "      <td>22-08-20</td>\n",
       "      <td>22-08</td>\n",
       "      <td>36.0</td>\n",
       "      <td>(35, 45]</td>\n",
       "    </tr>\n",
       "    <tr>\n",
       "      <th>12</th>\n",
       "      <td>0_1518</td>\n",
       "      <td>2022-05-27 12:41:28.779302</td>\n",
       "      <td>s_214775</td>\n",
       "      <td>c_7456</td>\n",
       "      <td>f</td>\n",
       "      <td>1985.0</td>\n",
       "      <td>4.18</td>\n",
       "      <td>0.0</td>\n",
       "      <td>22-05-27</td>\n",
       "      <td>22-05</td>\n",
       "      <td>37.0</td>\n",
       "      <td>(35, 45]</td>\n",
       "    </tr>\n",
       "    <tr>\n",
       "      <th>13</th>\n",
       "      <td>0_1518</td>\n",
       "      <td>2021-11-27 12:41:28.779302</td>\n",
       "      <td>s_125853</td>\n",
       "      <td>c_7456</td>\n",
       "      <td>f</td>\n",
       "      <td>1985.0</td>\n",
       "      <td>4.18</td>\n",
       "      <td>0.0</td>\n",
       "      <td>21-11-27</td>\n",
       "      <td>21-11</td>\n",
       "      <td>37.0</td>\n",
       "      <td>(35, 45]</td>\n",
       "    </tr>\n",
       "  </tbody>\n",
       "</table>\n",
       "</div>"
      ],
      "text/plain": [
       "   id_prod                       date session_id client_id sex   birth  price  \\\n",
       "0   0_1518 2022-05-20 13:21:29.043970   s_211425     c_103   f  1986.0   4.18   \n",
       "1   0_1518 2021-07-20 13:21:29.043970    s_64849     c_103   f  1986.0   4.18   \n",
       "2   0_1518 2022-08-20 13:21:29.043970   s_255965     c_103   f  1986.0   4.18   \n",
       "12  0_1518 2022-05-27 12:41:28.779302   s_214775    c_7456   f  1985.0   4.18   \n",
       "13  0_1518 2021-11-27 12:41:28.779302   s_125853    c_7456   f  1985.0   4.18   \n",
       "\n",
       "    categ   dateymd dateym   age   agebins  \n",
       "0     0.0  22-05-20  22-05  36.0  (35, 45]  \n",
       "1     0.0  21-07-20  21-07  36.0  (35, 45]  \n",
       "2     0.0  22-08-20  22-08  36.0  (35, 45]  \n",
       "12    0.0  22-05-27  22-05  37.0  (35, 45]  \n",
       "13    0.0  21-11-27  21-11  37.0  (35, 45]  "
      ]
     },
     "execution_count": 93,
     "metadata": {},
     "output_type": "execute_result"
    }
   ],
   "source": [
    "#Rappel du df transactions \n",
    "\n",
    "transactions.head()"
   ]
  },
  {
   "cell_type": "code",
   "execution_count": 94,
   "id": "b8e8fbd4",
   "metadata": {},
   "outputs": [
    {
     "data": {
      "text/html": [
       "<div>\n",
       "<style scoped>\n",
       "    .dataframe tbody tr th:only-of-type {\n",
       "        vertical-align: middle;\n",
       "    }\n",
       "\n",
       "    .dataframe tbody tr th {\n",
       "        vertical-align: top;\n",
       "    }\n",
       "\n",
       "    .dataframe thead th {\n",
       "        text-align: right;\n",
       "    }\n",
       "</style>\n",
       "<table border=\"1\" class=\"dataframe\">\n",
       "  <thead>\n",
       "    <tr style=\"text-align: right;\">\n",
       "      <th></th>\n",
       "      <th>client_id</th>\n",
       "      <th>age</th>\n",
       "      <th>session_id</th>\n",
       "      <th>f</th>\n",
       "    </tr>\n",
       "  </thead>\n",
       "  <tbody>\n",
       "    <tr>\n",
       "      <th>5284</th>\n",
       "      <td>c_577</td>\n",
       "      <td>93.0</td>\n",
       "      <td>113</td>\n",
       "      <td>9.416667</td>\n",
       "    </tr>\n",
       "    <tr>\n",
       "      <th>8157</th>\n",
       "      <td>c_8362</td>\n",
       "      <td>93.0</td>\n",
       "      <td>49</td>\n",
       "      <td>4.083333</td>\n",
       "    </tr>\n",
       "    <tr>\n",
       "      <th>4766</th>\n",
       "      <td>c_5302</td>\n",
       "      <td>93.0</td>\n",
       "      <td>37</td>\n",
       "      <td>3.083333</td>\n",
       "    </tr>\n",
       "    <tr>\n",
       "      <th>4075</th>\n",
       "      <td>c_4679</td>\n",
       "      <td>92.0</td>\n",
       "      <td>4</td>\n",
       "      <td>0.333333</td>\n",
       "    </tr>\n",
       "    <tr>\n",
       "      <th>2462</th>\n",
       "      <td>c_3218</td>\n",
       "      <td>92.0</td>\n",
       "      <td>6</td>\n",
       "      <td>0.500000</td>\n",
       "    </tr>\n",
       "    <tr>\n",
       "      <th>2804</th>\n",
       "      <td>c_353</td>\n",
       "      <td>92.0</td>\n",
       "      <td>51</td>\n",
       "      <td>4.250000</td>\n",
       "    </tr>\n",
       "    <tr>\n",
       "      <th>6905</th>\n",
       "      <td>c_7232</td>\n",
       "      <td>92.0</td>\n",
       "      <td>161</td>\n",
       "      <td>13.416667</td>\n",
       "    </tr>\n",
       "    <tr>\n",
       "      <th>4224</th>\n",
       "      <td>c_4812</td>\n",
       "      <td>91.0</td>\n",
       "      <td>71</td>\n",
       "      <td>5.916667</td>\n",
       "    </tr>\n",
       "    <tr>\n",
       "      <th>3524</th>\n",
       "      <td>c_418</td>\n",
       "      <td>91.0</td>\n",
       "      <td>24</td>\n",
       "      <td>2.000000</td>\n",
       "    </tr>\n",
       "    <tr>\n",
       "      <th>3696</th>\n",
       "      <td>c_4334</td>\n",
       "      <td>91.0</td>\n",
       "      <td>46</td>\n",
       "      <td>3.833333</td>\n",
       "    </tr>\n",
       "  </tbody>\n",
       "</table>\n",
       "</div>"
      ],
      "text/plain": [
       "     client_id   age  session_id          f\n",
       "5284     c_577  93.0         113   9.416667\n",
       "8157    c_8362  93.0          49   4.083333\n",
       "4766    c_5302  93.0          37   3.083333\n",
       "4075    c_4679  92.0           4   0.333333\n",
       "2462    c_3218  92.0           6   0.500000\n",
       "2804     c_353  92.0          51   4.250000\n",
       "6905    c_7232  92.0         161  13.416667\n",
       "4224    c_4812  91.0          71   5.916667\n",
       "3524     c_418  91.0          24   2.000000\n",
       "3696    c_4334  91.0          46   3.833333"
      ]
     },
     "execution_count": 94,
     "metadata": {},
     "output_type": "execute_result"
    }
   ],
   "source": [
    "#Agrégation des données selon l'âge client\n",
    "#Le nombre d'achat mensuel est obtenu à partir du comptage des sessions clients par mois\n",
    "#Hypothèse 1 session_id = 1 transation\n",
    "customers_freq = transactions.groupby(['client_id','age'])['session_id'].count().reset_index()\n",
    "\n",
    "#Création d'une variable fréquence 'f'\n",
    "customers_freq['f'] = customers_freq['session_id'] / 12\n",
    "customers_freq.sort_values(by='age', ascending=False).head(10)"
   ]
  },
  {
   "cell_type": "code",
   "execution_count": 95,
   "id": "ef938fcb",
   "metadata": {
    "scrolled": true
   },
   "outputs": [
    {
     "data": {
      "image/png": "[encoded data removed]",
      "text/plain": [
       "<Figure size 432x288 with 1 Axes>"
      ]
     },
     "metadata": {
      "needs_background": "light"
     },
     "output_type": "display_data"
    }
   ],
   "source": [
    "plt.plot(customers_freq.age, customers_freq.f, 'o')\n",
    "plt.xlabel('âge')\n",
    "plt.ylabel('Fréquence achat')\n",
    "plt.title('Fréquence des achats selon âge du client')\n",
    "plt.show()"
   ]
  },
  {
   "cell_type": "code",
   "execution_count": 96,
   "id": "71eac5c5",
   "metadata": {},
   "outputs": [
    {
     "name": "stderr",
     "output_type": "stream",
     "text": [
      "C:\\Users\\Juliette\\anaconda3\\lib\\site-packages\\scipy\\stats\\morestats.py:1681: UserWarning: p-value may not be accurate for N > 5000.\n",
      "  warnings.warn(\"p-value may not be accurate for N > 5000.\")\n"
     ]
    },
    {
     "data": {
      "text/plain": [
       "ShapiroResult(statistic=0.9697239398956299, pvalue=4.617258821771772e-39)"
      ]
     },
     "execution_count": 96,
     "metadata": {},
     "output_type": "execute_result"
    }
   ],
   "source": [
    "#Test normalité\n",
    "st.shapiro(customers_freq.age)"
   ]
  },
  {
   "cell_type": "markdown",
   "id": "1cc69faf",
   "metadata": {},
   "source": [
    "La pvalue se situe en dessous de 5%, il n'y a pas independance des variables, rejet de H0."
   ]
  },
  {
   "cell_type": "code",
   "execution_count": 97,
   "id": "5eee9f27",
   "metadata": {},
   "outputs": [
    {
     "data": {
      "text/plain": [
       "AndersonResult(statistic=53.76121903897183, critical_values=array([0.576, 0.656, 0.787, 0.918, 1.091]), significance_level=array([15. , 10. ,  5. ,  2.5,  1. ]))"
      ]
     },
     "execution_count": 97,
     "metadata": {},
     "output_type": "execute_result"
    }
   ],
   "source": [
    "st.anderson(customers_freq.age, dist = 'norm')"
   ]
  },
  {
   "cell_type": "markdown",
   "id": "51d09e5e",
   "metadata": {},
   "source": [
    "le resultat est au dessus de la valeur critique de 5%, rejet de h0\n",
    "La variable ne suit pas une distribution normale"
   ]
  },
  {
   "cell_type": "code",
   "execution_count": 98,
   "id": "da70cfd8",
   "metadata": {},
   "outputs": [
    {
     "name": "stdout",
     "output_type": "stream",
     "text": [
      "0.0328799895074796\n",
      "3.031557736691203\n"
     ]
    }
   ],
   "source": [
    "# coefficient de Pearson et la covariance\n",
    "print(st.pearsonr(customers_freq['age'],customers_freq['f'])[0])\n",
    "print(np.cov(customers_freq[\"age\"],customers_freq[\"f\"],ddof=0)[1,0])"
   ]
  },
  {
   "cell_type": "markdown",
   "id": "0d0c0a85",
   "metadata": {},
   "source": [
    "Il existe une correlation entre la fréquence d'achat et l'âge mais elle semble exister par groupe d'âge, cela confirme notre h1"
   ]
  },
  {
   "cell_type": "markdown",
   "id": "42e43987",
   "metadata": {},
   "source": [
    "## Analyse de la corrélation entre l'âge clients et la taille du panier moyen"
   ]
  },
  {
   "cell_type": "markdown",
   "id": "4bd0bf86",
   "metadata": {},
   "source": [
    "quanti quanti"
   ]
  },
  {
   "cell_type": "code",
   "execution_count": 99,
   "id": "f33904c6",
   "metadata": {},
   "outputs": [
    {
     "data": {
      "text/html": [
       "<div>\n",
       "<style scoped>\n",
       "    .dataframe tbody tr th:only-of-type {\n",
       "        vertical-align: middle;\n",
       "    }\n",
       "\n",
       "    .dataframe tbody tr th {\n",
       "        vertical-align: top;\n",
       "    }\n",
       "\n",
       "    .dataframe thead th {\n",
       "        text-align: right;\n",
       "    }\n",
       "</style>\n",
       "<table border=\"1\" class=\"dataframe\">\n",
       "  <thead>\n",
       "    <tr style=\"text-align: right;\">\n",
       "      <th></th>\n",
       "      <th>id_prod</th>\n",
       "      <th>date</th>\n",
       "      <th>session_id</th>\n",
       "      <th>client_id</th>\n",
       "      <th>sex</th>\n",
       "      <th>birth</th>\n",
       "      <th>price</th>\n",
       "      <th>categ</th>\n",
       "      <th>dateymd</th>\n",
       "      <th>dateym</th>\n",
       "      <th>age</th>\n",
       "      <th>agebins</th>\n",
       "    </tr>\n",
       "  </thead>\n",
       "  <tbody>\n",
       "    <tr>\n",
       "      <th>0</th>\n",
       "      <td>0_1518</td>\n",
       "      <td>2022-05-20 13:21:29.043970</td>\n",
       "      <td>s_211425</td>\n",
       "      <td>c_103</td>\n",
       "      <td>f</td>\n",
       "      <td>1986.0</td>\n",
       "      <td>4.18</td>\n",
       "      <td>0.0</td>\n",
       "      <td>22-05-20</td>\n",
       "      <td>22-05</td>\n",
       "      <td>36.0</td>\n",
       "      <td>(35, 45]</td>\n",
       "    </tr>\n",
       "    <tr>\n",
       "      <th>1</th>\n",
       "      <td>0_1518</td>\n",
       "      <td>2021-07-20 13:21:29.043970</td>\n",
       "      <td>s_64849</td>\n",
       "      <td>c_103</td>\n",
       "      <td>f</td>\n",
       "      <td>1986.0</td>\n",
       "      <td>4.18</td>\n",
       "      <td>0.0</td>\n",
       "      <td>21-07-20</td>\n",
       "      <td>21-07</td>\n",
       "      <td>36.0</td>\n",
       "      <td>(35, 45]</td>\n",
       "    </tr>\n",
       "    <tr>\n",
       "      <th>2</th>\n",
       "      <td>0_1518</td>\n",
       "      <td>2022-08-20 13:21:29.043970</td>\n",
       "      <td>s_255965</td>\n",
       "      <td>c_103</td>\n",
       "      <td>f</td>\n",
       "      <td>1986.0</td>\n",
       "      <td>4.18</td>\n",
       "      <td>0.0</td>\n",
       "      <td>22-08-20</td>\n",
       "      <td>22-08</td>\n",
       "      <td>36.0</td>\n",
       "      <td>(35, 45]</td>\n",
       "    </tr>\n",
       "    <tr>\n",
       "      <th>12</th>\n",
       "      <td>0_1518</td>\n",
       "      <td>2022-05-27 12:41:28.779302</td>\n",
       "      <td>s_214775</td>\n",
       "      <td>c_7456</td>\n",
       "      <td>f</td>\n",
       "      <td>1985.0</td>\n",
       "      <td>4.18</td>\n",
       "      <td>0.0</td>\n",
       "      <td>22-05-27</td>\n",
       "      <td>22-05</td>\n",
       "      <td>37.0</td>\n",
       "      <td>(35, 45]</td>\n",
       "    </tr>\n",
       "    <tr>\n",
       "      <th>13</th>\n",
       "      <td>0_1518</td>\n",
       "      <td>2021-11-27 12:41:28.779302</td>\n",
       "      <td>s_125853</td>\n",
       "      <td>c_7456</td>\n",
       "      <td>f</td>\n",
       "      <td>1985.0</td>\n",
       "      <td>4.18</td>\n",
       "      <td>0.0</td>\n",
       "      <td>21-11-27</td>\n",
       "      <td>21-11</td>\n",
       "      <td>37.0</td>\n",
       "      <td>(35, 45]</td>\n",
       "    </tr>\n",
       "  </tbody>\n",
       "</table>\n",
       "</div>"
      ],
      "text/plain": [
       "   id_prod                       date session_id client_id sex   birth  price  \\\n",
       "0   0_1518 2022-05-20 13:21:29.043970   s_211425     c_103   f  1986.0   4.18   \n",
       "1   0_1518 2021-07-20 13:21:29.043970    s_64849     c_103   f  1986.0   4.18   \n",
       "2   0_1518 2022-08-20 13:21:29.043970   s_255965     c_103   f  1986.0   4.18   \n",
       "12  0_1518 2022-05-27 12:41:28.779302   s_214775    c_7456   f  1985.0   4.18   \n",
       "13  0_1518 2021-11-27 12:41:28.779302   s_125853    c_7456   f  1985.0   4.18   \n",
       "\n",
       "    categ   dateymd dateym   age   agebins  \n",
       "0     0.0  22-05-20  22-05  36.0  (35, 45]  \n",
       "1     0.0  21-07-20  21-07  36.0  (35, 45]  \n",
       "2     0.0  22-08-20  22-08  36.0  (35, 45]  \n",
       "12    0.0  22-05-27  22-05  37.0  (35, 45]  \n",
       "13    0.0  21-11-27  21-11  37.0  (35, 45]  "
      ]
     },
     "execution_count": 99,
     "metadata": {},
     "output_type": "execute_result"
    }
   ],
   "source": [
    "transactions.head()"
   ]
  },
  {
   "cell_type": "code",
   "execution_count": 100,
   "id": "922b9ac2",
   "metadata": {},
   "outputs": [
    {
     "data": {
      "text/html": [
       "<div>\n",
       "<style scoped>\n",
       "    .dataframe tbody tr th:only-of-type {\n",
       "        vertical-align: middle;\n",
       "    }\n",
       "\n",
       "    .dataframe tbody tr th {\n",
       "        vertical-align: top;\n",
       "    }\n",
       "\n",
       "    .dataframe thead th {\n",
       "        text-align: right;\n",
       "    }\n",
       "</style>\n",
       "<table border=\"1\" class=\"dataframe\">\n",
       "  <thead>\n",
       "    <tr style=\"text-align: right;\">\n",
       "      <th></th>\n",
       "      <th>age</th>\n",
       "      <th>client_id</th>\n",
       "      <th>session_id</th>\n",
       "      <th>id_prod</th>\n",
       "    </tr>\n",
       "  </thead>\n",
       "  <tbody>\n",
       "    <tr>\n",
       "      <th>0</th>\n",
       "      <td>18.0</td>\n",
       "      <td>c_1042</td>\n",
       "      <td>s_153184</td>\n",
       "      <td>3</td>\n",
       "    </tr>\n",
       "    <tr>\n",
       "      <th>1</th>\n",
       "      <td>18.0</td>\n",
       "      <td>c_1042</td>\n",
       "      <td>s_169156</td>\n",
       "      <td>1</td>\n",
       "    </tr>\n",
       "    <tr>\n",
       "      <th>2</th>\n",
       "      <td>18.0</td>\n",
       "      <td>c_1042</td>\n",
       "      <td>s_183109</td>\n",
       "      <td>1</td>\n",
       "    </tr>\n",
       "    <tr>\n",
       "      <th>3</th>\n",
       "      <td>18.0</td>\n",
       "      <td>c_1042</td>\n",
       "      <td>s_272184</td>\n",
       "      <td>1</td>\n",
       "    </tr>\n",
       "    <tr>\n",
       "      <th>4</th>\n",
       "      <td>18.0</td>\n",
       "      <td>c_1042</td>\n",
       "      <td>s_317115</td>\n",
       "      <td>1</td>\n",
       "    </tr>\n",
       "  </tbody>\n",
       "</table>\n",
       "</div>"
      ],
      "text/plain": [
       "    age client_id session_id  id_prod\n",
       "0  18.0    c_1042   s_153184        3\n",
       "1  18.0    c_1042   s_169156        1\n",
       "2  18.0    c_1042   s_183109        1\n",
       "3  18.0    c_1042   s_272184        1\n",
       "4  18.0    c_1042   s_317115        1"
      ]
     },
     "execution_count": 100,
     "metadata": {},
     "output_type": "execute_result"
    }
   ],
   "source": [
    "# agrégation selon l'age client en moyenne de produits achetés \n",
    "customers = transactions.groupby(['age','client_id', 'session_id'])['id_prod'].count().reset_index()\n",
    "customers.head() "
   ]
  },
  {
   "cell_type": "code",
   "execution_count": 101,
   "id": "c24608b1",
   "metadata": {},
   "outputs": [
    {
     "data": {
      "text/html": [
       "<div>\n",
       "<style scoped>\n",
       "    .dataframe tbody tr th:only-of-type {\n",
       "        vertical-align: middle;\n",
       "    }\n",
       "\n",
       "    .dataframe tbody tr th {\n",
       "        vertical-align: top;\n",
       "    }\n",
       "\n",
       "    .dataframe thead th {\n",
       "        text-align: right;\n",
       "    }\n",
       "</style>\n",
       "<table border=\"1\" class=\"dataframe\">\n",
       "  <thead>\n",
       "    <tr style=\"text-align: right;\">\n",
       "      <th></th>\n",
       "      <th>age</th>\n",
       "      <th>client_id</th>\n",
       "      <th>id_prod</th>\n",
       "    </tr>\n",
       "  </thead>\n",
       "  <tbody>\n",
       "    <tr>\n",
       "      <th>0</th>\n",
       "      <td>18.0</td>\n",
       "      <td>c_1042</td>\n",
       "      <td>1.500000</td>\n",
       "    </tr>\n",
       "    <tr>\n",
       "      <th>1</th>\n",
       "      <td>18.0</td>\n",
       "      <td>c_1046</td>\n",
       "      <td>2.785714</td>\n",
       "    </tr>\n",
       "    <tr>\n",
       "      <th>2</th>\n",
       "      <td>18.0</td>\n",
       "      <td>c_1065</td>\n",
       "      <td>1.368421</td>\n",
       "    </tr>\n",
       "    <tr>\n",
       "      <th>3</th>\n",
       "      <td>18.0</td>\n",
       "      <td>c_1088</td>\n",
       "      <td>1.181818</td>\n",
       "    </tr>\n",
       "    <tr>\n",
       "      <th>4</th>\n",
       "      <td>18.0</td>\n",
       "      <td>c_109</td>\n",
       "      <td>1.400000</td>\n",
       "    </tr>\n",
       "  </tbody>\n",
       "</table>\n",
       "</div>"
      ],
      "text/plain": [
       "    age client_id   id_prod\n",
       "0  18.0    c_1042  1.500000\n",
       "1  18.0    c_1046  2.785714\n",
       "2  18.0    c_1065  1.368421\n",
       "3  18.0    c_1088  1.181818\n",
       "4  18.0     c_109  1.400000"
      ]
     },
     "execution_count": 101,
     "metadata": {},
     "output_type": "execute_result"
    }
   ],
   "source": [
    "customers = customers.groupby(['age','client_id'])['id_prod'].mean().reset_index()\n",
    "customers.head()"
   ]
  },
  {
   "cell_type": "code",
   "execution_count": 102,
   "id": "42b3bce8",
   "metadata": {},
   "outputs": [
    {
     "data": {
      "image/png": "[encoded data removed]",
      "text/plain": [
       "<Figure size 432x288 with 1 Axes>"
      ]
     },
     "metadata": {
      "needs_background": "light"
     },
     "output_type": "display_data"
    }
   ],
   "source": [
    "#Visualisation avec un nuage de point (âge client vs taille panier moyen)\n",
    "plt.plot(customers['age'], customers['id_prod'], 'o')\n",
    "\n",
    "plt.xlabel('age')\n",
    "plt.ylabel('Panier moyen (Nbe de produits)')\n",
    "plt.title('Panier moyen en nombre de produits selon l\\'age client')\n",
    "plt.show()"
   ]
  },
  {
   "cell_type": "markdown",
   "id": "a6cb38c3",
   "metadata": {},
   "source": [
    "on voit que ce n'est pas très significatif même si l'on aperçoit un creux entre 30 et 50ans "
   ]
  },
  {
   "cell_type": "code",
   "execution_count": 103,
   "id": "21a82e0e",
   "metadata": {
    "scrolled": true
   },
   "outputs": [
    {
     "name": "stderr",
     "output_type": "stream",
     "text": [
      "C:\\Users\\Juliette\\anaconda3\\lib\\site-packages\\scipy\\stats\\morestats.py:1681: UserWarning: p-value may not be accurate for N > 5000.\n",
      "  warnings.warn(\"p-value may not be accurate for N > 5000.\")\n"
     ]
    },
    {
     "data": {
      "text/plain": [
       "ShapiroResult(statistic=0.9697239398956299, pvalue=4.617258821771772e-39)"
      ]
     },
     "execution_count": 103,
     "metadata": {},
     "output_type": "execute_result"
    }
   ],
   "source": [
    "#Test normalité\n",
    "st.shapiro(customers.age)"
   ]
  },
  {
   "cell_type": "code",
   "execution_count": 104,
   "id": "e02c2232",
   "metadata": {},
   "outputs": [
    {
     "data": {
      "text/plain": [
       "AndersonResult(statistic=53.76121903895182, critical_values=array([0.576, 0.656, 0.787, 0.918, 1.091]), significance_level=array([15. , 10. ,  5. ,  2.5,  1. ]))"
      ]
     },
     "execution_count": 104,
     "metadata": {},
     "output_type": "execute_result"
    }
   ],
   "source": [
    "st.anderson(customers.age, dist = 'norm')"
   ]
  },
  {
   "cell_type": "markdown",
   "id": "059727e5",
   "metadata": {},
   "source": [
    "le resultat est au dessus de la valeur critique de 5%, rejet de h0\n",
    "La variable ne suit pas une distribution normale"
   ]
  },
  {
   "cell_type": "code",
   "execution_count": 105,
   "id": "b02d7ecf",
   "metadata": {},
   "outputs": [
    {
     "name": "stdout",
     "output_type": "stream",
     "text": [
      "-0.2073199561447297\n",
      "-2.375178754705033\n"
     ]
    }
   ],
   "source": [
    "# coefficient de Pearson et la covariance\n",
    "print(st.pearsonr(customers['age'],customers['id_prod'])[0])\n",
    "print(np.cov(customers[\"age\"],customers[\"id_prod\"],ddof=0)[1,0])"
   ]
  },
  {
   "cell_type": "markdown",
   "id": "af631ef3",
   "metadata": {},
   "source": [
    "Pearson doit se situer entre 1 et -1 pour affimer l'indépendance des variables et valider notre hypothèse H0, ici il est de -0,207 ce n'est pas suffisant, on peut alors dire que nos variables sont corrélées et l'hypothèse 1 se verifie mais le graphique n'est pas très significatif.\n",
    "\n",
    "On va regarder par tranches d'âge pour avoir une vision plus elargie ."
   ]
  },
  {
   "cell_type": "code",
   "execution_count": 106,
   "id": "7bb13000",
   "metadata": {},
   "outputs": [
    {
     "data": {
      "text/html": [
       "<div>\n",
       "<style scoped>\n",
       "    .dataframe tbody tr th:only-of-type {\n",
       "        vertical-align: middle;\n",
       "    }\n",
       "\n",
       "    .dataframe tbody tr th {\n",
       "        vertical-align: top;\n",
       "    }\n",
       "\n",
       "    .dataframe thead th {\n",
       "        text-align: right;\n",
       "    }\n",
       "</style>\n",
       "<table border=\"1\" class=\"dataframe\">\n",
       "  <thead>\n",
       "    <tr style=\"text-align: right;\">\n",
       "      <th></th>\n",
       "      <th>agebins</th>\n",
       "      <th>client_id</th>\n",
       "      <th>session_id</th>\n",
       "      <th>id_prod</th>\n",
       "    </tr>\n",
       "  </thead>\n",
       "  <tbody>\n",
       "    <tr>\n",
       "      <th>0</th>\n",
       "      <td>(18, 25]</td>\n",
       "      <td>c_101</td>\n",
       "      <td>s_132887</td>\n",
       "      <td>1</td>\n",
       "    </tr>\n",
       "    <tr>\n",
       "      <th>1</th>\n",
       "      <td>(18, 25]</td>\n",
       "      <td>c_101</td>\n",
       "      <td>s_147349</td>\n",
       "      <td>1</td>\n",
       "    </tr>\n",
       "    <tr>\n",
       "      <th>2</th>\n",
       "      <td>(18, 25]</td>\n",
       "      <td>c_101</td>\n",
       "      <td>s_156526</td>\n",
       "      <td>2</td>\n",
       "    </tr>\n",
       "    <tr>\n",
       "      <th>3</th>\n",
       "      <td>(18, 25]</td>\n",
       "      <td>c_101</td>\n",
       "      <td>s_222270</td>\n",
       "      <td>1</td>\n",
       "    </tr>\n",
       "    <tr>\n",
       "      <th>4</th>\n",
       "      <td>(18, 25]</td>\n",
       "      <td>c_101</td>\n",
       "      <td>s_259837</td>\n",
       "      <td>2</td>\n",
       "    </tr>\n",
       "  </tbody>\n",
       "</table>\n",
       "</div>"
      ],
      "text/plain": [
       "    agebins client_id session_id  id_prod\n",
       "0  (18, 25]     c_101   s_132887        1\n",
       "1  (18, 25]     c_101   s_147349        1\n",
       "2  (18, 25]     c_101   s_156526        2\n",
       "3  (18, 25]     c_101   s_222270        1\n",
       "4  (18, 25]     c_101   s_259837        2"
      ]
     },
     "execution_count": 106,
     "metadata": {},
     "output_type": "execute_result"
    }
   ],
   "source": [
    "customers = transactions.groupby(['agebins','client_id', 'session_id'])['id_prod'].count().reset_index()\n",
    "customers.head() "
   ]
  },
  {
   "cell_type": "code",
   "execution_count": 107,
   "id": "537bc5bc",
   "metadata": {},
   "outputs": [
    {
     "data": {
      "text/html": [
       "<div>\n",
       "<style scoped>\n",
       "    .dataframe tbody tr th:only-of-type {\n",
       "        vertical-align: middle;\n",
       "    }\n",
       "\n",
       "    .dataframe tbody tr th {\n",
       "        vertical-align: top;\n",
       "    }\n",
       "\n",
       "    .dataframe thead th {\n",
       "        text-align: right;\n",
       "    }\n",
       "</style>\n",
       "<table border=\"1\" class=\"dataframe\">\n",
       "  <thead>\n",
       "    <tr style=\"text-align: right;\">\n",
       "      <th></th>\n",
       "      <th>agebins</th>\n",
       "      <th>client_id</th>\n",
       "      <th>id_prod</th>\n",
       "    </tr>\n",
       "  </thead>\n",
       "  <tbody>\n",
       "    <tr>\n",
       "      <th>0</th>\n",
       "      <td>(18, 25]</td>\n",
       "      <td>c_101</td>\n",
       "      <td>2.000000</td>\n",
       "    </tr>\n",
       "    <tr>\n",
       "      <th>1</th>\n",
       "      <td>(18, 25]</td>\n",
       "      <td>c_1011</td>\n",
       "      <td>3.619048</td>\n",
       "    </tr>\n",
       "    <tr>\n",
       "      <th>2</th>\n",
       "      <td>(18, 25]</td>\n",
       "      <td>c_1021</td>\n",
       "      <td>1.000000</td>\n",
       "    </tr>\n",
       "    <tr>\n",
       "      <th>3</th>\n",
       "      <td>(18, 25]</td>\n",
       "      <td>c_1023</td>\n",
       "      <td>1.658537</td>\n",
       "    </tr>\n",
       "    <tr>\n",
       "      <th>4</th>\n",
       "      <td>(18, 25]</td>\n",
       "      <td>c_1026</td>\n",
       "      <td>1.562500</td>\n",
       "    </tr>\n",
       "  </tbody>\n",
       "</table>\n",
       "</div>"
      ],
      "text/plain": [
       "    agebins client_id   id_prod\n",
       "0  (18, 25]     c_101  2.000000\n",
       "1  (18, 25]    c_1011  3.619048\n",
       "2  (18, 25]    c_1021  1.000000\n",
       "3  (18, 25]    c_1023  1.658537\n",
       "4  (18, 25]    c_1026  1.562500"
      ]
     },
     "execution_count": 107,
     "metadata": {},
     "output_type": "execute_result"
    }
   ],
   "source": [
    "customers = customers.groupby(['agebins','client_id'])['id_prod'].mean().reset_index()\n",
    "customers.head()"
   ]
  },
  {
   "cell_type": "code",
   "execution_count": 108,
   "id": "1713a21e",
   "metadata": {
    "scrolled": true
   },
   "outputs": [
    {
     "data": {
      "image/png": "[encoded data removed]",
      "text/plain": [
       "<Figure size 432x288 with 1 Axes>"
      ]
     },
     "metadata": {
      "needs_background": "light"
     },
     "output_type": "display_data"
    }
   ],
   "source": [
    "#Visualisation avec scatterplot selon les groupes d'individus identifiés\n",
    "sns.histplot(customers.agebins)\n",
    "\n",
    "\n",
    "plt.xlabel('age')\n",
    "plt.ylabel('Panier moyen (Nbe de produits)')\n",
    "plt.title('Panier moyen en nombre de produits selon l\\'age client')\n",
    "\n",
    "plt.show()"
   ]
  },
  {
   "cell_type": "code",
   "execution_count": 109,
   "id": "eb7969a8",
   "metadata": {},
   "outputs": [
    {
     "name": "stdout",
     "output_type": "stream",
     "text": [
      "Corrélation de Spearman: SpearmanrResult(correlation=-0.6737935748462065, pvalue=2.5520940213877932e-11)\n"
     ]
    }
   ],
   "source": [
    "# Lien entre l'age et la taille du panier:\n",
    "nbr_achats_age = transactions.groupby([\"age\"])[\"session_id\"].count()\n",
    "\n",
    "# Correlation :\n",
    "print(\"Corrélation de Spearman:\", st.spearmanr(nbr_achats_age.index,nbr_achats_age.values))"
   ]
  },
  {
   "cell_type": "markdown",
   "id": "4fed3791",
   "metadata": {},
   "source": [
    "La pvalue étant inferieure à 5%, on ne peut pas declarer l'indépendance des variables, on rejette HO au profit de H1 puisque les variables sont corrélées,une correlation entre nombre produit et âge client mais par groupe plus que ensemble."
   ]
  },
  {
   "cell_type": "markdown",
   "id": "05f88071",
   "metadata": {},
   "source": [
    "## Y a-t-il une corrélation entre l'âge des clients et Les catégories de produits achetés."
   ]
  },
  {
   "cell_type": "markdown",
   "id": "6b927b8f",
   "metadata": {},
   "source": [
    "quanti quali\n",
    "\n",
    "On pose les hypothèses : \n",
    "\n",
    "H0 : Il n'y a pas corrélation entre les variables\n",
    "\n",
    "H1 : Il y a une relation entre les variables"
   ]
  },
  {
   "cell_type": "code",
   "execution_count": 110,
   "id": "b65dd18c",
   "metadata": {},
   "outputs": [
    {
     "data": {
      "image/png": "[encoded data removed]",
      "text/plain": [
       "<Figure size 432x288 with 1 Axes>"
      ]
     },
     "metadata": {
      "needs_background": "light"
     },
     "output_type": "display_data"
    }
   ],
   "source": [
    "X = \"categ\" # qualitative\n",
    "Y = \"age\" # quantitative\n",
    "modalites = transactions[X].unique()\n",
    "groupes = []\n",
    "for m in modalites:\n",
    "    groupes.append(transactions[transactions[X]==m][Y])\n",
    "\n",
    "# Propriétés graphiques (pas très importantes)    \n",
    "medianprops = {'color':\"black\"}\n",
    "meanprops = {'marker':'o', 'markeredgecolor':'black',\n",
    "            'markerfacecolor':'firebrick'}\n",
    "    \n",
    "plt.boxplot(groupes, labels=modalites, showfliers=False, medianprops=medianprops, \n",
    "            vert=False, patch_artist=True, showmeans=True, meanprops=meanprops)\n",
    "plt.show()"
   ]
  },
  {
   "cell_type": "markdown",
   "id": "87349de0",
   "metadata": {},
   "source": [
    "Les points rouges au milieu de chaque boîte à moustaches représentent la moyenne des valeurs et le trait noir, la mediane. "
   ]
  },
  {
   "cell_type": "code",
   "execution_count": 111,
   "id": "3f1b3aa4",
   "metadata": {},
   "outputs": [],
   "source": [
    "def eta_squared(x,y):\n",
    "    moyenne_y = y.mean()\n",
    "    classes = []\n",
    "    for classe in x.unique():\n",
    "        yi_classe = y[x==classe]\n",
    "        classes.append({'ni': len(yi_classe),\n",
    "                        'moyenne_classe': yi_classe.mean()})\n",
    "    SCT = sum([(yj-moyenne_y)**2 for yj in y])\n",
    "    SCE = sum([c['ni']*(c['moyenne_classe']-moyenne_y)**2 for c in classes])\n",
    "    return SCE/SCT\n",
    "    "
   ]
  },
  {
   "cell_type": "code",
   "execution_count": 112,
   "id": "de379c0b",
   "metadata": {},
   "outputs": [
    {
     "data": {
      "text/plain": [
       "0.11326222946705358"
      ]
     },
     "execution_count": 112,
     "metadata": {},
     "output_type": "execute_result"
    }
   ],
   "source": [
    "eta_squared(transactions[X],transactions[Y])"
   ]
  },
  {
   "cell_type": "markdown",
   "id": "106efb98",
   "metadata": {},
   "source": [
    "L'éta carré sert à evaluer la corrélation de facon numerique , il doit se situer entre 0 et 1 pour confirmer la correlation, ici il est de 0,113. \n",
    "\n",
    "Donne une correlation surtout grâce à la catégorie 2, confirme notre hypothèse 1"
   ]
  },
  {
   "cell_type": "code",
   "execution_count": null,
   "id": "ab0ac8a3",
   "metadata": {},
   "outputs": [],
   "source": []
  }
 ],
 "metadata": {
  "kernelspec": {
   "display_name": "Python 3",
   "language": "python",
   "name": "python3"
  },
  "language_info": {
   "codemirror_mode": {
    "name": "ipython",
    "version": 3
   },
   "file_extension": ".py",
   "mimetype": "text/x-python",
   "name": "python",
   "nbconvert_exporter": "python",
   "pygments_lexer": "ipython3",
   "version": "3.8.8"
  }
 },
 "nbformat": 4,
 "nbformat_minor": 5
}
